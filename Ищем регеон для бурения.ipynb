{
 "cells": [
  {
   "cell_type": "markdown",
   "metadata": {},
   "source": [
    "# Содержание\n",
    "* [Выбор локации для скважины](#section_id5)</a>\n",
    "* [1. Загрузка и подготовка данных](#section_id1)</a>\n",
    "* [2. Обучение и проверка модели](#section_id2)</a>\n",
    "* [3. Подготовка к расчёту прибыли](#section_id3)</a>\n",
    "* [4. Расчёт прибыли и рисков](#section_id4)</a>\n",
    "* [Вывод](#section_id7)</a>\n",
    "* [5. Чек-лист готовности проекта](#section_id6)</a>"
   ]
  },
  {
   "cell_type": "markdown",
   "metadata": {},
   "source": [
    "# Выбор локации для скважины\n",
    "<a id='section_id5'></a>"
   ]
  },
  {
   "cell_type": "markdown",
   "metadata": {},
   "source": [
    "Допустим, вы работаете в добывающей компании «ГлавРосГосНефть». Нужно решить, где бурить новую скважину.\n",
    "\n",
    "Вам предоставлены пробы нефти в трёх регионах: в каждом 10 000 месторождений, где измерили качество нефти и объём её запасов. Постройте модель машинного обучения, которая поможет определить регион, где добыча принесёт наибольшую прибыль. Проанализируйте возможную прибыль и риски техникой *Bootstrap.*\n",
    "\n",
    "Шаги для выбора локации:\n",
    "\n",
    "- В избранном регионе ищут месторождения, для каждого определяют значения признаков;\n",
    "- Строят модель и оценивают объём запасов;\n",
    "- Выбирают месторождения с самым высокими оценками значений. Количество месторождений зависит от бюджета компании и стоимости разработки одной скважины;\n",
    "- Прибыль равна суммарной прибыли отобранных месторождений."
   ]
  },
  {
   "cell_type": "markdown",
   "metadata": {},
   "source": [
    "## Загрузка и подготовка данных\n",
    "<a id='section_id1'></a>"
   ]
  },
  {
   "cell_type": "code",
   "execution_count": 1,
   "metadata": {},
   "outputs": [],
   "source": [
    "import pandas as pd\n",
    "import numpy as np\n",
    "import matplotlib.pyplot as plt"
   ]
  },
  {
   "cell_type": "code",
   "execution_count": 2,
   "metadata": {},
   "outputs": [],
   "source": [
    "from sklearn.model_selection import train_test_split\n",
    "from sklearn.linear_model import LinearRegression\n",
    "\n",
    "from sklearn.metrics import mean_squared_error\n",
    "\n",
    "from tqdm.notebook import tqdm\n"
   ]
  },
  {
   "cell_type": "code",
   "execution_count": 3,
   "metadata": {},
   "outputs": [],
   "source": [
    "geo0 = pd.read_csv('/datasets/geo_data_0.csv')\n",
    "geo1 = pd.read_csv('/datasets/geo_data_1.csv')\n",
    "geo2 = pd.read_csv('/datasets/geo_data_2.csv')"
   ]
  },
  {
   "cell_type": "markdown",
   "metadata": {},
   "source": [
    "Описание данных\n",
    "\n",
    "* id — уникальный идентификатор скважины;\n",
    "* f0, f1, f2 — три признака точек (неважно, что они означают, но сами признаки значимы);\n",
    "* product — объём запасов в скважине (тыс. баррелей)."
   ]
  },
  {
   "cell_type": "code",
   "execution_count": 4,
   "metadata": {},
   "outputs": [
    {
     "data": {
      "text/html": [
       "<div>\n",
       "<style scoped>\n",
       "    .dataframe tbody tr th:only-of-type {\n",
       "        vertical-align: middle;\n",
       "    }\n",
       "\n",
       "    .dataframe tbody tr th {\n",
       "        vertical-align: top;\n",
       "    }\n",
       "\n",
       "    .dataframe thead th {\n",
       "        text-align: right;\n",
       "    }\n",
       "</style>\n",
       "<table border=\"1\" class=\"dataframe\">\n",
       "  <thead>\n",
       "    <tr style=\"text-align: right;\">\n",
       "      <th></th>\n",
       "      <th>id</th>\n",
       "      <th>f0</th>\n",
       "      <th>f1</th>\n",
       "      <th>f2</th>\n",
       "      <th>product</th>\n",
       "    </tr>\n",
       "  </thead>\n",
       "  <tbody>\n",
       "    <tr>\n",
       "      <th>0</th>\n",
       "      <td>txEyH</td>\n",
       "      <td>0.705745</td>\n",
       "      <td>-0.497823</td>\n",
       "      <td>1.221170</td>\n",
       "      <td>105.280062</td>\n",
       "    </tr>\n",
       "    <tr>\n",
       "      <th>1</th>\n",
       "      <td>2acmU</td>\n",
       "      <td>1.334711</td>\n",
       "      <td>-0.340164</td>\n",
       "      <td>4.365080</td>\n",
       "      <td>73.037750</td>\n",
       "    </tr>\n",
       "    <tr>\n",
       "      <th>2</th>\n",
       "      <td>409Wp</td>\n",
       "      <td>1.022732</td>\n",
       "      <td>0.151990</td>\n",
       "      <td>1.419926</td>\n",
       "      <td>85.265647</td>\n",
       "    </tr>\n",
       "    <tr>\n",
       "      <th>3</th>\n",
       "      <td>iJLyR</td>\n",
       "      <td>-0.032172</td>\n",
       "      <td>0.139033</td>\n",
       "      <td>2.978566</td>\n",
       "      <td>168.620776</td>\n",
       "    </tr>\n",
       "    <tr>\n",
       "      <th>4</th>\n",
       "      <td>Xdl7t</td>\n",
       "      <td>1.988431</td>\n",
       "      <td>0.155413</td>\n",
       "      <td>4.751769</td>\n",
       "      <td>154.036647</td>\n",
       "    </tr>\n",
       "    <tr>\n",
       "      <th>...</th>\n",
       "      <td>...</td>\n",
       "      <td>...</td>\n",
       "      <td>...</td>\n",
       "      <td>...</td>\n",
       "      <td>...</td>\n",
       "    </tr>\n",
       "    <tr>\n",
       "      <th>99995</th>\n",
       "      <td>DLsed</td>\n",
       "      <td>0.971957</td>\n",
       "      <td>0.370953</td>\n",
       "      <td>6.075346</td>\n",
       "      <td>110.744026</td>\n",
       "    </tr>\n",
       "    <tr>\n",
       "      <th>99996</th>\n",
       "      <td>QKivN</td>\n",
       "      <td>1.392429</td>\n",
       "      <td>-0.382606</td>\n",
       "      <td>1.273912</td>\n",
       "      <td>122.346843</td>\n",
       "    </tr>\n",
       "    <tr>\n",
       "      <th>99997</th>\n",
       "      <td>3rnvd</td>\n",
       "      <td>1.029585</td>\n",
       "      <td>0.018787</td>\n",
       "      <td>-1.348308</td>\n",
       "      <td>64.375443</td>\n",
       "    </tr>\n",
       "    <tr>\n",
       "      <th>99998</th>\n",
       "      <td>7kl59</td>\n",
       "      <td>0.998163</td>\n",
       "      <td>-0.528582</td>\n",
       "      <td>1.583869</td>\n",
       "      <td>74.040764</td>\n",
       "    </tr>\n",
       "    <tr>\n",
       "      <th>99999</th>\n",
       "      <td>1CWhH</td>\n",
       "      <td>1.764754</td>\n",
       "      <td>-0.266417</td>\n",
       "      <td>5.722849</td>\n",
       "      <td>149.633246</td>\n",
       "    </tr>\n",
       "  </tbody>\n",
       "</table>\n",
       "<p>100000 rows × 5 columns</p>\n",
       "</div>"
      ],
      "text/plain": [
       "          id        f0        f1        f2     product\n",
       "0      txEyH  0.705745 -0.497823  1.221170  105.280062\n",
       "1      2acmU  1.334711 -0.340164  4.365080   73.037750\n",
       "2      409Wp  1.022732  0.151990  1.419926   85.265647\n",
       "3      iJLyR -0.032172  0.139033  2.978566  168.620776\n",
       "4      Xdl7t  1.988431  0.155413  4.751769  154.036647\n",
       "...      ...       ...       ...       ...         ...\n",
       "99995  DLsed  0.971957  0.370953  6.075346  110.744026\n",
       "99996  QKivN  1.392429 -0.382606  1.273912  122.346843\n",
       "99997  3rnvd  1.029585  0.018787 -1.348308   64.375443\n",
       "99998  7kl59  0.998163 -0.528582  1.583869   74.040764\n",
       "99999  1CWhH  1.764754 -0.266417  5.722849  149.633246\n",
       "\n",
       "[100000 rows x 5 columns]"
      ]
     },
     "execution_count": 4,
     "metadata": {},
     "output_type": "execute_result"
    }
   ],
   "source": [
    "geo0 #Выведим таблицу для ознокомления с ней."
   ]
  },
  {
   "cell_type": "code",
   "execution_count": 5,
   "metadata": {},
   "outputs": [
    {
     "data": {
      "text/html": [
       "<div>\n",
       "<style scoped>\n",
       "    .dataframe tbody tr th:only-of-type {\n",
       "        vertical-align: middle;\n",
       "    }\n",
       "\n",
       "    .dataframe tbody tr th {\n",
       "        vertical-align: top;\n",
       "    }\n",
       "\n",
       "    .dataframe thead th {\n",
       "        text-align: right;\n",
       "    }\n",
       "</style>\n",
       "<table border=\"1\" class=\"dataframe\">\n",
       "  <thead>\n",
       "    <tr style=\"text-align: right;\">\n",
       "      <th></th>\n",
       "      <th>id</th>\n",
       "      <th>f0</th>\n",
       "      <th>f1</th>\n",
       "      <th>f2</th>\n",
       "      <th>product</th>\n",
       "    </tr>\n",
       "  </thead>\n",
       "  <tbody>\n",
       "    <tr>\n",
       "      <th>0</th>\n",
       "      <td>kBEdx</td>\n",
       "      <td>-15.001348</td>\n",
       "      <td>-8.276000</td>\n",
       "      <td>-0.005876</td>\n",
       "      <td>3.179103</td>\n",
       "    </tr>\n",
       "    <tr>\n",
       "      <th>1</th>\n",
       "      <td>62mP7</td>\n",
       "      <td>14.272088</td>\n",
       "      <td>-3.475083</td>\n",
       "      <td>0.999183</td>\n",
       "      <td>26.953261</td>\n",
       "    </tr>\n",
       "    <tr>\n",
       "      <th>2</th>\n",
       "      <td>vyE1P</td>\n",
       "      <td>6.263187</td>\n",
       "      <td>-5.948386</td>\n",
       "      <td>5.001160</td>\n",
       "      <td>134.766305</td>\n",
       "    </tr>\n",
       "    <tr>\n",
       "      <th>3</th>\n",
       "      <td>KcrkZ</td>\n",
       "      <td>-13.081196</td>\n",
       "      <td>-11.506057</td>\n",
       "      <td>4.999415</td>\n",
       "      <td>137.945408</td>\n",
       "    </tr>\n",
       "    <tr>\n",
       "      <th>4</th>\n",
       "      <td>AHL4O</td>\n",
       "      <td>12.702195</td>\n",
       "      <td>-8.147433</td>\n",
       "      <td>5.004363</td>\n",
       "      <td>134.766305</td>\n",
       "    </tr>\n",
       "    <tr>\n",
       "      <th>...</th>\n",
       "      <td>...</td>\n",
       "      <td>...</td>\n",
       "      <td>...</td>\n",
       "      <td>...</td>\n",
       "      <td>...</td>\n",
       "    </tr>\n",
       "    <tr>\n",
       "      <th>99995</th>\n",
       "      <td>QywKC</td>\n",
       "      <td>9.535637</td>\n",
       "      <td>-6.878139</td>\n",
       "      <td>1.998296</td>\n",
       "      <td>53.906522</td>\n",
       "    </tr>\n",
       "    <tr>\n",
       "      <th>99996</th>\n",
       "      <td>ptvty</td>\n",
       "      <td>-10.160631</td>\n",
       "      <td>-12.558096</td>\n",
       "      <td>5.005581</td>\n",
       "      <td>137.945408</td>\n",
       "    </tr>\n",
       "    <tr>\n",
       "      <th>99997</th>\n",
       "      <td>09gWa</td>\n",
       "      <td>-7.378891</td>\n",
       "      <td>-3.084104</td>\n",
       "      <td>4.998651</td>\n",
       "      <td>137.945408</td>\n",
       "    </tr>\n",
       "    <tr>\n",
       "      <th>99998</th>\n",
       "      <td>rqwUm</td>\n",
       "      <td>0.665714</td>\n",
       "      <td>-6.152593</td>\n",
       "      <td>1.000146</td>\n",
       "      <td>30.132364</td>\n",
       "    </tr>\n",
       "    <tr>\n",
       "      <th>99999</th>\n",
       "      <td>relB0</td>\n",
       "      <td>-3.426139</td>\n",
       "      <td>-7.794274</td>\n",
       "      <td>-0.003299</td>\n",
       "      <td>3.179103</td>\n",
       "    </tr>\n",
       "  </tbody>\n",
       "</table>\n",
       "<p>100000 rows × 5 columns</p>\n",
       "</div>"
      ],
      "text/plain": [
       "          id         f0         f1        f2     product\n",
       "0      kBEdx -15.001348  -8.276000 -0.005876    3.179103\n",
       "1      62mP7  14.272088  -3.475083  0.999183   26.953261\n",
       "2      vyE1P   6.263187  -5.948386  5.001160  134.766305\n",
       "3      KcrkZ -13.081196 -11.506057  4.999415  137.945408\n",
       "4      AHL4O  12.702195  -8.147433  5.004363  134.766305\n",
       "...      ...        ...        ...       ...         ...\n",
       "99995  QywKC   9.535637  -6.878139  1.998296   53.906522\n",
       "99996  ptvty -10.160631 -12.558096  5.005581  137.945408\n",
       "99997  09gWa  -7.378891  -3.084104  4.998651  137.945408\n",
       "99998  rqwUm   0.665714  -6.152593  1.000146   30.132364\n",
       "99999  relB0  -3.426139  -7.794274 -0.003299    3.179103\n",
       "\n",
       "[100000 rows x 5 columns]"
      ]
     },
     "execution_count": 5,
     "metadata": {},
     "output_type": "execute_result"
    }
   ],
   "source": [
    "geo1 #Выведим таблицу для ознокомления с ней."
   ]
  },
  {
   "cell_type": "code",
   "execution_count": 6,
   "metadata": {},
   "outputs": [
    {
     "data": {
      "text/html": [
       "<div>\n",
       "<style scoped>\n",
       "    .dataframe tbody tr th:only-of-type {\n",
       "        vertical-align: middle;\n",
       "    }\n",
       "\n",
       "    .dataframe tbody tr th {\n",
       "        vertical-align: top;\n",
       "    }\n",
       "\n",
       "    .dataframe thead th {\n",
       "        text-align: right;\n",
       "    }\n",
       "</style>\n",
       "<table border=\"1\" class=\"dataframe\">\n",
       "  <thead>\n",
       "    <tr style=\"text-align: right;\">\n",
       "      <th></th>\n",
       "      <th>id</th>\n",
       "      <th>f0</th>\n",
       "      <th>f1</th>\n",
       "      <th>f2</th>\n",
       "      <th>product</th>\n",
       "    </tr>\n",
       "  </thead>\n",
       "  <tbody>\n",
       "    <tr>\n",
       "      <th>0</th>\n",
       "      <td>fwXo0</td>\n",
       "      <td>-1.146987</td>\n",
       "      <td>0.963328</td>\n",
       "      <td>-0.828965</td>\n",
       "      <td>27.758673</td>\n",
       "    </tr>\n",
       "    <tr>\n",
       "      <th>1</th>\n",
       "      <td>WJtFt</td>\n",
       "      <td>0.262778</td>\n",
       "      <td>0.269839</td>\n",
       "      <td>-2.530187</td>\n",
       "      <td>56.069697</td>\n",
       "    </tr>\n",
       "    <tr>\n",
       "      <th>2</th>\n",
       "      <td>ovLUW</td>\n",
       "      <td>0.194587</td>\n",
       "      <td>0.289035</td>\n",
       "      <td>-5.586433</td>\n",
       "      <td>62.871910</td>\n",
       "    </tr>\n",
       "    <tr>\n",
       "      <th>3</th>\n",
       "      <td>q6cA6</td>\n",
       "      <td>2.236060</td>\n",
       "      <td>-0.553760</td>\n",
       "      <td>0.930038</td>\n",
       "      <td>114.572842</td>\n",
       "    </tr>\n",
       "    <tr>\n",
       "      <th>4</th>\n",
       "      <td>WPMUX</td>\n",
       "      <td>-0.515993</td>\n",
       "      <td>1.716266</td>\n",
       "      <td>5.899011</td>\n",
       "      <td>149.600746</td>\n",
       "    </tr>\n",
       "    <tr>\n",
       "      <th>...</th>\n",
       "      <td>...</td>\n",
       "      <td>...</td>\n",
       "      <td>...</td>\n",
       "      <td>...</td>\n",
       "      <td>...</td>\n",
       "    </tr>\n",
       "    <tr>\n",
       "      <th>99995</th>\n",
       "      <td>4GxBu</td>\n",
       "      <td>-1.777037</td>\n",
       "      <td>1.125220</td>\n",
       "      <td>6.263374</td>\n",
       "      <td>172.327046</td>\n",
       "    </tr>\n",
       "    <tr>\n",
       "      <th>99996</th>\n",
       "      <td>YKFjq</td>\n",
       "      <td>-1.261523</td>\n",
       "      <td>-0.894828</td>\n",
       "      <td>2.524545</td>\n",
       "      <td>138.748846</td>\n",
       "    </tr>\n",
       "    <tr>\n",
       "      <th>99997</th>\n",
       "      <td>tKPY3</td>\n",
       "      <td>-1.199934</td>\n",
       "      <td>-2.957637</td>\n",
       "      <td>5.219411</td>\n",
       "      <td>157.080080</td>\n",
       "    </tr>\n",
       "    <tr>\n",
       "      <th>99998</th>\n",
       "      <td>nmxp2</td>\n",
       "      <td>-2.419896</td>\n",
       "      <td>2.417221</td>\n",
       "      <td>-5.548444</td>\n",
       "      <td>51.795253</td>\n",
       "    </tr>\n",
       "    <tr>\n",
       "      <th>99999</th>\n",
       "      <td>V9kWn</td>\n",
       "      <td>-2.551421</td>\n",
       "      <td>-2.025625</td>\n",
       "      <td>6.090891</td>\n",
       "      <td>102.775767</td>\n",
       "    </tr>\n",
       "  </tbody>\n",
       "</table>\n",
       "<p>100000 rows × 5 columns</p>\n",
       "</div>"
      ],
      "text/plain": [
       "          id        f0        f1        f2     product\n",
       "0      fwXo0 -1.146987  0.963328 -0.828965   27.758673\n",
       "1      WJtFt  0.262778  0.269839 -2.530187   56.069697\n",
       "2      ovLUW  0.194587  0.289035 -5.586433   62.871910\n",
       "3      q6cA6  2.236060 -0.553760  0.930038  114.572842\n",
       "4      WPMUX -0.515993  1.716266  5.899011  149.600746\n",
       "...      ...       ...       ...       ...         ...\n",
       "99995  4GxBu -1.777037  1.125220  6.263374  172.327046\n",
       "99996  YKFjq -1.261523 -0.894828  2.524545  138.748846\n",
       "99997  tKPY3 -1.199934 -2.957637  5.219411  157.080080\n",
       "99998  nmxp2 -2.419896  2.417221 -5.548444   51.795253\n",
       "99999  V9kWn -2.551421 -2.025625  6.090891  102.775767\n",
       "\n",
       "[100000 rows x 5 columns]"
      ]
     },
     "execution_count": 6,
     "metadata": {},
     "output_type": "execute_result"
    }
   ],
   "source": [
    "geo2 #Выведим таблицу для ознокомления с ней."
   ]
  },
  {
   "cell_type": "code",
   "execution_count": 7,
   "metadata": {},
   "outputs": [
    {
     "name": "stdout",
     "output_type": "stream",
     "text": [
      "<class 'pandas.core.frame.DataFrame'>\n",
      "RangeIndex: 100000 entries, 0 to 99999\n",
      "Data columns (total 5 columns):\n",
      " #   Column   Non-Null Count   Dtype  \n",
      "---  ------   --------------   -----  \n",
      " 0   id       100000 non-null  object \n",
      " 1   f0       100000 non-null  float64\n",
      " 2   f1       100000 non-null  float64\n",
      " 3   f2       100000 non-null  float64\n",
      " 4   product  100000 non-null  float64\n",
      "dtypes: float64(4), object(1)\n",
      "memory usage: 3.8+ MB\n"
     ]
    }
   ],
   "source": [
    "geo0.info() # Посмотрим общую информацию."
   ]
  },
  {
   "cell_type": "code",
   "execution_count": 8,
   "metadata": {},
   "outputs": [
    {
     "name": "stdout",
     "output_type": "stream",
     "text": [
      "<class 'pandas.core.frame.DataFrame'>\n",
      "RangeIndex: 100000 entries, 0 to 99999\n",
      "Data columns (total 5 columns):\n",
      " #   Column   Non-Null Count   Dtype  \n",
      "---  ------   --------------   -----  \n",
      " 0   id       100000 non-null  object \n",
      " 1   f0       100000 non-null  float64\n",
      " 2   f1       100000 non-null  float64\n",
      " 3   f2       100000 non-null  float64\n",
      " 4   product  100000 non-null  float64\n",
      "dtypes: float64(4), object(1)\n",
      "memory usage: 3.8+ MB\n"
     ]
    }
   ],
   "source": [
    "geo1.info() # Посмотрим общую информацию."
   ]
  },
  {
   "cell_type": "code",
   "execution_count": 9,
   "metadata": {},
   "outputs": [
    {
     "name": "stdout",
     "output_type": "stream",
     "text": [
      "<class 'pandas.core.frame.DataFrame'>\n",
      "RangeIndex: 100000 entries, 0 to 99999\n",
      "Data columns (total 5 columns):\n",
      " #   Column   Non-Null Count   Dtype  \n",
      "---  ------   --------------   -----  \n",
      " 0   id       100000 non-null  object \n",
      " 1   f0       100000 non-null  float64\n",
      " 2   f1       100000 non-null  float64\n",
      " 3   f2       100000 non-null  float64\n",
      " 4   product  100000 non-null  float64\n",
      "dtypes: float64(4), object(1)\n",
      "memory usage: 3.8+ MB\n"
     ]
    }
   ],
   "source": [
    "geo2.info() # Посмотрим общую информацию."
   ]
  },
  {
   "cell_type": "code",
   "execution_count": 10,
   "metadata": {
    "scrolled": true
   },
   "outputs": [
    {
     "data": {
      "text/plain": [
       "(id         0\n",
       " f0         0\n",
       " f1         0\n",
       " f2         0\n",
       " product    0\n",
       " dtype: int64,\n",
       " id         0\n",
       " f0         0\n",
       " f1         0\n",
       " f2         0\n",
       " product    0\n",
       " dtype: int64,\n",
       " id         0\n",
       " f0         0\n",
       " f1         0\n",
       " f2         0\n",
       " product    0\n",
       " dtype: int64)"
      ]
     },
     "execution_count": 10,
     "metadata": {},
     "output_type": "execute_result"
    }
   ],
   "source": [
    "geo0.isna().sum(), geo1.isna().sum(), geo2.isna().sum() # Посмотрим пропуски."
   ]
  },
  {
   "cell_type": "code",
   "execution_count": 11,
   "metadata": {},
   "outputs": [
    {
     "name": "stdout",
     "output_type": "stream",
     "text": [
      "0 0 0\n"
     ]
    }
   ],
   "source": [
    "print(geo0.duplicated().sum(), geo1.duplicated().sum(), geo2.duplicated().sum()) # Проверим есть ли явные дублекаты"
   ]
  },
  {
   "cell_type": "markdown",
   "metadata": {},
   "source": [
    "Далее удалим столбци с данными которые непомогут нашему датасету в обучении.\n",
    "\n",
    "\n",
    "CustomerId — уникальный идентификатор скважины"
   ]
  },
  {
   "cell_type": "code",
   "execution_count": 12,
   "metadata": {},
   "outputs": [
    {
     "data": {
      "image/png": "[encoded data removed]",
      "text/plain": [
       "<Figure size 864x504 with 1 Axes>"
      ]
     },
     "metadata": {
      "needs_background": "light"
     },
     "output_type": "display_data"
    }
   ],
   "source": [
    "plt.title('Графики распределения запасов сырья в регионах')\n",
    "ax=geo0['product'].plot(kind='hist',figsize=(\n",
    "    12,7),grid=True, legend=True, alpha=0.7, histtype='step', linewidth=5, label='1 регион')\n",
    "ax1=geo1['product'].plot(kind='hist',figsize=(\n",
    "    12,7),grid=True, legend=True, alpha=0.7,histtype='step', linewidth=5, label='2 регион', ax=ax)\n",
    "geo2['product'].plot(kind='hist',figsize=(\n",
    "    12,7),grid=True, legend=True, alpha=0.7,histtype='step', linewidth=5, label='3 регион', ax=ax1)\n",
    "plt.xlabel('Распределение данных по запасам сырья в регионах')\n",
    "plt.ylabel('Запасы сырья, тыс.баррелей')\n",
    "plt.show()"
   ]
  },
  {
   "cell_type": "code",
   "execution_count": 13,
   "metadata": {},
   "outputs": [],
   "source": [
    "geo0 = geo0.drop(columns=['id'])\n",
    "geo1 = geo1.drop(columns=['id'])\n",
    "geo2 = geo2.drop(columns=['id'])"
   ]
  },
  {
   "cell_type": "markdown",
   "metadata": {},
   "source": [
    "Резюме.\n",
    "\n",
    "Пропусков и явных дубликатов небыло найдено. Удалили столбци мешаюшие модели обучатся."
   ]
  },
  {
   "cell_type": "code",
   "execution_count": 14,
   "metadata": {},
   "outputs": [
    {
     "name": "stdout",
     "output_type": "stream",
     "text": [
      "               f0        f1        f2   product\n",
      "f0       1.000000 -0.440723 -0.003153  0.143536\n",
      "f1      -0.440723  1.000000  0.001724 -0.192356\n",
      "f2      -0.003153  0.001724  1.000000  0.483663\n",
      "product  0.143536 -0.192356  0.483663  1.000000\n",
      "               f0        f1        f2   product\n",
      "f0       1.000000  0.182287 -0.001777 -0.030491\n",
      "f1       0.182287  1.000000 -0.002595 -0.010155\n",
      "f2      -0.001777 -0.002595  1.000000  0.999397\n",
      "product -0.030491 -0.010155  0.999397  1.000000\n",
      "               f0        f1        f2   product\n",
      "f0       1.000000  0.000528 -0.000448 -0.001987\n",
      "f1       0.000528  1.000000  0.000779 -0.001012\n",
      "f2      -0.000448  0.000779  1.000000  0.445871\n",
      "product -0.001987 -0.001012  0.445871  1.000000\n"
     ]
    }
   ],
   "source": [
    "# Вычисление матрицы корреляции для каждого датасета\n",
    "corr_matrix_0 = geo0.corr()\n",
    "corr_matrix_1 = geo1.corr()\n",
    "corr_matrix_2 = geo2.corr()\n",
    "\n",
    "print(corr_matrix_0)\n",
    "print(corr_matrix_1)\n",
    "print(corr_matrix_2)"
   ]
  },
  {
   "cell_type": "markdown",
   "metadata": {},
   "source": [
    "## Обучение и проверка модели\n",
    "<a id='section_id2'></a>"
   ]
  },
  {
   "cell_type": "markdown",
   "metadata": {},
   "source": [
    "Сначала разделим выборку по условию задания на валидационную и обучающую в соотношении 75% на 25%. После извлекаем признаки и целевые признаки. Делаем это для 3 выборок отдельно. "
   ]
  },
  {
   "cell_type": "code",
   "execution_count": 15,
   "metadata": {},
   "outputs": [
    {
     "name": "stdout",
     "output_type": "stream",
     "text": [
      "(75000, 3)\n",
      "(25000, 3)\n"
     ]
    }
   ],
   "source": [
    "# Сначала разделим geo0 на валидационную и обучающую выборку.\n",
    "# отделим 25% данных для валидационной выборки\n",
    "train0, valid0 = train_test_split(geo0, test_size=0.25, random_state=12345)\n",
    "# извлекаем признаки \n",
    "features_train0 = train0.drop(['product'], axis=1)# извлекаем признаки\n",
    "target_train0 = train0['product']# извлекаем целевой признак\n",
    "\n",
    "features_valid0 = valid0.drop(['product'], axis=1)\n",
    "target_valid0 = valid0['product']\n",
    "\n",
    "print(features_train0.shape) # количество строк и столбцов в обучающий выборки.\n",
    "print(features_valid0.shape) # количество строк и столбцов в валидационной выборки."
   ]
  },
  {
   "cell_type": "code",
   "execution_count": 16,
   "metadata": {},
   "outputs": [
    {
     "name": "stdout",
     "output_type": "stream",
     "text": [
      "RMSE = 37.5794217150813\n",
      "Mean = 92.59256778438035\n"
     ]
    }
   ],
   "source": [
    "model0 = LinearRegression()# инициализируйте модель LinearRegression\n",
    "model0.fit(features_train0, target_train0) # обучите модель на тренировочной выборке\n",
    "predictions_valid0 = model0.predict(features_valid0) # предсказания модели на валидационной выборке\n",
    "\n",
    "mse0 = mean_squared_error(target_valid0, predictions_valid0) # средняя квадратичная ошибка (сумма квадратов ошибок обекта/количество обектов)\n",
    "\n",
    "\n",
    "\n",
    "print(\"RMSE =\", mse0 ** 0.5) # значение метрики RMSE на валидационной выборке (квадратный корень от значения MSE)\n",
    "print(\"Mean =\", predictions_valid0.mean()) #  Среднее арифметическое "
   ]
  },
  {
   "cell_type": "code",
   "execution_count": 17,
   "metadata": {},
   "outputs": [
    {
     "name": "stdout",
     "output_type": "stream",
     "text": [
      "(75000, 3)\n",
      "(25000, 3)\n"
     ]
    }
   ],
   "source": [
    "# Повторим для geo1 разделим geo0 на валидационную и обучающую выборку.\n",
    "# отделим 25% данных для валидационной выборки\n",
    "train1, valid1 = train_test_split(geo1, test_size=0.25, random_state=12345)\n",
    "# извлекаем признаки \n",
    "features_train1 = train1.drop(['product'], axis=1)# извлекаем признаки\n",
    "target_train1 = train1['product']# извлекаем целевой признак\n",
    "\n",
    "features_valid1 = valid1.drop(['product'], axis=1)\n",
    "target_valid1 = valid1['product'] \n",
    "\n",
    "print(features_train1.shape)\n",
    "print(features_valid1.shape)"
   ]
  },
  {
   "cell_type": "code",
   "execution_count": 18,
   "metadata": {},
   "outputs": [
    {
     "name": "stdout",
     "output_type": "stream",
     "text": [
      "RMSE = 0.893099286775617\n",
      "Mean = 68.728546895446\n"
     ]
    }
   ],
   "source": [
    "model1 = LinearRegression()# инициализируйте модель LinearRegression\n",
    "model1.fit(features_train1, target_train1) # обучите модель на тренировочной выборке\n",
    "predictions_valid1 = model1.predict(features_valid1) # получите предсказания модели на валидационной выборке\n",
    "\n",
    "mse1 = mean_squared_error(target_valid1, predictions_valid1) # среднеквадратическая отклонение\n",
    "\n",
    "\n",
    "\n",
    "print(\"RMSE =\", mse1 ** 0.5) # значение метрики RMSE на валидационной выборке\n",
    "print(\"Mean =\", predictions_valid1.mean()) #  Среднее арифметическое "
   ]
  },
  {
   "cell_type": "code",
   "execution_count": 19,
   "metadata": {},
   "outputs": [
    {
     "name": "stdout",
     "output_type": "stream",
     "text": [
      "(75000, 3)\n",
      "(25000, 3)\n"
     ]
    }
   ],
   "source": [
    "# Повторим для geo2 разделим geo0 на валидационную и обучающую выборку.\n",
    "# отделим 25% данных для валидационной выборки\n",
    "train2, valid2 = train_test_split(geo2, test_size=0.25, random_state=12345)\n",
    "# извлекаем признаки \n",
    "features_train2 = train2.drop(['product'], axis=1)# извлекаем признаки\n",
    "target_train2 = train2['product']# извлекаем целевой признак\n",
    "\n",
    "features_valid2 = valid2.drop(['product'], axis=1)\n",
    "target_valid2 = valid2['product'] \n",
    "\n",
    "print(features_train2.shape)\n",
    "print(features_valid2.shape)"
   ]
  },
  {
   "cell_type": "code",
   "execution_count": 20,
   "metadata": {},
   "outputs": [
    {
     "name": "stdout",
     "output_type": "stream",
     "text": [
      "RMSE = 40.02970873393434\n",
      "Mean = 94.96504596800489\n"
     ]
    }
   ],
   "source": [
    "model2 = LinearRegression()# инициализируйте модель LinearRegression\n",
    "model2.fit(features_train2, target_train2) # обучите модель на тренировочной выборке\n",
    "predictions_valid2 = model2.predict(features_valid2) # получите предсказания модели на валидационной выборке\n",
    "\n",
    "mse2 = mean_squared_error(target_valid2, predictions_valid2) # среднеквадратическая отклонение\n",
    "\n",
    "\n",
    "print(\"RMSE =\", mse2 ** 0.5) # значение метрики RMSE на валидационной выборке\n",
    "print(\"Mean =\", predictions_valid2.mean()) #  Среднее арифметическое "
   ]
  },
  {
   "cell_type": "markdown",
   "metadata": {},
   "source": [
    "Резюме.\n",
    "\n",
    "В результате видим, что самые большие средние запасы сырья  94.96 находятся в регионе geo2. При этом значение rmse 40 также самый высокий. Большое значение rmse региона говорит о большом разбросе ошибок, это дает более непредсказуемые результаты. В geo0 rmse 37, а  средние запасы сырья 92.59. В geo1 самый низкий rmse 0.89, но и запасы сырья минимальные 68.72."
   ]
  },
  {
   "cell_type": "markdown",
   "metadata": {},
   "source": [
    "## Подготовка к расчёту прибыли\n",
    "<a id='section_id3'></a>"
   ]
  },
  {
   "cell_type": "markdown",
   "metadata": {},
   "source": [
    "Условия задачи:\n",
    "\n",
    "* При разведке региона исследуют 500 точек, из которых с помощью машинного обучения выбирают 200 лучших для разработки.\n",
    "* Бюджет на разработку скважин в регионе — 10 млрд рублей.\n",
    "* Один баррель сырья приносит 450 рублей дохода. Доход с каждой единицы продукта составляет 450 тыс. рублей, поскольку объём указан в тысячах баррелей.\n",
    "* После оценки рисков нужно оставить лишь те регионы, в которых вероятность убытков меньше 2.5%. Среди них выбирают регион с наибольшей средней прибылью."
   ]
  },
  {
   "cell_type": "markdown",
   "metadata": {},
   "source": [
    "Распишем наши известные в переменные.\n",
    "\n",
    "all_points - сколько всего месторождений - 500 точек\n",
    "\n",
    "points - лучших месторождений - 200 точек\n",
    "\n",
    "total_budget - бюджет всего региона - 10000000000 рублей\n",
    "\n",
    "budget_of_one - бюджет одного месторождения - 10000000000 рублей / 200точек = 50000000\n",
    "\n",
    "barell_profit - доход от бареля нефти - 450 рублей\n",
    "\n",
    "cost_of_one - доход с каждой единицы продукта 450000 рублей,\n",
    "\n",
    "risk_treshold - минимальная вероятность убытков - 2.5%"
   ]
  },
  {
   "cell_type": "code",
   "execution_count": 21,
   "metadata": {},
   "outputs": [
    {
     "name": "stdout",
     "output_type": "stream",
     "text": [
      "Объём каждой скважины для безубыточной разработки должен составлять не менее: 111.11 тыс.баррелей\n"
     ]
    }
   ],
   "source": [
    "all_points = 500\n",
    "points = 200\n",
    "bootstrap_samples = 1000\n",
    "total_budget = 10000000000\n",
    "budget_of_one = 50000000\n",
    "cost_of_one = 450000\n",
    "barell_profit = 450\n",
    "risk_treshold = 0.025\n",
    "\n",
    "#посчитаем сколько баррелей нефти нужно разработать с одного месторождения, чтобы окупить вложения в разработку месторождения\n",
    "# при условии, что обрабатываем 200 скважин\n",
    "total_barell = budget_of_one / cost_of_one\n",
    "print('Объём каждой скважины для безубыточной разработки должен составлять не менее: %.2f'%total_barell,'тыс.баррелей')"
   ]
  },
  {
   "cell_type": "code",
   "execution_count": 22,
   "metadata": {},
   "outputs": [],
   "source": [
    "product_mean0 = geo0['product'].mean()\n",
    "product_mean1 = geo1['product'].mean()\n",
    "product_mean2 = geo2['product'].mean()"
   ]
  },
  {
   "cell_type": "code",
   "execution_count": 23,
   "metadata": {},
   "outputs": [
    {
     "name": "stdout",
     "output_type": "stream",
     "text": [
      "Cредний запас сырья в 1 (geo0) регионе: 92.50 тыс.баррелей\n",
      "Cредний запас сырья в 2 (geo1) регионе: 68.83 тыс.баррелей\n",
      "Cредний запас сырья в 3 (geo2) регионе: 95.00 тыс.баррелей\n"
     ]
    }
   ],
   "source": [
    "print('Cредний запас сырья в 1 (geo0) регионе: %.2f'%product_mean0.mean(),'тыс.баррелей')\n",
    "print('Cредний запас сырья в 2 (geo1) регионе: %.2f'%product_mean1.mean(),'тыс.баррелей')\n",
    "print('Cредний запас сырья в 3 (geo2) регионе: %.2f'%product_mean2.mean(),'тыс.баррелей')"
   ]
  },
  {
   "cell_type": "markdown",
   "metadata": {},
   "source": [
    "Резюме.\n",
    "\n",
    "Исходя из полученных данных становится очевидно, что среднее количество запасов сырья по регионам недостаточное даже для окупаемости разработки, требуется выбрать наиболее прибыльные скважины."
   ]
  },
  {
   "cell_type": "markdown",
   "metadata": {},
   "source": [
    "### Напишем функцию расчёта прибыли"
   ]
  },
  {
   "cell_type": "markdown",
   "metadata": {},
   "source": [
    "1 регион. Выполним привязку индексов скважин к предсказаниям модели geo0 и отсорируем список по убыванию"
   ]
  },
  {
   "cell_type": "code",
   "execution_count": 24,
   "metadata": {},
   "outputs": [
    {
     "data": {
      "text/plain": [
       "93073    180.180713\n",
       "46784    176.252213\n",
       "78948    175.850623\n",
       "43388    175.658429\n",
       "6496     173.299686\n",
       "            ...    \n",
       "30488    148.507064\n",
       "98799    148.481767\n",
       "53840    148.476498\n",
       "4638     148.436761\n",
       "75908    148.365941\n",
       "Length: 200, dtype: float64"
      ]
     },
     "execution_count": 24,
     "metadata": {},
     "output_type": "execute_result"
    }
   ],
   "source": [
    "preds_sorted0 = pd.Series(predictions_valid0, index=target_valid0.index).sort_values(ascending=False)\n",
    "selected_max0 = preds_sorted0[:200]\n",
    "selected_max0"
   ]
  },
  {
   "cell_type": "markdown",
   "metadata": {},
   "source": [
    "Просуммируем показатели 200 скважин с 1 участка (geo0) исходя из максимальных значений предсказаний нашей модели по объёму сырья для получения максимальной прибыли."
   ]
  },
  {
   "cell_type": "code",
   "execution_count": 25,
   "metadata": {},
   "outputs": [
    {
     "data": {
      "text/plain": [
       "31102.3308388114"
      ]
     },
     "execution_count": 25,
     "metadata": {},
     "output_type": "execute_result"
    }
   ],
   "source": [
    "selected_max0.sum()"
   ]
  },
  {
   "cell_type": "markdown",
   "metadata": {},
   "source": [
    "Рассчитаем прибыль для полученного объёма сырья"
   ]
  },
  {
   "cell_type": "code",
   "execution_count": 26,
   "metadata": {},
   "outputs": [
    {
     "name": "stdout",
     "output_type": "stream",
     "text": [
      "Прибыль для полученного объёма сырья составит 3996048877.47 рублей\n"
     ]
    }
   ],
   "source": [
    "profit_pred0 = selected_max0.sum() * cost_of_one - total_budget\n",
    "\n",
    "print('Прибыль для полученного объёма сырья составит %.2f рублей'%profit_pred0)"
   ]
  },
  {
   "cell_type": "markdown",
   "metadata": {},
   "source": [
    "2 регион. Выполним привязку индексов скважин к предсказаниям модели geo1 и отсорируем список по убыванию"
   ]
  },
  {
   "cell_type": "code",
   "execution_count": 27,
   "metadata": {},
   "outputs": [
    {
     "data": {
      "text/plain": [
       "38665    139.818970\n",
       "20191    139.773423\n",
       "14041    139.703330\n",
       "24274    139.560938\n",
       "92782    139.516754\n",
       "            ...    \n",
       "13370    138.421423\n",
       "45823    138.416960\n",
       "86987    138.413881\n",
       "72313    138.412834\n",
       "59892    138.410697\n",
       "Length: 200, dtype: float64"
      ]
     },
     "execution_count": 27,
     "metadata": {},
     "output_type": "execute_result"
    }
   ],
   "source": [
    "preds_sorted1 = pd.Series(predictions_valid1, index=target_valid1.index).sort_values(ascending=False)\n",
    "selected_max1 = preds_sorted1[:200]\n",
    "selected_max1"
   ]
  },
  {
   "cell_type": "code",
   "execution_count": 28,
   "metadata": {},
   "outputs": [
    {
     "data": {
      "text/plain": [
       "27746.026782163426"
      ]
     },
     "execution_count": 28,
     "metadata": {},
     "output_type": "execute_result"
    }
   ],
   "source": [
    "selected_max1.sum()"
   ]
  },
  {
   "cell_type": "code",
   "execution_count": 29,
   "metadata": {},
   "outputs": [
    {
     "name": "stdout",
     "output_type": "stream",
     "text": [
      "Прибыль для полученного объёма сырья составит 2485712051.97 рублей\n"
     ]
    }
   ],
   "source": [
    "profit_pred1 = selected_max1.sum() * cost_of_one - total_budget\n",
    "\n",
    "print('Прибыль для полученного объёма сырья составит %.2f рублей'%profit_pred1)"
   ]
  },
  {
   "cell_type": "markdown",
   "metadata": {},
   "source": [
    "3 регион. Выполним привязку индексов скважин к предсказаниям модели geo2 и отсорируем список по убыванию"
   ]
  },
  {
   "cell_type": "code",
   "execution_count": 30,
   "metadata": {},
   "outputs": [
    {
     "data": {
      "text/plain": [
       "98619    165.856833\n",
       "46649    165.679685\n",
       "82661    163.439962\n",
       "53151    162.062589\n",
       "18747    161.797476\n",
       "            ...    \n",
       "66244    142.490763\n",
       "34285    142.485922\n",
       "36778    142.465777\n",
       "7806     142.454763\n",
       "62558    142.408851\n",
       "Length: 200, dtype: float64"
      ]
     },
     "execution_count": 30,
     "metadata": {},
     "output_type": "execute_result"
    }
   ],
   "source": [
    "preds_sorted2 = pd.Series(predictions_valid2, index=target_valid2.index).sort_values(ascending=False)\n",
    "selected_max2 = preds_sorted2[:200]\n",
    "selected_max2"
   ]
  },
  {
   "cell_type": "code",
   "execution_count": 31,
   "metadata": {},
   "outputs": [
    {
     "data": {
      "text/plain": [
       "29603.898658318347"
      ]
     },
     "execution_count": 31,
     "metadata": {},
     "output_type": "execute_result"
    }
   ],
   "source": [
    "selected_max2.sum()"
   ]
  },
  {
   "cell_type": "code",
   "execution_count": 32,
   "metadata": {},
   "outputs": [
    {
     "name": "stdout",
     "output_type": "stream",
     "text": [
      "Прибыль для полученного объёма сырья составит 3321754396.24 рублей\n"
     ]
    }
   ],
   "source": [
    "profit_pred2 = selected_max2.sum() * cost_of_one - total_budget\n",
    "\n",
    "print('Прибыль для полученного объёма сырья составит %.2f рублей'%profit_pred2)"
   ]
  },
  {
   "cell_type": "markdown",
   "metadata": {},
   "source": [
    "Если разрабатывать 200 лучших скважин то каждый регеон показывают прибыль."
   ]
  },
  {
   "cell_type": "code",
   "execution_count": 33,
   "metadata": {},
   "outputs": [],
   "source": [
    "def profit_for_vp(predict,target,count):\n",
    "    preds_sorted = pd.Series(predict, index=target.index).sort_values(ascending=False)\n",
    "    selected_max = preds_sorted[:count].sum()\n",
    "    profit_pred=(selected_max*cost_of_one)-total_budget\n",
    "    print('Суммарный запас сырья в 200 лучших скважинах составит: %.2f тыс.баррелей'%selected_max)\n",
    "    print('Прибыль для полученного объёма сырья составит %.2f рублей'%(profit_pred))"
   ]
  },
  {
   "cell_type": "markdown",
   "metadata": {},
   "source": [
    "Прибыль 1 регион"
   ]
  },
  {
   "cell_type": "code",
   "execution_count": 34,
   "metadata": {},
   "outputs": [
    {
     "name": "stdout",
     "output_type": "stream",
     "text": [
      "Суммарный запас сырья в 200 лучших скважинах составит: 31102.33 тыс.баррелей\n",
      "Прибыль для полученного объёма сырья составит 3996048877.47 рублей\n"
     ]
    }
   ],
   "source": [
    "profit_for_vp(predictions_valid0, target_valid0, 200)"
   ]
  },
  {
   "cell_type": "markdown",
   "metadata": {},
   "source": [
    "Прибыль 2 регион"
   ]
  },
  {
   "cell_type": "code",
   "execution_count": 35,
   "metadata": {},
   "outputs": [
    {
     "name": "stdout",
     "output_type": "stream",
     "text": [
      "Суммарный запас сырья в 200 лучших скважинах составит: 27746.03 тыс.баррелей\n",
      "Прибыль для полученного объёма сырья составит 2485712051.97 рублей\n"
     ]
    }
   ],
   "source": [
    "profit_for_vp(predictions_valid1, target_valid1, 200)"
   ]
  },
  {
   "cell_type": "markdown",
   "metadata": {},
   "source": [
    "Прибыль  3 регион"
   ]
  },
  {
   "cell_type": "code",
   "execution_count": 36,
   "metadata": {},
   "outputs": [
    {
     "name": "stdout",
     "output_type": "stream",
     "text": [
      "Суммарный запас сырья в 200 лучших скважинах составит: 29603.90 тыс.баррелей\n",
      "Прибыль для полученного объёма сырья составит 3321754396.24 рублей\n"
     ]
    }
   ],
   "source": [
    "profit_for_vp(predictions_valid2, target_valid2, 200)"
   ]
  },
  {
   "cell_type": "code",
   "execution_count": 37,
   "metadata": {},
   "outputs": [
    {
     "data": {
      "text/plain": [
       "-10000000000"
      ]
     },
     "execution_count": 37,
     "metadata": {},
     "output_type": "execute_result"
    }
   ],
   "source": [
    "-total_budget"
   ]
  },
  {
   "cell_type": "code",
   "execution_count": 38,
   "metadata": {},
   "outputs": [],
   "source": [
    "def profit_for_vp2(predict,target,count):\n",
    "    preds_sorted = pd.Series(target, index=target.index).sort_values(ascending=False)\n",
    "    selected_max = preds_sorted[:count].sum()\n",
    "    profit_pred=(selected_max*cost_of_one)-total_budget\n",
    "    print('Суммарный запас сырья в 200 лучших скважинах составит: %.2f тыс.баррелей'%selected_max)\n",
    "    print('Прибыль для полученного объёма сырья составит %.2f рублей'%(profit_pred))"
   ]
  },
  {
   "cell_type": "code",
   "execution_count": 39,
   "metadata": {},
   "outputs": [
    {
     "name": "stdout",
     "output_type": "stream",
     "text": [
      "Суммарный запас сырья в 200 лучших скважинах составит: 36690.99 тыс.баррелей\n",
      "Прибыль для полученного объёма сырья составит 6510947580.32 рублей\n"
     ]
    }
   ],
   "source": [
    "profit_for_vp2(predictions_valid0, target_valid0, 200) #Прибыль 1 регион"
   ]
  },
  {
   "cell_type": "code",
   "execution_count": 40,
   "metadata": {},
   "outputs": [
    {
     "name": "stdout",
     "output_type": "stream",
     "text": [
      "Суммарный запас сырья в 200 лучших скважинах составит: 27589.08 тыс.баррелей\n",
      "Прибыль для полученного объёма сырья составит 2415086696.68 рублей\n"
     ]
    }
   ],
   "source": [
    "profit_for_vp2(predictions_valid1, target_valid1, 200) #Прибыль 2 регион"
   ]
  },
  {
   "cell_type": "code",
   "execution_count": 41,
   "metadata": {},
   "outputs": [
    {
     "name": "stdout",
     "output_type": "stream",
     "text": [
      "Суммарный запас сырья в 200 лучших скважинах составит: 37650.36 тыс.баррелей\n",
      "Прибыль для полученного объёма сырья составит 6942663159.19 рублей\n"
     ]
    }
   ],
   "source": [
    "profit_for_vp2(predictions_valid2, target_valid2, 200) #Прибыль 3 регион"
   ]
  },
  {
   "cell_type": "markdown",
   "metadata": {},
   "source": [
    "## Расчёт прибыли и рисков\n",
    "<a id='section_id4'></a>"
   ]
  },
  {
   "cell_type": "code",
   "execution_count": 42,
   "metadata": {},
   "outputs": [],
   "source": [
    "def profit_for_vp2(predict,target,count):\n",
    "    predict = predict.reset_index(drop=True)\n",
    "    preds_sorted = pd.Series(predict).sort_values(ascending=False)\n",
    "\n",
    "    #target = target[preds_sorted.index].remove() # добавленная строка\n",
    "    target = target.reset_index(drop=True)\n",
    "    \n",
    "    selected_points = target[preds_sorted.index][:count]\n",
    "\n",
    "\n",
    "    # КОД РЕВЬЮЕРА\n",
    "    if target[preds_sorted.index].shape[0] > preds_sorted.shape[0]:\n",
    "        print(\"Shape mismatch! Targets shape:\", target[preds_sorted.index].shape[0])\n",
    "\n",
    "\n",
    "    product = selected_points.sum()\n",
    "    revenue = product * cost_of_one\n",
    "    return revenue - total_budget"
   ]
  },
  {
   "cell_type": "code",
   "execution_count": 43,
   "metadata": {},
   "outputs": [
    {
     "data": {
      "text/plain": [
       "0    1\n",
       "1    2\n",
       "1    2\n",
       "1    2\n",
       "1    2\n",
       "3    5\n",
       "3    5\n",
       "3    5\n",
       "3    5\n",
       "dtype: int64"
      ]
     },
     "execution_count": 43,
     "metadata": {},
     "output_type": "execute_result"
    }
   ],
   "source": [
    "# # КОД РЕВЬЮЕРА\n",
    "_preds = pd.Series([1, 2, 2, 5, 5], index=[0, 1, 1, 3, 3])\n",
    "_target = pd.Series([1, 2, 2, 5, 5], index=[0, 1, 1, 3, 3])\n",
    "\n",
    "_target.loc[_preds.index]"
   ]
  },
  {
   "cell_type": "code",
   "execution_count": 44,
   "metadata": {},
   "outputs": [
    {
     "data": {
      "text/plain": [
       "0    1\n",
       "1    2\n",
       "2    2\n",
       "3    5\n",
       "4    5\n",
       "dtype: int64"
      ]
     },
     "execution_count": 44,
     "metadata": {},
     "output_type": "execute_result"
    }
   ],
   "source": [
    "_preds.reset_index(drop=True) #сброс индексов\n",
    "_target.reset_index(drop=True)"
   ]
  },
  {
   "cell_type": "code",
   "execution_count": 45,
   "metadata": {},
   "outputs": [
    {
     "data": {
      "text/plain": [
       "12"
      ]
     },
     "execution_count": 45,
     "metadata": {},
     "output_type": "execute_result"
    }
   ],
   "source": [
    "target_valid1.nunique()"
   ]
  },
  {
   "cell_type": "code",
   "execution_count": 46,
   "metadata": {},
   "outputs": [
    {
     "data": {
      "text/plain": [
       "25000"
      ]
     },
     "execution_count": 46,
     "metadata": {},
     "output_type": "execute_result"
    }
   ],
   "source": [
    "target_valid1.index.nunique()"
   ]
  },
  {
   "cell_type": "code",
   "execution_count": 47,
   "metadata": {},
   "outputs": [],
   "source": [
    "def bootstap_1000(target,predict):\n",
    "    values = []\n",
    "    count=0\n",
    "    state = np.random.RandomState(12345)\n",
    "    predict_e = pd.Series(predict, index=target.index)\n",
    "    \n",
    "    for i in tqdm(range(1000)):\n",
    "        target_subsample = target.sample(n=500,replace=True, random_state=state)\n",
    "  \n",
    "        preds_subsample = predict_e[target_subsample.index]\n",
    "        values.append(profit_for_vp2(preds_subsample,target_subsample, 200))  \n",
    "    for i in values:\n",
    "        if i < 0:\n",
    "            count +=1\n",
    "            \n",
    "    values = pd.Series(values)\n",
    "    mean = values.mean()\n",
    "\n",
    "    \n",
    "    plt.title('Распределение прибыли')\n",
    "    values.plot(kind=\"hist\", grid=True, figsize=(8,5))\n",
    "    plt.xlabel('Прибыль, тыс.руб')\n",
    "    plt.ylabel('Количество')\n",
    "    plt.show()\n",
    "    \n",
    "    low_95 = values.quantile(0.025)\n",
    "    high_95 = values.quantile(0.975)\n",
    "    \n",
    "    print(\"Средняя прибыль: {:.2f} тыс.руб\".format(mean/1000))\n",
    "    print('С вероятностью 95% прибыль в данном регионе будет составлять от: {:.2f} тыс.руб до: {:.2f} тыс.руб'.format(\n",
    "        (low_95/1000),(high_95/1000)))\n",
    "\n",
    "    print ('Процент вероятности убытка в данном регионе составит {:.1%}'.format(count/1000))"
   ]
  },
  {
   "cell_type": "code",
   "execution_count": 48,
   "metadata": {},
   "outputs": [
    {
     "data": {
      "application/vnd.jupyter.widget-view+json": {
       "model_id": "10646e9bfbe742ec932dcedf61f5f18c",
       "version_major": 2,
       "version_minor": 0
      },
      "text/plain": [
       "  0%|          | 0/1000 [00:00<?, ?it/s]"
      ]
     },
     "metadata": {},
     "output_type": "display_data"
    },
    {
     "data": {
      "image/png": "[encoded data removed]",
      "text/plain": [
       "<Figure size 576x360 with 1 Axes>"
      ]
     },
     "metadata": {
      "needs_background": "light"
     },
     "output_type": "display_data"
    },
    {
     "name": "stdout",
     "output_type": "stream",
     "text": [
      "Средняя прибыль: 396164.98 тыс.руб\n",
      "С вероятностью 95% прибыль в данном регионе будет составлять от: -111215.55 тыс.руб до: 909766.94 тыс.руб\n",
      "Процент вероятности убытка в данном регионе составит 6.9%\n"
     ]
    }
   ],
   "source": [
    "bootstap_1000(target_valid0, predictions_valid0)"
   ]
  },
  {
   "cell_type": "code",
   "execution_count": 49,
   "metadata": {},
   "outputs": [
    {
     "data": {
      "application/vnd.jupyter.widget-view+json": {
       "model_id": "138d8690d55d423d8a01bdc8c02cd11e",
       "version_major": 2,
       "version_minor": 0
      },
      "text/plain": [
       "  0%|          | 0/1000 [00:00<?, ?it/s]"
      ]
     },
     "metadata": {},
     "output_type": "display_data"
    },
    {
     "data": {
      "image/png": "[encoded data removed]",
      "text/plain": [
       "<Figure size 576x360 with 1 Axes>"
      ]
     },
     "metadata": {
      "needs_background": "light"
     },
     "output_type": "display_data"
    },
    {
     "name": "stdout",
     "output_type": "stream",
     "text": [
      "Средняя прибыль: 456045.11 тыс.руб\n",
      "С вероятностью 95% прибыль в данном регионе будет составлять от: 33820.51 тыс.руб до: 852289.45 тыс.руб\n",
      "Процент вероятности убытка в данном регионе составит 1.5%\n"
     ]
    }
   ],
   "source": [
    "bootstap_1000(target_valid1, predictions_valid1)"
   ]
  },
  {
   "cell_type": "code",
   "execution_count": 50,
   "metadata": {},
   "outputs": [
    {
     "data": {
      "application/vnd.jupyter.widget-view+json": {
       "model_id": "d1b1f1bcd83b44c995d36887494602ff",
       "version_major": 2,
       "version_minor": 0
      },
      "text/plain": [
       "  0%|          | 0/1000 [00:00<?, ?it/s]"
      ]
     },
     "metadata": {},
     "output_type": "display_data"
    },
    {
     "data": {
      "image/png": "[encoded data removed]",
      "text/plain": [
       "<Figure size 576x360 with 1 Axes>"
      ]
     },
     "metadata": {
      "needs_background": "light"
     },
     "output_type": "display_data"
    },
    {
     "name": "stdout",
     "output_type": "stream",
     "text": [
      "Средняя прибыль: 404403.87 тыс.руб\n",
      "С вероятностью 95% прибыль в данном регионе будет составлять от: -163350.41 тыс.руб до: 950359.57 тыс.руб\n",
      "Процент вероятности убытка в данном регионе составит 7.6%\n"
     ]
    }
   ],
   "source": [
    "bootstap_1000(target_valid2, predictions_valid2)"
   ]
  },
  {
   "cell_type": "markdown",
   "metadata": {},
   "source": [
    "Резюме.\n",
    "\n",
    "Даны условия задачи при оценки рисков где было нужно оставить лишь те регионы, в которых вероятность убытков меньше 2.5%. Под такие условия подходит только второй регион (geo1).Процент вероятности убытка в данном регионе составит 1.0%. Такжк у него самая вычокая средняя прибль."
   ]
  },
  {
   "cell_type": "markdown",
   "metadata": {},
   "source": [
    "# Вывод\n",
    "<a id='section_id7'></a>"
   ]
  },
  {
   "cell_type": "markdown",
   "metadata": {},
   "source": [
    "Нам были предоставлены пробы нефти в трёх регионах: в каждом 10 000 месторождений, где измерили качество нефти и объём её запасов. Мы построили модель машинного обучения при помощи линейной регрессии, которая помогла определить регион, где добыча принесёт наибольшую прибыль. При первичном подсчети выяснили, что среднее количество запасов сырья по регионам недостаточное даже для окупаемости разработки, поэтому требуется выбрать наиболее прибыльные скважины. Выбрав 200 лучших скважин в каждом регионе, выяснили, что все регеоны показывают прибыль. Затем мы проанализировали возможную прибыль и риски техникой Bootstrap и нашли 95% доверительный интервал для среднего объема нефти в скважинах. Самый низкий процент убытка и самую высокую среднюю прибыль показал второй регеон (geo1). Средняя прибыль: 456045.11 тыс.руб. С вероятностью 95% прибыль в данном регионе будет составлять от: 33820.51 тыс.руб до: 852289.45 тыс.руб. Процент вероятности убытка в данном регионе составит 1.5%. Другие 2 регеона (первый geo0 и трети geo2) показали более низкую среднюю прибыль, а вероятность убытков превышает заданные 2.5%. Поэтому рекомендуем выбрать второй регеон (geo1) для ведения разработок."
   ]
  }
 ],
 "metadata": {
  "ExecuteTimeLog": [
   {
    "duration": 45,
    "start_time": "2023-02-16T10:52:40.582Z"
   },
   {
    "duration": 6,
    "start_time": "2023-02-16T10:53:03.046Z"
   },
   {
    "duration": 6,
    "start_time": "2023-02-16T10:53:17.189Z"
   },
   {
    "duration": 372,
    "start_time": "2023-02-16T10:53:24.029Z"
   },
   {
    "duration": 1620,
    "start_time": "2023-02-16T10:53:25.580Z"
   },
   {
    "duration": 17,
    "start_time": "2023-02-16T10:53:32.451Z"
   },
   {
    "duration": 12,
    "start_time": "2023-02-16T10:54:01.988Z"
   },
   {
    "duration": 13,
    "start_time": "2023-02-16T10:55:02.981Z"
   },
   {
    "duration": 13,
    "start_time": "2023-02-16T10:55:35.551Z"
   },
   {
    "duration": 12,
    "start_time": "2023-02-16T10:55:38.538Z"
   },
   {
    "duration": 9,
    "start_time": "2023-02-16T11:47:25.668Z"
   },
   {
    "duration": 26,
    "start_time": "2023-02-16T11:47:44.022Z"
   },
   {
    "duration": 13,
    "start_time": "2023-02-16T11:47:48.578Z"
   },
   {
    "duration": 16,
    "start_time": "2023-02-16T11:47:53.219Z"
   },
   {
    "duration": 26,
    "start_time": "2023-02-16T11:50:05.215Z"
   },
   {
    "duration": 37,
    "start_time": "2023-02-16T11:51:17.554Z"
   },
   {
    "duration": 14,
    "start_time": "2023-02-16T11:52:25.488Z"
   },
   {
    "duration": 13,
    "start_time": "2023-02-16T11:52:27.321Z"
   },
   {
    "duration": 14,
    "start_time": "2023-02-16T11:52:28.042Z"
   },
   {
    "duration": 11,
    "start_time": "2023-02-16T12:11:51.219Z"
   },
   {
    "duration": 29,
    "start_time": "2023-02-16T12:12:45.001Z"
   },
   {
    "duration": 50,
    "start_time": "2023-02-16T12:14:15.019Z"
   },
   {
    "duration": 53,
    "start_time": "2023-02-16T12:15:04.523Z"
   },
   {
    "duration": 100,
    "start_time": "2023-02-16T12:15:29.077Z"
   },
   {
    "duration": 123,
    "start_time": "2023-02-16T12:16:03.966Z"
   },
   {
    "duration": 39,
    "start_time": "2023-02-16T12:20:54.555Z"
   },
   {
    "duration": 740,
    "start_time": "2023-02-16T13:04:23.869Z"
   },
   {
    "duration": 32,
    "start_time": "2023-02-16T13:06:12.115Z"
   },
   {
    "duration": 101,
    "start_time": "2023-02-16T13:07:33.604Z"
   },
   {
    "duration": 26,
    "start_time": "2023-02-16T13:09:25.627Z"
   },
   {
    "duration": 772,
    "start_time": "2023-02-16T13:16:54.186Z"
   },
   {
    "duration": 27,
    "start_time": "2023-02-16T13:17:00.938Z"
   },
   {
    "duration": 21,
    "start_time": "2023-02-16T14:21:23.483Z"
   },
   {
    "duration": 21,
    "start_time": "2023-02-16T18:03:59.000Z"
   },
   {
    "duration": 22,
    "start_time": "2023-02-16T18:04:40.592Z"
   },
   {
    "duration": 22,
    "start_time": "2023-02-16T18:06:44.361Z"
   },
   {
    "duration": 14,
    "start_time": "2023-02-16T18:24:13.061Z"
   },
   {
    "duration": 20,
    "start_time": "2023-02-16T18:28:20.007Z"
   },
   {
    "duration": 14,
    "start_time": "2023-02-16T18:30:14.774Z"
   },
   {
    "duration": 3,
    "start_time": "2023-02-16T18:32:03.222Z"
   },
   {
    "duration": 30,
    "start_time": "2023-02-16T18:33:05.379Z"
   },
   {
    "duration": 88,
    "start_time": "2023-02-16T18:34:25.715Z"
   },
   {
    "duration": 19,
    "start_time": "2023-02-16T18:35:09.826Z"
   },
   {
    "duration": 17,
    "start_time": "2023-02-16T20:00:50.418Z"
   },
   {
    "duration": 18,
    "start_time": "2023-02-17T10:11:17.928Z"
   },
   {
    "duration": 16,
    "start_time": "2023-02-17T10:12:13.817Z"
   },
   {
    "duration": 22,
    "start_time": "2023-02-17T10:12:40.016Z"
   },
   {
    "duration": 17,
    "start_time": "2023-02-17T10:12:44.887Z"
   },
   {
    "duration": 30,
    "start_time": "2023-02-17T10:23:01.991Z"
   },
   {
    "duration": 106,
    "start_time": "2023-02-17T10:26:54.599Z"
   },
   {
    "duration": 21,
    "start_time": "2023-02-17T10:27:31.781Z"
   },
   {
    "duration": 21,
    "start_time": "2023-02-17T10:28:32.525Z"
   },
   {
    "duration": 14,
    "start_time": "2023-02-17T10:28:33.732Z"
   },
   {
    "duration": 19,
    "start_time": "2023-02-17T10:28:36.275Z"
   },
   {
    "duration": 15,
    "start_time": "2023-02-17T10:28:37.739Z"
   },
   {
    "duration": 16,
    "start_time": "2023-02-17T10:29:17.057Z"
   },
   {
    "duration": 469,
    "start_time": "2023-02-17T10:31:00.717Z"
   },
   {
    "duration": 700,
    "start_time": "2023-02-17T10:31:01.188Z"
   },
   {
    "duration": 523,
    "start_time": "2023-02-17T10:31:01.890Z"
   },
   {
    "duration": 19,
    "start_time": "2023-02-17T10:31:02.415Z"
   },
   {
    "duration": 11,
    "start_time": "2023-02-17T10:31:02.436Z"
   },
   {
    "duration": 13,
    "start_time": "2023-02-17T10:31:02.448Z"
   },
   {
    "duration": 18,
    "start_time": "2023-02-17T10:31:02.462Z"
   },
   {
    "duration": 39,
    "start_time": "2023-02-17T10:31:02.481Z"
   },
   {
    "duration": 20,
    "start_time": "2023-02-17T10:31:02.522Z"
   },
   {
    "duration": 20,
    "start_time": "2023-02-17T10:31:02.543Z"
   },
   {
    "duration": 145,
    "start_time": "2023-02-17T10:31:02.565Z"
   },
   {
    "duration": 24,
    "start_time": "2023-02-17T10:31:02.713Z"
   },
   {
    "duration": 72,
    "start_time": "2023-02-17T10:31:02.739Z"
   },
   {
    "duration": 110,
    "start_time": "2023-02-17T10:31:02.821Z"
   },
   {
    "duration": 129,
    "start_time": "2023-02-17T10:31:02.933Z"
   },
   {
    "duration": 0,
    "start_time": "2023-02-17T10:31:03.064Z"
   },
   {
    "duration": 0,
    "start_time": "2023-02-17T10:31:03.065Z"
   },
   {
    "duration": 21,
    "start_time": "2023-02-17T10:31:22.450Z"
   },
   {
    "duration": 26,
    "start_time": "2023-02-17T10:31:23.417Z"
   },
   {
    "duration": 85,
    "start_time": "2023-02-17T10:31:43.923Z"
   },
   {
    "duration": 99,
    "start_time": "2023-02-17T10:32:21.106Z"
   },
   {
    "duration": 66,
    "start_time": "2023-02-17T10:37:21.937Z"
   },
   {
    "duration": 35,
    "start_time": "2023-02-17T10:37:54.486Z"
   },
   {
    "duration": 22,
    "start_time": "2023-02-17T10:37:55.481Z"
   },
   {
    "duration": 15,
    "start_time": "2023-02-17T10:39:14.508Z"
   },
   {
    "duration": 92,
    "start_time": "2023-02-17T10:58:50.311Z"
   },
   {
    "duration": 21,
    "start_time": "2023-02-17T11:00:20.710Z"
   },
   {
    "duration": 17,
    "start_time": "2023-02-17T11:00:41.083Z"
   },
   {
    "duration": 4,
    "start_time": "2023-02-17T11:43:00.445Z"
   },
   {
    "duration": 30,
    "start_time": "2023-02-17T11:43:05.854Z"
   },
   {
    "duration": 17,
    "start_time": "2023-02-17T11:43:33.347Z"
   },
   {
    "duration": 22,
    "start_time": "2023-02-17T11:43:39.828Z"
   },
   {
    "duration": 13,
    "start_time": "2023-02-17T11:44:21.828Z"
   },
   {
    "duration": 13,
    "start_time": "2023-02-17T11:45:09.328Z"
   },
   {
    "duration": 380,
    "start_time": "2023-02-17T11:45:58.668Z"
   },
   {
    "duration": 701,
    "start_time": "2023-02-17T11:45:59.050Z"
   },
   {
    "duration": 403,
    "start_time": "2023-02-17T11:45:59.753Z"
   },
   {
    "duration": 20,
    "start_time": "2023-02-17T11:46:00.159Z"
   },
   {
    "duration": 43,
    "start_time": "2023-02-17T11:46:00.181Z"
   },
   {
    "duration": 30,
    "start_time": "2023-02-17T11:46:00.226Z"
   },
   {
    "duration": 39,
    "start_time": "2023-02-17T11:46:00.258Z"
   },
   {
    "duration": 32,
    "start_time": "2023-02-17T11:46:00.298Z"
   },
   {
    "duration": 19,
    "start_time": "2023-02-17T11:46:00.332Z"
   },
   {
    "duration": 41,
    "start_time": "2023-02-17T11:46:00.355Z"
   },
   {
    "duration": 147,
    "start_time": "2023-02-17T11:46:00.398Z"
   },
   {
    "duration": 13,
    "start_time": "2023-02-17T11:46:00.547Z"
   },
   {
    "duration": 38,
    "start_time": "2023-02-17T11:46:00.562Z"
   },
   {
    "duration": 24,
    "start_time": "2023-02-17T11:46:00.602Z"
   },
   {
    "duration": 189,
    "start_time": "2023-02-17T11:46:00.628Z"
   },
   {
    "duration": 88,
    "start_time": "2023-02-17T11:46:00.821Z"
   },
   {
    "duration": 219,
    "start_time": "2023-02-17T11:46:00.913Z"
   },
   {
    "duration": 0,
    "start_time": "2023-02-17T11:46:01.134Z"
   },
   {
    "duration": 17,
    "start_time": "2023-02-17T11:46:09.556Z"
   },
   {
    "duration": 19,
    "start_time": "2023-02-17T11:46:12.125Z"
   },
   {
    "duration": 423,
    "start_time": "2023-02-17T11:56:10.925Z"
   },
   {
    "duration": 683,
    "start_time": "2023-02-17T11:56:11.351Z"
   },
   {
    "duration": 433,
    "start_time": "2023-02-17T11:56:12.036Z"
   },
   {
    "duration": 35,
    "start_time": "2023-02-17T11:56:12.472Z"
   },
   {
    "duration": 19,
    "start_time": "2023-02-17T11:56:12.512Z"
   },
   {
    "duration": 21,
    "start_time": "2023-02-17T11:56:12.532Z"
   },
   {
    "duration": 27,
    "start_time": "2023-02-17T11:56:12.555Z"
   },
   {
    "duration": 34,
    "start_time": "2023-02-17T11:56:12.584Z"
   },
   {
    "duration": 22,
    "start_time": "2023-02-17T11:56:12.623Z"
   },
   {
    "duration": 35,
    "start_time": "2023-02-17T11:56:12.648Z"
   },
   {
    "duration": 159,
    "start_time": "2023-02-17T11:56:12.684Z"
   },
   {
    "duration": 13,
    "start_time": "2023-02-17T11:56:12.844Z"
   },
   {
    "duration": 18,
    "start_time": "2023-02-17T11:56:12.859Z"
   },
   {
    "duration": 45,
    "start_time": "2023-02-17T11:56:12.880Z"
   },
   {
    "duration": 95,
    "start_time": "2023-02-17T11:56:12.928Z"
   },
   {
    "duration": 125,
    "start_time": "2023-02-17T11:56:13.026Z"
   },
   {
    "duration": 159,
    "start_time": "2023-02-17T11:56:13.153Z"
   },
   {
    "duration": 29,
    "start_time": "2023-02-17T11:56:13.315Z"
   },
   {
    "duration": 4,
    "start_time": "2023-02-17T17:54:41.419Z"
   },
   {
    "duration": 4,
    "start_time": "2023-02-17T17:56:57.111Z"
   },
   {
    "duration": 93,
    "start_time": "2023-02-17T18:06:30.396Z"
   },
   {
    "duration": 5,
    "start_time": "2023-02-17T18:08:32.603Z"
   },
   {
    "duration": 11,
    "start_time": "2023-02-17T19:07:58.620Z"
   },
   {
    "duration": 8,
    "start_time": "2023-02-17T19:08:59.149Z"
   },
   {
    "duration": 20,
    "start_time": "2023-02-17T19:09:35.597Z"
   },
   {
    "duration": 6,
    "start_time": "2023-02-17T19:09:46.780Z"
   },
   {
    "duration": 3,
    "start_time": "2023-02-17T19:10:04.429Z"
   },
   {
    "duration": 4,
    "start_time": "2023-02-17T19:10:38.476Z"
   },
   {
    "duration": 47,
    "start_time": "2023-02-17T19:21:31.843Z"
   },
   {
    "duration": 60,
    "start_time": "2023-02-17T19:22:21.467Z"
   },
   {
    "duration": 11,
    "start_time": "2023-02-17T19:22:35.094Z"
   },
   {
    "duration": 4,
    "start_time": "2023-02-17T19:23:12.929Z"
   },
   {
    "duration": 3,
    "start_time": "2023-02-17T19:26:02.627Z"
   },
   {
    "duration": 47,
    "start_time": "2023-02-17T19:26:22.337Z"
   },
   {
    "duration": 4,
    "start_time": "2023-02-17T19:26:34.008Z"
   },
   {
    "duration": 48,
    "start_time": "2023-02-17T19:26:44.172Z"
   },
   {
    "duration": 43,
    "start_time": "2023-02-17T19:26:54.104Z"
   },
   {
    "duration": 4,
    "start_time": "2023-02-17T19:27:03.760Z"
   },
   {
    "duration": 45,
    "start_time": "2023-02-17T19:27:16.873Z"
   },
   {
    "duration": 5,
    "start_time": "2023-02-17T19:27:27.720Z"
   },
   {
    "duration": 40,
    "start_time": "2023-02-17T19:28:29.480Z"
   },
   {
    "duration": 48,
    "start_time": "2023-02-17T19:28:35.729Z"
   },
   {
    "duration": 3,
    "start_time": "2023-02-17T19:28:46.328Z"
   },
   {
    "duration": 3,
    "start_time": "2023-02-17T19:30:45.802Z"
   },
   {
    "duration": 10,
    "start_time": "2023-02-17T19:37:30.200Z"
   },
   {
    "duration": 4,
    "start_time": "2023-02-17T19:38:09.632Z"
   },
   {
    "duration": 4,
    "start_time": "2023-02-17T19:38:19.873Z"
   },
   {
    "duration": 5,
    "start_time": "2023-02-17T19:38:27.687Z"
   },
   {
    "duration": 4,
    "start_time": "2023-02-17T19:38:44.897Z"
   },
   {
    "duration": 405,
    "start_time": "2023-02-17T19:45:18.385Z"
   },
   {
    "duration": 280,
    "start_time": "2023-02-17T19:46:52.421Z"
   },
   {
    "duration": 276,
    "start_time": "2023-02-17T19:48:55.168Z"
   },
   {
    "duration": 627,
    "start_time": "2023-02-17T19:49:16.141Z"
   },
   {
    "duration": 747,
    "start_time": "2023-02-17T19:49:16.771Z"
   },
   {
    "duration": 412,
    "start_time": "2023-02-17T19:49:17.520Z"
   },
   {
    "duration": 17,
    "start_time": "2023-02-17T19:49:17.933Z"
   },
   {
    "duration": 12,
    "start_time": "2023-02-17T19:49:17.954Z"
   },
   {
    "duration": 12,
    "start_time": "2023-02-17T19:49:17.968Z"
   },
   {
    "duration": 42,
    "start_time": "2023-02-17T19:49:17.981Z"
   },
   {
    "duration": 12,
    "start_time": "2023-02-17T19:49:18.025Z"
   },
   {
    "duration": 13,
    "start_time": "2023-02-17T19:49:18.039Z"
   },
   {
    "duration": 22,
    "start_time": "2023-02-17T19:49:18.053Z"
   },
   {
    "duration": 140,
    "start_time": "2023-02-17T19:49:18.103Z"
   },
   {
    "duration": 295,
    "start_time": "2023-02-17T19:49:18.245Z"
   },
   {
    "duration": 12,
    "start_time": "2023-02-17T19:49:18.542Z"
   },
   {
    "duration": 16,
    "start_time": "2023-02-17T19:49:18.557Z"
   },
   {
    "duration": 45,
    "start_time": "2023-02-17T19:49:18.575Z"
   },
   {
    "duration": 182,
    "start_time": "2023-02-17T19:49:18.622Z"
   },
   {
    "duration": 36,
    "start_time": "2023-02-17T19:49:18.805Z"
   },
   {
    "duration": 166,
    "start_time": "2023-02-17T19:49:18.843Z"
   },
   {
    "duration": 26,
    "start_time": "2023-02-17T19:49:19.011Z"
   },
   {
    "duration": 79,
    "start_time": "2023-02-17T19:49:19.039Z"
   },
   {
    "duration": 101,
    "start_time": "2023-02-17T19:49:19.120Z"
   },
   {
    "duration": 5,
    "start_time": "2023-02-17T20:48:11.648Z"
   },
   {
    "duration": 107,
    "start_time": "2023-02-17T20:49:07.166Z"
   },
   {
    "duration": 9,
    "start_time": "2023-02-17T20:50:14.192Z"
   },
   {
    "duration": 580,
    "start_time": "2023-02-17T20:50:47.069Z"
   },
   {
    "duration": 652,
    "start_time": "2023-02-17T20:50:47.651Z"
   },
   {
    "duration": 369,
    "start_time": "2023-02-17T20:50:48.305Z"
   },
   {
    "duration": 14,
    "start_time": "2023-02-17T20:50:48.676Z"
   },
   {
    "duration": 16,
    "start_time": "2023-02-17T20:50:48.694Z"
   },
   {
    "duration": 11,
    "start_time": "2023-02-17T20:50:48.711Z"
   },
   {
    "duration": 14,
    "start_time": "2023-02-17T20:50:48.723Z"
   },
   {
    "duration": 12,
    "start_time": "2023-02-17T20:50:48.738Z"
   },
   {
    "duration": 12,
    "start_time": "2023-02-17T20:50:48.751Z"
   },
   {
    "duration": 47,
    "start_time": "2023-02-17T20:50:48.765Z"
   },
   {
    "duration": 118,
    "start_time": "2023-02-17T20:50:48.814Z"
   },
   {
    "duration": 280,
    "start_time": "2023-02-17T20:50:48.934Z"
   },
   {
    "duration": 13,
    "start_time": "2023-02-17T20:50:49.215Z"
   },
   {
    "duration": 17,
    "start_time": "2023-02-17T20:50:49.230Z"
   },
   {
    "duration": 61,
    "start_time": "2023-02-17T20:50:49.248Z"
   },
   {
    "duration": 107,
    "start_time": "2023-02-17T20:50:49.310Z"
   },
   {
    "duration": 18,
    "start_time": "2023-02-17T20:50:49.418Z"
   },
   {
    "duration": 105,
    "start_time": "2023-02-17T20:50:49.505Z"
   },
   {
    "duration": 18,
    "start_time": "2023-02-17T20:50:49.612Z"
   },
   {
    "duration": 10,
    "start_time": "2023-02-17T20:50:49.703Z"
   },
   {
    "duration": 5,
    "start_time": "2023-02-17T20:50:49.805Z"
   },
   {
    "duration": 9,
    "start_time": "2023-02-17T20:50:49.811Z"
   },
   {
    "duration": 51,
    "start_time": "2023-02-18T10:28:15.006Z"
   },
   {
    "duration": 1629,
    "start_time": "2023-02-18T10:30:26.016Z"
   },
   {
    "duration": 87,
    "start_time": "2023-02-18T10:30:27.647Z"
   },
   {
    "duration": 654,
    "start_time": "2023-02-18T10:31:14.011Z"
   },
   {
    "duration": 732,
    "start_time": "2023-02-18T10:31:14.666Z"
   },
   {
    "duration": 833,
    "start_time": "2023-02-18T10:31:15.400Z"
   },
   {
    "duration": 17,
    "start_time": "2023-02-18T10:31:16.235Z"
   },
   {
    "duration": 32,
    "start_time": "2023-02-18T10:31:16.253Z"
   },
   {
    "duration": 20,
    "start_time": "2023-02-18T10:31:16.287Z"
   },
   {
    "duration": 33,
    "start_time": "2023-02-18T10:31:16.308Z"
   },
   {
    "duration": 20,
    "start_time": "2023-02-18T10:31:16.343Z"
   },
   {
    "duration": 29,
    "start_time": "2023-02-18T10:31:16.364Z"
   },
   {
    "duration": 20,
    "start_time": "2023-02-18T10:31:16.396Z"
   },
   {
    "duration": 125,
    "start_time": "2023-02-18T10:31:16.417Z"
   },
   {
    "duration": 276,
    "start_time": "2023-02-18T10:31:16.544Z"
   },
   {
    "duration": 10,
    "start_time": "2023-02-18T10:31:16.821Z"
   },
   {
    "duration": 15,
    "start_time": "2023-02-18T10:31:16.832Z"
   },
   {
    "duration": 67,
    "start_time": "2023-02-18T10:31:16.849Z"
   },
   {
    "duration": 105,
    "start_time": "2023-02-18T10:31:16.917Z"
   },
   {
    "duration": 92,
    "start_time": "2023-02-18T10:31:17.023Z"
   },
   {
    "duration": 105,
    "start_time": "2023-02-18T10:31:17.117Z"
   },
   {
    "duration": 14,
    "start_time": "2023-02-18T10:31:17.224Z"
   },
   {
    "duration": 174,
    "start_time": "2023-02-18T10:31:17.241Z"
   },
   {
    "duration": 5,
    "start_time": "2023-02-18T10:31:17.417Z"
   },
   {
    "duration": 7,
    "start_time": "2023-02-18T10:31:17.424Z"
   },
   {
    "duration": 14,
    "start_time": "2023-02-18T10:31:17.433Z"
   },
   {
    "duration": 5,
    "start_time": "2023-02-18T10:38:45.774Z"
   },
   {
    "duration": 6,
    "start_time": "2023-02-18T10:38:57.613Z"
   },
   {
    "duration": 10,
    "start_time": "2023-02-18T10:42:53.298Z"
   },
   {
    "duration": 1431,
    "start_time": "2023-02-18T10:43:01.959Z"
   },
   {
    "duration": 9,
    "start_time": "2023-02-18T10:43:22.103Z"
   },
   {
    "duration": 9,
    "start_time": "2023-02-18T10:43:51.375Z"
   },
   {
    "duration": 4,
    "start_time": "2023-02-18T10:43:52.194Z"
   },
   {
    "duration": 5,
    "start_time": "2023-02-18T10:45:23.567Z"
   },
   {
    "duration": 4,
    "start_time": "2023-02-18T10:45:42.862Z"
   },
   {
    "duration": 4,
    "start_time": "2023-02-18T10:46:29.326Z"
   },
   {
    "duration": 4,
    "start_time": "2023-02-18T10:56:21.193Z"
   },
   {
    "duration": 4,
    "start_time": "2023-02-18T10:57:48.677Z"
   },
   {
    "duration": 3,
    "start_time": "2023-02-18T10:58:12.130Z"
   },
   {
    "duration": 9,
    "start_time": "2023-02-18T11:35:24.199Z"
   },
   {
    "duration": 4,
    "start_time": "2023-02-18T11:42:44.801Z"
   },
   {
    "duration": 10,
    "start_time": "2023-02-18T11:44:25.529Z"
   },
   {
    "duration": 6,
    "start_time": "2023-02-18T11:44:28.205Z"
   },
   {
    "duration": 4,
    "start_time": "2023-02-18T11:44:59.937Z"
   },
   {
    "duration": 7,
    "start_time": "2023-02-18T11:45:29.310Z"
   },
   {
    "duration": 9,
    "start_time": "2023-02-18T11:55:41.674Z"
   },
   {
    "duration": 5,
    "start_time": "2023-02-18T11:56:02.403Z"
   },
   {
    "duration": 3,
    "start_time": "2023-02-18T11:58:01.633Z"
   },
   {
    "duration": 3,
    "start_time": "2023-02-18T14:05:47.227Z"
   },
   {
    "duration": 7,
    "start_time": "2023-02-18T14:07:10.121Z"
   },
   {
    "duration": 9,
    "start_time": "2023-02-18T14:07:40.336Z"
   },
   {
    "duration": 10,
    "start_time": "2023-02-18T14:08:06.856Z"
   },
   {
    "duration": 12,
    "start_time": "2023-02-18T14:10:44.282Z"
   },
   {
    "duration": 2,
    "start_time": "2023-02-18T14:11:46.681Z"
   },
   {
    "duration": 6,
    "start_time": "2023-02-18T14:11:53.957Z"
   },
   {
    "duration": 11,
    "start_time": "2023-02-18T14:11:54.660Z"
   },
   {
    "duration": 35,
    "start_time": "2023-02-18T14:12:54.367Z"
   },
   {
    "duration": 8,
    "start_time": "2023-02-18T14:12:59.237Z"
   },
   {
    "duration": 1247,
    "start_time": "2023-02-18T14:13:00.566Z"
   },
   {
    "duration": 3,
    "start_time": "2023-02-18T14:13:38.736Z"
   },
   {
    "duration": 6,
    "start_time": "2023-02-18T14:13:43.537Z"
   },
   {
    "duration": 1341,
    "start_time": "2023-02-18T14:13:44.076Z"
   },
   {
    "duration": 4,
    "start_time": "2023-02-18T14:16:10.501Z"
   },
   {
    "duration": 9,
    "start_time": "2023-02-18T14:16:11.232Z"
   },
   {
    "duration": 1484,
    "start_time": "2023-02-18T14:16:12.231Z"
   },
   {
    "duration": 4,
    "start_time": "2023-02-18T14:16:27.268Z"
   },
   {
    "duration": 6,
    "start_time": "2023-02-18T14:16:28.794Z"
   },
   {
    "duration": 1386,
    "start_time": "2023-02-18T14:16:29.697Z"
   },
   {
    "duration": 59,
    "start_time": "2023-02-18T14:17:51.540Z"
   },
   {
    "duration": 1399,
    "start_time": "2023-02-18T14:17:52.296Z"
   },
   {
    "duration": 71,
    "start_time": "2023-02-18T14:18:34.504Z"
   },
   {
    "duration": 7,
    "start_time": "2023-02-18T14:18:42.688Z"
   },
   {
    "duration": 3,
    "start_time": "2023-02-18T14:24:21.932Z"
   },
   {
    "duration": 3,
    "start_time": "2023-02-18T14:27:00.228Z"
   },
   {
    "duration": 3,
    "start_time": "2023-02-18T14:27:00.879Z"
   },
   {
    "duration": 4,
    "start_time": "2023-02-18T14:27:01.494Z"
   },
   {
    "duration": 10,
    "start_time": "2023-02-18T14:27:23.764Z"
   },
   {
    "duration": 9,
    "start_time": "2023-02-18T14:28:39.623Z"
   },
   {
    "duration": 14,
    "start_time": "2023-02-18T14:30:17.712Z"
   },
   {
    "duration": 10,
    "start_time": "2023-02-18T14:31:10.022Z"
   },
   {
    "duration": 9,
    "start_time": "2023-02-18T14:31:34.324Z"
   },
   {
    "duration": 9,
    "start_time": "2023-02-18T14:31:47.788Z"
   },
   {
    "duration": 4,
    "start_time": "2023-02-18T14:31:52.644Z"
   },
   {
    "duration": 5,
    "start_time": "2023-02-18T14:32:45.764Z"
   },
   {
    "duration": 13,
    "start_time": "2023-02-18T14:32:46.438Z"
   },
   {
    "duration": 3,
    "start_time": "2023-02-18T14:36:35.789Z"
   },
   {
    "duration": 4,
    "start_time": "2023-02-18T14:36:36.806Z"
   },
   {
    "duration": 4,
    "start_time": "2023-02-18T14:36:37.284Z"
   },
   {
    "duration": 12,
    "start_time": "2023-02-18T14:36:38.492Z"
   },
   {
    "duration": 14,
    "start_time": "2023-02-18T14:37:11.093Z"
   },
   {
    "duration": 13,
    "start_time": "2023-02-18T14:37:23.458Z"
   },
   {
    "duration": 13,
    "start_time": "2023-02-18T14:37:45.678Z"
   },
   {
    "duration": 3,
    "start_time": "2023-02-18T14:38:37.023Z"
   },
   {
    "duration": 7,
    "start_time": "2023-02-18T14:38:38.100Z"
   },
   {
    "duration": 1398,
    "start_time": "2023-02-18T14:38:38.933Z"
   },
   {
    "duration": 13,
    "start_time": "2023-02-18T14:41:03.188Z"
   },
   {
    "duration": 1416,
    "start_time": "2023-02-18T14:44:10.698Z"
   },
   {
    "duration": 7,
    "start_time": "2023-02-18T14:47:08.658Z"
   },
   {
    "duration": 1395,
    "start_time": "2023-02-18T14:47:09.329Z"
   },
   {
    "duration": 1436,
    "start_time": "2023-02-18T14:47:21.588Z"
   },
   {
    "duration": 1392,
    "start_time": "2023-02-18T14:47:53.978Z"
   },
   {
    "duration": 7,
    "start_time": "2023-02-18T14:50:37.874Z"
   },
   {
    "duration": 1069,
    "start_time": "2023-02-18T14:50:38.830Z"
   },
   {
    "duration": 6,
    "start_time": "2023-02-18T14:50:59.095Z"
   },
   {
    "duration": 1434,
    "start_time": "2023-02-18T14:51:00.253Z"
   },
   {
    "duration": 69,
    "start_time": "2023-02-18T14:51:43.587Z"
   },
   {
    "duration": 7,
    "start_time": "2023-02-18T14:51:47.755Z"
   },
   {
    "duration": 6,
    "start_time": "2023-02-18T14:51:57.689Z"
   },
   {
    "duration": 6,
    "start_time": "2023-02-18T14:52:06.938Z"
   },
   {
    "duration": 1406,
    "start_time": "2023-02-18T14:52:07.658Z"
   },
   {
    "duration": 601,
    "start_time": "2023-02-18T14:52:54.547Z"
   },
   {
    "duration": 685,
    "start_time": "2023-02-18T14:52:55.150Z"
   },
   {
    "duration": 336,
    "start_time": "2023-02-18T14:52:55.837Z"
   },
   {
    "duration": 16,
    "start_time": "2023-02-18T14:52:56.175Z"
   },
   {
    "duration": 23,
    "start_time": "2023-02-18T14:52:56.193Z"
   },
   {
    "duration": 23,
    "start_time": "2023-02-18T14:52:56.217Z"
   },
   {
    "duration": 28,
    "start_time": "2023-02-18T14:52:56.242Z"
   },
   {
    "duration": 13,
    "start_time": "2023-02-18T14:52:56.271Z"
   },
   {
    "duration": 18,
    "start_time": "2023-02-18T14:52:56.285Z"
   },
   {
    "duration": 20,
    "start_time": "2023-02-18T14:52:56.304Z"
   },
   {
    "duration": 123,
    "start_time": "2023-02-18T14:52:56.325Z"
   },
   {
    "duration": 311,
    "start_time": "2023-02-18T14:52:56.450Z"
   },
   {
    "duration": 14,
    "start_time": "2023-02-18T14:52:56.765Z"
   },
   {
    "duration": 29,
    "start_time": "2023-02-18T14:52:56.783Z"
   },
   {
    "duration": 18,
    "start_time": "2023-02-18T14:52:56.816Z"
   },
   {
    "duration": 178,
    "start_time": "2023-02-18T14:52:56.836Z"
   },
   {
    "duration": 22,
    "start_time": "2023-02-18T14:52:57.016Z"
   },
   {
    "duration": 174,
    "start_time": "2023-02-18T14:52:57.039Z"
   },
   {
    "duration": 16,
    "start_time": "2023-02-18T14:52:57.215Z"
   },
   {
    "duration": 4,
    "start_time": "2023-02-18T14:52:57.234Z"
   },
   {
    "duration": 104,
    "start_time": "2023-02-18T14:52:57.311Z"
   },
   {
    "duration": 6,
    "start_time": "2023-02-18T14:52:57.416Z"
   },
   {
    "duration": 9,
    "start_time": "2023-02-18T14:52:57.424Z"
   },
   {
    "duration": 4,
    "start_time": "2023-02-18T14:52:57.435Z"
   },
   {
    "duration": 5,
    "start_time": "2023-02-18T14:52:57.440Z"
   },
   {
    "duration": 9,
    "start_time": "2023-02-18T14:52:57.446Z"
   },
   {
    "duration": 3,
    "start_time": "2023-02-18T14:52:57.457Z"
   },
   {
    "duration": 17,
    "start_time": "2023-02-18T14:52:57.461Z"
   },
   {
    "duration": 33,
    "start_time": "2023-02-18T14:52:57.480Z"
   },
   {
    "duration": 4,
    "start_time": "2023-02-18T14:52:57.514Z"
   },
   {
    "duration": 4,
    "start_time": "2023-02-18T14:52:57.520Z"
   },
   {
    "duration": 4,
    "start_time": "2023-02-18T14:52:57.526Z"
   },
   {
    "duration": 8,
    "start_time": "2023-02-18T14:52:57.532Z"
   },
   {
    "duration": 1445,
    "start_time": "2023-02-18T14:52:57.541Z"
   },
   {
    "duration": 1406,
    "start_time": "2023-02-18T14:52:58.988Z"
   },
   {
    "duration": 1416,
    "start_time": "2023-02-18T14:53:00.396Z"
   },
   {
    "duration": 3,
    "start_time": "2023-02-18T14:53:01.814Z"
   },
   {
    "duration": 14,
    "start_time": "2023-02-18T14:53:01.819Z"
   },
   {
    "duration": 24,
    "start_time": "2023-02-18T14:53:01.834Z"
   },
   {
    "duration": 150,
    "start_time": "2023-02-18T14:53:01.860Z"
   },
   {
    "duration": 709,
    "start_time": "2023-02-18T17:08:59.618Z"
   },
   {
    "duration": 732,
    "start_time": "2023-02-18T17:09:00.329Z"
   },
   {
    "duration": 374,
    "start_time": "2023-02-18T17:09:01.063Z"
   },
   {
    "duration": 18,
    "start_time": "2023-02-18T17:09:01.438Z"
   },
   {
    "duration": 27,
    "start_time": "2023-02-18T17:09:01.458Z"
   },
   {
    "duration": 652,
    "start_time": "2023-02-18T17:09:32.577Z"
   },
   {
    "duration": 723,
    "start_time": "2023-02-18T17:09:33.231Z"
   },
   {
    "duration": 349,
    "start_time": "2023-02-18T17:09:33.955Z"
   },
   {
    "duration": 24,
    "start_time": "2023-02-18T17:09:34.305Z"
   },
   {
    "duration": 10,
    "start_time": "2023-02-18T17:09:34.332Z"
   },
   {
    "duration": 12,
    "start_time": "2023-02-18T17:09:34.344Z"
   },
   {
    "duration": 18,
    "start_time": "2023-02-18T17:09:34.357Z"
   },
   {
    "duration": 14,
    "start_time": "2023-02-18T17:09:34.376Z"
   },
   {
    "duration": 22,
    "start_time": "2023-02-18T17:09:34.411Z"
   },
   {
    "duration": 23,
    "start_time": "2023-02-18T17:09:34.435Z"
   },
   {
    "duration": 160,
    "start_time": "2023-02-18T17:09:34.459Z"
   },
   {
    "duration": 304,
    "start_time": "2023-02-18T17:09:34.620Z"
   },
   {
    "duration": 14,
    "start_time": "2023-02-18T17:09:34.926Z"
   },
   {
    "duration": 15,
    "start_time": "2023-02-18T17:09:34.943Z"
   },
   {
    "duration": 56,
    "start_time": "2023-02-18T17:09:34.959Z"
   },
   {
    "duration": 99,
    "start_time": "2023-02-18T17:09:35.029Z"
   },
   {
    "duration": 18,
    "start_time": "2023-02-18T17:09:35.130Z"
   },
   {
    "duration": 106,
    "start_time": "2023-02-18T17:09:35.209Z"
   },
   {
    "duration": 19,
    "start_time": "2023-02-18T17:09:35.316Z"
   },
   {
    "duration": 8,
    "start_time": "2023-02-18T17:09:35.415Z"
   },
   {
    "duration": 107,
    "start_time": "2023-02-18T17:09:35.424Z"
   },
   {
    "duration": 4,
    "start_time": "2023-02-18T17:09:35.533Z"
   },
   {
    "duration": 10,
    "start_time": "2023-02-18T17:09:35.539Z"
   },
   {
    "duration": 11,
    "start_time": "2023-02-18T17:09:35.550Z"
   },
   {
    "duration": 26,
    "start_time": "2023-02-18T17:09:35.562Z"
   },
   {
    "duration": 9,
    "start_time": "2023-02-18T17:09:35.590Z"
   },
   {
    "duration": 3,
    "start_time": "2023-02-18T17:09:35.601Z"
   },
   {
    "duration": 25,
    "start_time": "2023-02-18T17:09:35.606Z"
   },
   {
    "duration": 9,
    "start_time": "2023-02-18T17:09:35.632Z"
   },
   {
    "duration": 3,
    "start_time": "2023-02-18T17:09:35.643Z"
   },
   {
    "duration": 20,
    "start_time": "2023-02-18T17:09:35.647Z"
   },
   {
    "duration": 10,
    "start_time": "2023-02-18T17:09:35.668Z"
   },
   {
    "duration": 79,
    "start_time": "2023-02-18T17:09:35.680Z"
   },
   {
    "duration": 0,
    "start_time": "2023-02-18T17:09:35.760Z"
   },
   {
    "duration": 0,
    "start_time": "2023-02-18T17:09:35.761Z"
   },
   {
    "duration": 0,
    "start_time": "2023-02-18T17:09:35.762Z"
   },
   {
    "duration": 6,
    "start_time": "2023-02-18T17:10:47.556Z"
   },
   {
    "duration": 1502,
    "start_time": "2023-02-18T17:11:04.990Z"
   },
   {
    "duration": 1469,
    "start_time": "2023-02-18T17:11:38.058Z"
   },
   {
    "duration": 1476,
    "start_time": "2023-02-18T17:11:39.529Z"
   },
   {
    "duration": 4,
    "start_time": "2023-02-18T17:16:37.045Z"
   },
   {
    "duration": 67,
    "start_time": "2023-02-18T17:16:43.678Z"
   },
   {
    "duration": 1433,
    "start_time": "2023-02-18T17:16:46.288Z"
   },
   {
    "duration": 615,
    "start_time": "2023-02-18T17:22:14.833Z"
   },
   {
    "duration": 691,
    "start_time": "2023-02-18T17:22:15.450Z"
   },
   {
    "duration": 346,
    "start_time": "2023-02-18T17:22:16.143Z"
   },
   {
    "duration": 23,
    "start_time": "2023-02-18T17:22:16.491Z"
   },
   {
    "duration": 12,
    "start_time": "2023-02-18T17:22:16.516Z"
   },
   {
    "duration": 13,
    "start_time": "2023-02-18T17:22:16.529Z"
   },
   {
    "duration": 15,
    "start_time": "2023-02-18T17:22:16.543Z"
   },
   {
    "duration": 12,
    "start_time": "2023-02-18T17:22:16.559Z"
   },
   {
    "duration": 39,
    "start_time": "2023-02-18T17:22:16.572Z"
   },
   {
    "duration": 20,
    "start_time": "2023-02-18T17:22:16.613Z"
   },
   {
    "duration": 130,
    "start_time": "2023-02-18T17:22:16.634Z"
   },
   {
    "duration": 304,
    "start_time": "2023-02-18T17:22:16.766Z"
   },
   {
    "duration": 12,
    "start_time": "2023-02-18T17:22:17.072Z"
   },
   {
    "duration": 27,
    "start_time": "2023-02-18T17:22:17.086Z"
   },
   {
    "duration": 94,
    "start_time": "2023-02-18T17:22:17.116Z"
   },
   {
    "duration": 100,
    "start_time": "2023-02-18T17:22:17.212Z"
   },
   {
    "duration": 22,
    "start_time": "2023-02-18T17:22:17.314Z"
   },
   {
    "duration": 174,
    "start_time": "2023-02-18T17:22:17.337Z"
   },
   {
    "duration": 20,
    "start_time": "2023-02-18T17:22:17.512Z"
   },
   {
    "duration": 76,
    "start_time": "2023-02-18T17:22:17.534Z"
   },
   {
    "duration": 102,
    "start_time": "2023-02-18T17:22:17.612Z"
   },
   {
    "duration": 22,
    "start_time": "2023-02-18T17:22:17.716Z"
   },
   {
    "duration": 14,
    "start_time": "2023-02-18T17:22:17.740Z"
   },
   {
    "duration": 4,
    "start_time": "2023-02-18T17:22:17.755Z"
   },
   {
    "duration": 7,
    "start_time": "2023-02-18T17:22:17.760Z"
   },
   {
    "duration": 14,
    "start_time": "2023-02-18T17:22:17.769Z"
   },
   {
    "duration": 4,
    "start_time": "2023-02-18T17:22:17.784Z"
   },
   {
    "duration": 5,
    "start_time": "2023-02-18T17:22:17.791Z"
   },
   {
    "duration": 19,
    "start_time": "2023-02-18T17:22:17.797Z"
   },
   {
    "duration": 4,
    "start_time": "2023-02-18T17:22:17.818Z"
   },
   {
    "duration": 4,
    "start_time": "2023-02-18T17:22:17.823Z"
   },
   {
    "duration": 7,
    "start_time": "2023-02-18T17:22:17.829Z"
   },
   {
    "duration": 6,
    "start_time": "2023-02-18T17:22:17.837Z"
   },
   {
    "duration": 1430,
    "start_time": "2023-02-18T17:22:17.844Z"
   },
   {
    "duration": 1427,
    "start_time": "2023-02-18T17:22:19.276Z"
   },
   {
    "duration": 1416,
    "start_time": "2023-02-18T17:22:20.710Z"
   },
   {
    "duration": 90,
    "start_time": "2023-02-18T17:35:35.506Z"
   },
   {
    "duration": 1880,
    "start_time": "2023-02-18T17:35:36.857Z"
   },
   {
    "duration": 6,
    "start_time": "2023-02-18T17:36:02.705Z"
   },
   {
    "duration": 1471,
    "start_time": "2023-02-18T17:36:03.917Z"
   },
   {
    "duration": 642,
    "start_time": "2023-02-18T17:36:13.810Z"
   },
   {
    "duration": 763,
    "start_time": "2023-02-18T17:36:14.454Z"
   },
   {
    "duration": 338,
    "start_time": "2023-02-18T17:36:15.218Z"
   },
   {
    "duration": 16,
    "start_time": "2023-02-18T17:36:15.558Z"
   },
   {
    "duration": 11,
    "start_time": "2023-02-18T17:36:15.576Z"
   },
   {
    "duration": 26,
    "start_time": "2023-02-18T17:36:15.588Z"
   },
   {
    "duration": 13,
    "start_time": "2023-02-18T17:36:15.616Z"
   },
   {
    "duration": 16,
    "start_time": "2023-02-18T17:36:15.631Z"
   },
   {
    "duration": 13,
    "start_time": "2023-02-18T17:36:15.648Z"
   },
   {
    "duration": 50,
    "start_time": "2023-02-18T17:36:15.664Z"
   },
   {
    "duration": 121,
    "start_time": "2023-02-18T17:36:15.715Z"
   },
   {
    "duration": 277,
    "start_time": "2023-02-18T17:36:15.837Z"
   },
   {
    "duration": 10,
    "start_time": "2023-02-18T17:36:16.116Z"
   },
   {
    "duration": 15,
    "start_time": "2023-02-18T17:36:16.128Z"
   },
   {
    "duration": 68,
    "start_time": "2023-02-18T17:36:16.144Z"
   },
   {
    "duration": 100,
    "start_time": "2023-02-18T17:36:16.214Z"
   },
   {
    "duration": 18,
    "start_time": "2023-02-18T17:36:16.316Z"
   },
   {
    "duration": 175,
    "start_time": "2023-02-18T17:36:16.336Z"
   },
   {
    "duration": 98,
    "start_time": "2023-02-18T17:36:16.512Z"
   },
   {
    "duration": 103,
    "start_time": "2023-02-18T17:36:16.612Z"
   },
   {
    "duration": 7,
    "start_time": "2023-02-18T17:36:16.717Z"
   },
   {
    "duration": 6,
    "start_time": "2023-02-18T17:36:16.725Z"
   },
   {
    "duration": 11,
    "start_time": "2023-02-18T17:36:16.733Z"
   },
   {
    "duration": 3,
    "start_time": "2023-02-18T17:36:16.746Z"
   },
   {
    "duration": 5,
    "start_time": "2023-02-18T17:36:16.751Z"
   },
   {
    "duration": 13,
    "start_time": "2023-02-18T17:36:16.758Z"
   },
   {
    "duration": 4,
    "start_time": "2023-02-18T17:36:16.773Z"
   },
   {
    "duration": 4,
    "start_time": "2023-02-18T17:36:16.811Z"
   },
   {
    "duration": 12,
    "start_time": "2023-02-18T17:36:16.817Z"
   },
   {
    "duration": 4,
    "start_time": "2023-02-18T17:36:16.830Z"
   },
   {
    "duration": 4,
    "start_time": "2023-02-18T17:36:16.836Z"
   },
   {
    "duration": 7,
    "start_time": "2023-02-18T17:36:16.842Z"
   },
   {
    "duration": 6,
    "start_time": "2023-02-18T17:36:16.850Z"
   },
   {
    "duration": 1614,
    "start_time": "2023-02-18T17:36:16.858Z"
   },
   {
    "duration": 1470,
    "start_time": "2023-02-18T17:36:18.474Z"
   },
   {
    "duration": 1567,
    "start_time": "2023-02-18T17:36:19.946Z"
   },
   {
    "duration": 608,
    "start_time": "2023-02-19T16:19:36.008Z"
   },
   {
    "duration": 740,
    "start_time": "2023-02-19T16:19:36.618Z"
   },
   {
    "duration": 334,
    "start_time": "2023-02-19T16:19:37.360Z"
   },
   {
    "duration": 16,
    "start_time": "2023-02-19T16:19:37.696Z"
   },
   {
    "duration": 21,
    "start_time": "2023-02-19T16:19:37.713Z"
   },
   {
    "duration": 28,
    "start_time": "2023-02-19T16:19:37.736Z"
   },
   {
    "duration": 35,
    "start_time": "2023-02-19T16:19:37.766Z"
   },
   {
    "duration": 15,
    "start_time": "2023-02-19T16:19:37.803Z"
   },
   {
    "duration": 19,
    "start_time": "2023-02-19T16:19:37.820Z"
   },
   {
    "duration": 19,
    "start_time": "2023-02-19T16:19:37.843Z"
   },
   {
    "duration": 133,
    "start_time": "2023-02-19T16:19:37.886Z"
   },
   {
    "duration": 278,
    "start_time": "2023-02-19T16:19:38.021Z"
   },
   {
    "duration": 12,
    "start_time": "2023-02-19T16:19:38.301Z"
   },
   {
    "duration": 22,
    "start_time": "2023-02-19T16:19:38.314Z"
   },
   {
    "duration": 56,
    "start_time": "2023-02-19T16:19:38.337Z"
   },
   {
    "duration": 103,
    "start_time": "2023-02-19T16:19:38.395Z"
   },
   {
    "duration": 89,
    "start_time": "2023-02-19T16:19:38.500Z"
   },
   {
    "duration": 104,
    "start_time": "2023-02-19T16:19:38.590Z"
   },
   {
    "duration": 20,
    "start_time": "2023-02-19T16:19:38.696Z"
   },
   {
    "duration": 5,
    "start_time": "2023-02-19T16:19:38.786Z"
   },
   {
    "duration": 98,
    "start_time": "2023-02-19T16:19:38.793Z"
   },
   {
    "duration": 6,
    "start_time": "2023-02-19T16:19:38.893Z"
   },
   {
    "duration": 11,
    "start_time": "2023-02-19T16:19:38.900Z"
   },
   {
    "duration": 6,
    "start_time": "2023-02-19T16:19:38.913Z"
   },
   {
    "duration": 8,
    "start_time": "2023-02-19T16:19:38.921Z"
   },
   {
    "duration": 12,
    "start_time": "2023-02-19T16:19:38.931Z"
   },
   {
    "duration": 4,
    "start_time": "2023-02-19T16:19:38.945Z"
   },
   {
    "duration": 5,
    "start_time": "2023-02-19T16:19:38.985Z"
   },
   {
    "duration": 24,
    "start_time": "2023-02-19T16:19:38.991Z"
   },
   {
    "duration": 8,
    "start_time": "2023-02-19T16:19:39.017Z"
   },
   {
    "duration": 7,
    "start_time": "2023-02-19T16:19:39.026Z"
   },
   {
    "duration": 7,
    "start_time": "2023-02-19T16:19:39.034Z"
   },
   {
    "duration": 9,
    "start_time": "2023-02-19T16:19:39.042Z"
   },
   {
    "duration": 1609,
    "start_time": "2023-02-19T16:19:39.053Z"
   },
   {
    "duration": 1567,
    "start_time": "2023-02-19T16:19:40.664Z"
   },
   {
    "duration": 1618,
    "start_time": "2023-02-19T16:19:42.233Z"
   },
   {
    "duration": 134,
    "start_time": "2023-02-19T16:31:47.480Z"
   },
   {
    "duration": 23,
    "start_time": "2023-02-19T16:32:11.662Z"
   },
   {
    "duration": 9,
    "start_time": "2023-02-19T16:32:25.442Z"
   },
   {
    "duration": 587,
    "start_time": "2023-02-19T16:36:58.040Z"
   },
   {
    "duration": 821,
    "start_time": "2023-02-19T16:36:58.631Z"
   },
   {
    "duration": 338,
    "start_time": "2023-02-19T16:36:59.453Z"
   },
   {
    "duration": 16,
    "start_time": "2023-02-19T16:36:59.793Z"
   },
   {
    "duration": 12,
    "start_time": "2023-02-19T16:36:59.811Z"
   },
   {
    "duration": 14,
    "start_time": "2023-02-19T16:36:59.825Z"
   },
   {
    "duration": 27,
    "start_time": "2023-02-19T16:36:59.840Z"
   },
   {
    "duration": 28,
    "start_time": "2023-02-19T16:36:59.868Z"
   },
   {
    "duration": 12,
    "start_time": "2023-02-19T16:36:59.898Z"
   },
   {
    "duration": 21,
    "start_time": "2023-02-19T16:36:59.912Z"
   },
   {
    "duration": 153,
    "start_time": "2023-02-19T16:36:59.935Z"
   },
   {
    "duration": 293,
    "start_time": "2023-02-19T16:37:00.089Z"
   },
   {
    "duration": 12,
    "start_time": "2023-02-19T16:37:00.385Z"
   },
   {
    "duration": 34,
    "start_time": "2023-02-19T16:37:00.399Z"
   },
   {
    "duration": 53,
    "start_time": "2023-02-19T16:37:00.435Z"
   },
   {
    "duration": 126,
    "start_time": "2023-02-19T16:37:00.490Z"
   },
   {
    "duration": 102,
    "start_time": "2023-02-19T16:37:00.686Z"
   },
   {
    "duration": 144,
    "start_time": "2023-02-19T16:37:00.789Z"
   },
   {
    "duration": 42,
    "start_time": "2023-02-19T16:37:00.935Z"
   },
   {
    "duration": 108,
    "start_time": "2023-02-19T16:37:00.980Z"
   },
   {
    "duration": 164,
    "start_time": "2023-02-19T16:37:01.090Z"
   },
   {
    "duration": 52,
    "start_time": "2023-02-19T16:37:01.256Z"
   },
   {
    "duration": 65,
    "start_time": "2023-02-19T16:37:01.310Z"
   },
   {
    "duration": 76,
    "start_time": "2023-02-19T16:37:01.377Z"
   },
   {
    "duration": 48,
    "start_time": "2023-02-19T16:37:01.455Z"
   },
   {
    "duration": 36,
    "start_time": "2023-02-19T16:37:01.505Z"
   },
   {
    "duration": 34,
    "start_time": "2023-02-19T16:37:01.543Z"
   },
   {
    "duration": 23,
    "start_time": "2023-02-19T16:37:01.580Z"
   },
   {
    "duration": 50,
    "start_time": "2023-02-19T16:37:01.604Z"
   },
   {
    "duration": 19,
    "start_time": "2023-02-19T16:37:01.655Z"
   },
   {
    "duration": 38,
    "start_time": "2023-02-19T16:37:01.676Z"
   },
   {
    "duration": 47,
    "start_time": "2023-02-19T16:37:01.716Z"
   },
   {
    "duration": 61,
    "start_time": "2023-02-19T16:37:01.765Z"
   },
   {
    "duration": 2875,
    "start_time": "2023-02-19T16:37:01.827Z"
   },
   {
    "duration": 2796,
    "start_time": "2023-02-19T16:37:04.703Z"
   },
   {
    "duration": 2779,
    "start_time": "2023-02-19T16:37:07.501Z"
   },
   {
    "duration": 603,
    "start_time": "2023-02-19T16:38:05.817Z"
   },
   {
    "duration": 778,
    "start_time": "2023-02-19T16:38:06.422Z"
   },
   {
    "duration": 331,
    "start_time": "2023-02-19T16:38:07.202Z"
   },
   {
    "duration": 15,
    "start_time": "2023-02-19T16:38:07.535Z"
   },
   {
    "duration": 11,
    "start_time": "2023-02-19T16:38:07.552Z"
   },
   {
    "duration": 27,
    "start_time": "2023-02-19T16:38:07.564Z"
   },
   {
    "duration": 16,
    "start_time": "2023-02-19T16:38:07.592Z"
   },
   {
    "duration": 12,
    "start_time": "2023-02-19T16:38:07.610Z"
   },
   {
    "duration": 14,
    "start_time": "2023-02-19T16:38:07.623Z"
   },
   {
    "duration": 18,
    "start_time": "2023-02-19T16:38:07.640Z"
   },
   {
    "duration": 124,
    "start_time": "2023-02-19T16:38:07.686Z"
   },
   {
    "duration": 288,
    "start_time": "2023-02-19T16:38:07.811Z"
   },
   {
    "duration": 10,
    "start_time": "2023-02-19T16:38:08.101Z"
   },
   {
    "duration": 17,
    "start_time": "2023-02-19T16:38:08.113Z"
   },
   {
    "duration": 57,
    "start_time": "2023-02-19T16:38:08.131Z"
   },
   {
    "duration": 102,
    "start_time": "2023-02-19T16:38:08.191Z"
   },
   {
    "duration": 20,
    "start_time": "2023-02-19T16:38:08.295Z"
   },
   {
    "duration": 169,
    "start_time": "2023-02-19T16:38:08.317Z"
   },
   {
    "duration": 23,
    "start_time": "2023-02-19T16:38:08.488Z"
   },
   {
    "duration": 7,
    "start_time": "2023-02-19T16:38:08.587Z"
   },
   {
    "duration": 13,
    "start_time": "2023-02-19T16:38:08.685Z"
   },
   {
    "duration": 9,
    "start_time": "2023-02-19T16:38:08.700Z"
   },
   {
    "duration": 31,
    "start_time": "2023-02-19T16:38:08.710Z"
   },
   {
    "duration": 22,
    "start_time": "2023-02-19T16:38:08.742Z"
   },
   {
    "duration": 38,
    "start_time": "2023-02-19T16:38:08.765Z"
   },
   {
    "duration": 52,
    "start_time": "2023-02-19T16:38:08.805Z"
   },
   {
    "duration": 31,
    "start_time": "2023-02-19T16:38:08.859Z"
   },
   {
    "duration": 46,
    "start_time": "2023-02-19T16:38:08.894Z"
   },
   {
    "duration": 18,
    "start_time": "2023-02-19T16:38:08.941Z"
   },
   {
    "duration": 6,
    "start_time": "2023-02-19T16:38:08.961Z"
   },
   {
    "duration": 22,
    "start_time": "2023-02-19T16:38:08.968Z"
   },
   {
    "duration": 16,
    "start_time": "2023-02-19T16:38:08.992Z"
   },
   {
    "duration": 15,
    "start_time": "2023-02-19T16:38:09.010Z"
   },
   {
    "duration": 4741,
    "start_time": "2023-02-19T16:38:09.026Z"
   },
   {
    "duration": 4470,
    "start_time": "2023-02-19T16:38:13.768Z"
   },
   {
    "duration": 626,
    "start_time": "2023-02-19T16:38:23.244Z"
   },
   {
    "duration": 843,
    "start_time": "2023-02-19T16:38:23.872Z"
   },
   {
    "duration": 397,
    "start_time": "2023-02-19T16:38:24.717Z"
   },
   {
    "duration": 21,
    "start_time": "2023-02-19T16:38:25.117Z"
   },
   {
    "duration": 29,
    "start_time": "2023-02-19T16:38:25.140Z"
   },
   {
    "duration": 31,
    "start_time": "2023-02-19T16:38:25.170Z"
   },
   {
    "duration": 26,
    "start_time": "2023-02-19T16:38:25.204Z"
   },
   {
    "duration": 35,
    "start_time": "2023-02-19T16:38:25.232Z"
   },
   {
    "duration": 38,
    "start_time": "2023-02-19T16:38:25.270Z"
   },
   {
    "duration": 29,
    "start_time": "2023-02-19T16:38:25.311Z"
   },
   {
    "duration": 144,
    "start_time": "2023-02-19T16:38:25.342Z"
   },
   {
    "duration": 374,
    "start_time": "2023-02-19T16:38:25.488Z"
   },
   {
    "duration": 24,
    "start_time": "2023-02-19T16:38:25.864Z"
   },
   {
    "duration": 38,
    "start_time": "2023-02-19T16:38:25.889Z"
   },
   {
    "duration": 30,
    "start_time": "2023-02-19T16:38:25.929Z"
   },
   {
    "duration": 126,
    "start_time": "2023-02-19T16:38:25.961Z"
   },
   {
    "duration": 26,
    "start_time": "2023-02-19T16:38:26.089Z"
   },
   {
    "duration": 176,
    "start_time": "2023-02-19T16:38:26.117Z"
   },
   {
    "duration": 20,
    "start_time": "2023-02-19T16:38:26.296Z"
   },
   {
    "duration": 73,
    "start_time": "2023-02-19T16:38:26.318Z"
   },
   {
    "duration": 101,
    "start_time": "2023-02-19T16:38:26.395Z"
   },
   {
    "duration": 8,
    "start_time": "2023-02-19T16:38:26.498Z"
   },
   {
    "duration": 12,
    "start_time": "2023-02-19T16:38:26.507Z"
   },
   {
    "duration": 9,
    "start_time": "2023-02-19T16:38:26.521Z"
   },
   {
    "duration": 8,
    "start_time": "2023-02-19T16:38:26.532Z"
   },
   {
    "duration": 12,
    "start_time": "2023-02-19T16:38:26.541Z"
   },
   {
    "duration": 5,
    "start_time": "2023-02-19T16:38:26.555Z"
   },
   {
    "duration": 28,
    "start_time": "2023-02-19T16:38:26.563Z"
   },
   {
    "duration": 15,
    "start_time": "2023-02-19T16:38:26.593Z"
   },
   {
    "duration": 6,
    "start_time": "2023-02-19T16:38:26.610Z"
   },
   {
    "duration": 7,
    "start_time": "2023-02-19T16:38:26.617Z"
   },
   {
    "duration": 9,
    "start_time": "2023-02-19T16:38:26.626Z"
   },
   {
    "duration": 8,
    "start_time": "2023-02-19T16:38:26.636Z"
   },
   {
    "duration": 3830,
    "start_time": "2023-02-19T16:38:26.645Z"
   },
   {
    "duration": 4077,
    "start_time": "2023-02-19T16:38:30.477Z"
   },
   {
    "duration": 3732,
    "start_time": "2023-02-19T16:38:34.555Z"
   },
   {
    "duration": 7,
    "start_time": "2023-02-19T16:39:05.603Z"
   },
   {
    "duration": 44,
    "start_time": "2023-02-19T16:59:02.975Z"
   },
   {
    "duration": 758,
    "start_time": "2023-02-19T16:59:11.275Z"
   },
   {
    "duration": 710,
    "start_time": "2023-02-19T16:59:12.036Z"
   },
   {
    "duration": 1744,
    "start_time": "2023-02-19T16:59:12.748Z"
   },
   {
    "duration": 17,
    "start_time": "2023-02-19T16:59:14.493Z"
   },
   {
    "duration": 20,
    "start_time": "2023-02-19T16:59:14.512Z"
   },
   {
    "duration": 33,
    "start_time": "2023-02-19T16:59:14.534Z"
   },
   {
    "duration": 32,
    "start_time": "2023-02-19T16:59:14.571Z"
   },
   {
    "duration": 17,
    "start_time": "2023-02-19T16:59:14.605Z"
   },
   {
    "duration": 17,
    "start_time": "2023-02-19T16:59:14.623Z"
   },
   {
    "duration": 34,
    "start_time": "2023-02-19T16:59:14.642Z"
   },
   {
    "duration": 147,
    "start_time": "2023-02-19T16:59:14.678Z"
   },
   {
    "duration": 307,
    "start_time": "2023-02-19T16:59:14.827Z"
   },
   {
    "duration": 12,
    "start_time": "2023-02-19T16:59:15.135Z"
   },
   {
    "duration": 26,
    "start_time": "2023-02-19T16:59:15.149Z"
   },
   {
    "duration": 87,
    "start_time": "2023-02-19T16:59:15.176Z"
   },
   {
    "duration": 101,
    "start_time": "2023-02-19T16:59:15.265Z"
   },
   {
    "duration": 29,
    "start_time": "2023-02-19T16:59:15.368Z"
   },
   {
    "duration": 81,
    "start_time": "2023-02-19T16:59:15.400Z"
   },
   {
    "duration": 115,
    "start_time": "2023-02-19T16:59:15.483Z"
   },
   {
    "duration": 68,
    "start_time": "2023-02-19T16:59:15.600Z"
   },
   {
    "duration": 89,
    "start_time": "2023-02-19T16:59:15.676Z"
   },
   {
    "duration": 6,
    "start_time": "2023-02-19T16:59:15.767Z"
   },
   {
    "duration": 15,
    "start_time": "2023-02-19T16:59:15.775Z"
   },
   {
    "duration": 19,
    "start_time": "2023-02-19T16:59:15.792Z"
   },
   {
    "duration": 25,
    "start_time": "2023-02-19T16:59:15.813Z"
   },
   {
    "duration": 16,
    "start_time": "2023-02-19T16:59:15.839Z"
   },
   {
    "duration": 27,
    "start_time": "2023-02-19T16:59:15.857Z"
   },
   {
    "duration": 20,
    "start_time": "2023-02-19T16:59:15.886Z"
   },
   {
    "duration": 20,
    "start_time": "2023-02-19T16:59:15.908Z"
   },
   {
    "duration": 22,
    "start_time": "2023-02-19T16:59:15.930Z"
   },
   {
    "duration": 22,
    "start_time": "2023-02-19T16:59:15.954Z"
   },
   {
    "duration": 36,
    "start_time": "2023-02-19T16:59:15.979Z"
   },
   {
    "duration": 19,
    "start_time": "2023-02-19T16:59:16.017Z"
   },
   {
    "duration": 27,
    "start_time": "2023-02-19T16:59:16.038Z"
   },
   {
    "duration": 3361,
    "start_time": "2023-02-19T16:59:16.072Z"
   },
   {
    "duration": 3267,
    "start_time": "2023-02-19T16:59:19.434Z"
   },
   {
    "duration": 3319,
    "start_time": "2023-02-19T16:59:22.703Z"
   },
   {
    "duration": 233,
    "start_time": "2023-02-19T17:10:53.140Z"
   },
   {
    "duration": 117,
    "start_time": "2023-02-19T17:12:37.905Z"
   },
   {
    "duration": 637,
    "start_time": "2023-02-19T17:13:06.936Z"
   },
   {
    "duration": 743,
    "start_time": "2023-02-19T17:13:07.575Z"
   },
   {
    "duration": 1627,
    "start_time": "2023-02-19T17:13:08.320Z"
   },
   {
    "duration": 22,
    "start_time": "2023-02-19T17:13:09.949Z"
   },
   {
    "duration": 22,
    "start_time": "2023-02-19T17:13:09.976Z"
   },
   {
    "duration": 16,
    "start_time": "2023-02-19T17:13:09.999Z"
   },
   {
    "duration": 17,
    "start_time": "2023-02-19T17:13:10.016Z"
   },
   {
    "duration": 12,
    "start_time": "2023-02-19T17:13:10.034Z"
   },
   {
    "duration": 28,
    "start_time": "2023-02-19T17:13:10.047Z"
   },
   {
    "duration": 19,
    "start_time": "2023-02-19T17:13:10.078Z"
   },
   {
    "duration": 130,
    "start_time": "2023-02-19T17:13:10.098Z"
   },
   {
    "duration": 281,
    "start_time": "2023-02-19T17:13:10.229Z"
   },
   {
    "duration": 12,
    "start_time": "2023-02-19T17:13:10.512Z"
   },
   {
    "duration": 702,
    "start_time": "2023-02-19T17:13:31.068Z"
   },
   {
    "duration": 768,
    "start_time": "2023-02-19T17:13:31.772Z"
   },
   {
    "duration": 1632,
    "start_time": "2023-02-19T17:13:32.542Z"
   },
   {
    "duration": 16,
    "start_time": "2023-02-19T17:13:34.176Z"
   },
   {
    "duration": 13,
    "start_time": "2023-02-19T17:13:34.193Z"
   },
   {
    "duration": 12,
    "start_time": "2023-02-19T17:13:34.208Z"
   },
   {
    "duration": 16,
    "start_time": "2023-02-19T17:13:34.222Z"
   },
   {
    "duration": 13,
    "start_time": "2023-02-19T17:13:34.240Z"
   },
   {
    "duration": 32,
    "start_time": "2023-02-19T17:13:34.268Z"
   },
   {
    "duration": 19,
    "start_time": "2023-02-19T17:13:34.301Z"
   },
   {
    "duration": 111,
    "start_time": "2023-02-19T17:13:34.321Z"
   },
   {
    "duration": 320,
    "start_time": "2023-02-19T17:13:34.433Z"
   },
   {
    "duration": 24,
    "start_time": "2023-02-19T17:13:34.755Z"
   },
   {
    "duration": 21,
    "start_time": "2023-02-19T17:13:34.783Z"
   },
   {
    "duration": 160,
    "start_time": "2023-02-19T17:13:34.806Z"
   },
   {
    "duration": 18,
    "start_time": "2023-02-19T17:13:34.970Z"
   },
   {
    "duration": 19,
    "start_time": "2023-02-19T17:13:34.991Z"
   },
   {
    "duration": 116,
    "start_time": "2023-02-19T17:13:35.062Z"
   },
   {
    "duration": 18,
    "start_time": "2023-02-19T17:13:35.180Z"
   },
   {
    "duration": 10,
    "start_time": "2023-02-19T17:13:35.264Z"
   },
   {
    "duration": 108,
    "start_time": "2023-02-19T17:13:35.276Z"
   },
   {
    "duration": 9,
    "start_time": "2023-02-19T17:13:35.386Z"
   },
   {
    "duration": 12,
    "start_time": "2023-02-19T17:13:35.396Z"
   },
   {
    "duration": 8,
    "start_time": "2023-02-19T17:13:35.410Z"
   },
   {
    "duration": 5,
    "start_time": "2023-02-19T17:13:35.420Z"
   },
   {
    "duration": 10,
    "start_time": "2023-02-19T17:13:35.427Z"
   },
   {
    "duration": 6,
    "start_time": "2023-02-19T17:13:35.438Z"
   },
   {
    "duration": 6,
    "start_time": "2023-02-19T17:13:35.446Z"
   },
   {
    "duration": 20,
    "start_time": "2023-02-19T17:13:35.454Z"
   },
   {
    "duration": 6,
    "start_time": "2023-02-19T17:13:35.476Z"
   },
   {
    "duration": 5,
    "start_time": "2023-02-19T17:13:35.484Z"
   },
   {
    "duration": 5,
    "start_time": "2023-02-19T17:13:35.491Z"
   },
   {
    "duration": 16,
    "start_time": "2023-02-19T17:13:35.498Z"
   },
   {
    "duration": 10,
    "start_time": "2023-02-19T17:13:35.516Z"
   },
   {
    "duration": 3451,
    "start_time": "2023-02-19T17:13:35.527Z"
   },
   {
    "duration": 3313,
    "start_time": "2023-02-19T17:13:38.979Z"
   },
   {
    "duration": 3433,
    "start_time": "2023-02-19T17:13:42.293Z"
   },
   {
    "duration": 13,
    "start_time": "2023-02-19T17:20:06.575Z"
   },
   {
    "duration": 140,
    "start_time": "2023-02-19T17:24:07.415Z"
   },
   {
    "duration": 35,
    "start_time": "2023-02-19T17:24:28.440Z"
   },
   {
    "duration": 73,
    "start_time": "2023-02-19T18:19:33.988Z"
   },
   {
    "duration": 3314,
    "start_time": "2023-02-19T18:19:38.308Z"
   },
   {
    "duration": 616,
    "start_time": "2023-02-19T18:36:25.853Z"
   },
   {
    "duration": 734,
    "start_time": "2023-02-19T18:36:26.471Z"
   },
   {
    "duration": 376,
    "start_time": "2023-02-19T18:36:27.207Z"
   },
   {
    "duration": 16,
    "start_time": "2023-02-19T18:36:27.585Z"
   },
   {
    "duration": 20,
    "start_time": "2023-02-19T18:36:27.603Z"
   },
   {
    "duration": 17,
    "start_time": "2023-02-19T18:36:27.625Z"
   },
   {
    "duration": 25,
    "start_time": "2023-02-19T18:36:27.644Z"
   },
   {
    "duration": 13,
    "start_time": "2023-02-19T18:36:27.670Z"
   },
   {
    "duration": 13,
    "start_time": "2023-02-19T18:36:27.685Z"
   },
   {
    "duration": 25,
    "start_time": "2023-02-19T18:36:27.700Z"
   },
   {
    "duration": 137,
    "start_time": "2023-02-19T18:36:27.727Z"
   },
   {
    "duration": 262,
    "start_time": "2023-02-19T18:36:27.866Z"
   },
   {
    "duration": 13,
    "start_time": "2023-02-19T18:36:28.129Z"
   },
   {
    "duration": 52,
    "start_time": "2023-02-19T18:36:28.144Z"
   },
   {
    "duration": 18,
    "start_time": "2023-02-19T18:36:28.198Z"
   },
   {
    "duration": 47,
    "start_time": "2023-02-19T18:36:28.218Z"
   },
   {
    "duration": 104,
    "start_time": "2023-02-19T18:36:28.266Z"
   },
   {
    "duration": 91,
    "start_time": "2023-02-19T18:36:28.372Z"
   },
   {
    "duration": 98,
    "start_time": "2023-02-19T18:36:28.467Z"
   },
   {
    "duration": 16,
    "start_time": "2023-02-19T18:36:28.567Z"
   },
   {
    "duration": 177,
    "start_time": "2023-02-19T18:36:28.585Z"
   },
   {
    "duration": 4,
    "start_time": "2023-02-19T18:36:28.764Z"
   },
   {
    "duration": 8,
    "start_time": "2023-02-19T18:36:28.770Z"
   },
   {
    "duration": 11,
    "start_time": "2023-02-19T18:36:28.779Z"
   },
   {
    "duration": 4,
    "start_time": "2023-02-19T18:36:28.791Z"
   },
   {
    "duration": 6,
    "start_time": "2023-02-19T18:36:28.797Z"
   },
   {
    "duration": 11,
    "start_time": "2023-02-19T18:36:28.804Z"
   },
   {
    "duration": 3,
    "start_time": "2023-02-19T18:36:28.817Z"
   },
   {
    "duration": 40,
    "start_time": "2023-02-19T18:36:28.822Z"
   },
   {
    "duration": 11,
    "start_time": "2023-02-19T18:36:28.864Z"
   },
   {
    "duration": 5,
    "start_time": "2023-02-19T18:36:28.876Z"
   },
   {
    "duration": 9,
    "start_time": "2023-02-19T18:36:28.883Z"
   },
   {
    "duration": 5,
    "start_time": "2023-02-19T18:36:28.894Z"
   },
   {
    "duration": 13,
    "start_time": "2023-02-19T18:36:28.900Z"
   },
   {
    "duration": 6,
    "start_time": "2023-02-19T18:36:28.914Z"
   },
   {
    "duration": 3520,
    "start_time": "2023-02-19T18:36:28.921Z"
   },
   {
    "duration": 3483,
    "start_time": "2023-02-19T18:36:32.442Z"
   },
   {
    "duration": 3300,
    "start_time": "2023-02-19T18:36:35.927Z"
   },
   {
    "duration": 4,
    "start_time": "2023-02-19T18:49:50.371Z"
   },
   {
    "duration": 100,
    "start_time": "2023-02-19T18:50:13.952Z"
   },
   {
    "duration": 8,
    "start_time": "2023-02-19T18:50:57.919Z"
   },
   {
    "duration": 7,
    "start_time": "2023-02-19T18:51:25.794Z"
   },
   {
    "duration": 7,
    "start_time": "2023-02-19T18:53:41.698Z"
   },
   {
    "duration": 7,
    "start_time": "2023-02-19T18:53:43.137Z"
   },
   {
    "duration": 7,
    "start_time": "2023-02-19T18:53:43.864Z"
   },
   {
    "duration": 3,
    "start_time": "2023-02-19T19:04:19.622Z"
   },
   {
    "duration": 24,
    "start_time": "2023-02-19T19:04:20.389Z"
   },
   {
    "duration": 4,
    "start_time": "2023-02-19T19:05:04.009Z"
   },
   {
    "duration": 3,
    "start_time": "2023-02-19T19:05:10.056Z"
   },
   {
    "duration": 22,
    "start_time": "2023-02-19T19:05:10.663Z"
   },
   {
    "duration": 5,
    "start_time": "2023-02-19T19:05:29.078Z"
   },
   {
    "duration": 7,
    "start_time": "2023-02-19T19:05:29.755Z"
   },
   {
    "duration": 4,
    "start_time": "2023-02-19T19:05:48.937Z"
   },
   {
    "duration": 8,
    "start_time": "2023-02-19T19:05:49.652Z"
   },
   {
    "duration": 8,
    "start_time": "2023-02-19T19:05:50.457Z"
   },
   {
    "duration": 7,
    "start_time": "2023-02-19T19:05:52.528Z"
   },
   {
    "duration": 4,
    "start_time": "2023-02-19T19:12:55.682Z"
   },
   {
    "duration": 29,
    "start_time": "2023-02-19T19:12:56.922Z"
   },
   {
    "duration": 4,
    "start_time": "2023-02-19T19:13:24.820Z"
   },
   {
    "duration": 4,
    "start_time": "2023-02-19T19:13:31.506Z"
   },
   {
    "duration": 22,
    "start_time": "2023-02-19T19:13:33.459Z"
   },
   {
    "duration": 5,
    "start_time": "2023-02-19T19:14:32.462Z"
   },
   {
    "duration": 8,
    "start_time": "2023-02-19T19:14:33.330Z"
   },
   {
    "duration": 3,
    "start_time": "2023-02-19T19:16:43.628Z"
   },
   {
    "duration": 6,
    "start_time": "2023-02-19T19:16:44.084Z"
   },
   {
    "duration": 9,
    "start_time": "2023-02-19T19:16:44.611Z"
   },
   {
    "duration": 7,
    "start_time": "2023-02-19T19:16:45.068Z"
   },
   {
    "duration": 8,
    "start_time": "2023-02-19T19:37:21.112Z"
   },
   {
    "duration": 10,
    "start_time": "2023-02-19T19:38:02.976Z"
   },
   {
    "duration": 82,
    "start_time": "2023-02-19T19:38:08.160Z"
   },
   {
    "duration": 5,
    "start_time": "2023-02-19T19:40:48.054Z"
   },
   {
    "duration": 3,
    "start_time": "2023-02-19T19:45:08.354Z"
   },
   {
    "duration": 9,
    "start_time": "2023-02-19T19:45:09.519Z"
   },
   {
    "duration": 4,
    "start_time": "2023-02-19T19:46:09.979Z"
   },
   {
    "duration": 5,
    "start_time": "2023-02-19T19:46:25.422Z"
   },
   {
    "duration": 8,
    "start_time": "2023-02-19T19:46:35.696Z"
   },
   {
    "duration": 11,
    "start_time": "2023-02-19T19:48:48.256Z"
   },
   {
    "duration": 62,
    "start_time": "2023-02-19T19:49:00.031Z"
   },
   {
    "duration": 3,
    "start_time": "2023-02-19T19:49:07.891Z"
   },
   {
    "duration": 9,
    "start_time": "2023-02-19T19:49:19.478Z"
   },
   {
    "duration": 12,
    "start_time": "2023-02-19T19:49:26.790Z"
   },
   {
    "duration": 16,
    "start_time": "2023-02-19T19:49:41.361Z"
   },
   {
    "duration": 4,
    "start_time": "2023-02-19T19:49:53.631Z"
   },
   {
    "duration": 3,
    "start_time": "2023-02-19T19:52:33.465Z"
   },
   {
    "duration": 18,
    "start_time": "2023-02-19T19:52:36.980Z"
   },
   {
    "duration": 8,
    "start_time": "2023-02-19T19:54:16.532Z"
   },
   {
    "duration": 3,
    "start_time": "2023-02-19T20:03:20.886Z"
   },
   {
    "duration": 6,
    "start_time": "2023-02-19T20:03:21.956Z"
   },
   {
    "duration": 6,
    "start_time": "2023-02-19T20:03:34.256Z"
   },
   {
    "duration": 6,
    "start_time": "2023-02-19T20:03:35.676Z"
   },
   {
    "duration": 4,
    "start_time": "2023-02-19T20:05:15.790Z"
   },
   {
    "duration": 8,
    "start_time": "2023-02-19T20:05:19.322Z"
   },
   {
    "duration": 3,
    "start_time": "2023-02-19T20:05:33.278Z"
   },
   {
    "duration": 6,
    "start_time": "2023-02-19T20:05:40.940Z"
   },
   {
    "duration": 7,
    "start_time": "2023-02-19T20:08:41.855Z"
   },
   {
    "duration": 9,
    "start_time": "2023-02-19T20:09:05.525Z"
   },
   {
    "duration": 50,
    "start_time": "2023-02-19T20:10:22.077Z"
   },
   {
    "duration": 13,
    "start_time": "2023-02-19T20:11:15.875Z"
   },
   {
    "duration": 13,
    "start_time": "2023-02-19T20:11:41.216Z"
   },
   {
    "duration": 8,
    "start_time": "2023-02-19T20:12:06.318Z"
   },
   {
    "duration": 9,
    "start_time": "2023-02-19T20:12:17.757Z"
   },
   {
    "duration": 8,
    "start_time": "2023-02-19T20:12:46.059Z"
   },
   {
    "duration": 16,
    "start_time": "2023-02-19T20:13:49.561Z"
   },
   {
    "duration": 6,
    "start_time": "2023-02-19T20:14:00.772Z"
   },
   {
    "duration": 6,
    "start_time": "2023-02-19T20:14:50.878Z"
   },
   {
    "duration": 6,
    "start_time": "2023-02-19T20:15:01.893Z"
   },
   {
    "duration": 8,
    "start_time": "2023-02-19T20:15:26.469Z"
   },
   {
    "duration": 5,
    "start_time": "2023-02-19T20:15:32.166Z"
   },
   {
    "duration": 5,
    "start_time": "2023-02-19T20:15:38.132Z"
   },
   {
    "duration": 6,
    "start_time": "2023-02-19T20:15:44.301Z"
   },
   {
    "duration": 5,
    "start_time": "2023-02-19T20:15:56.660Z"
   },
   {
    "duration": 7,
    "start_time": "2023-02-19T20:18:28.235Z"
   },
   {
    "duration": 6,
    "start_time": "2023-02-19T20:19:06.461Z"
   },
   {
    "duration": 4,
    "start_time": "2023-02-19T20:30:47.628Z"
   },
   {
    "duration": 5,
    "start_time": "2023-02-19T20:30:49.755Z"
   },
   {
    "duration": 1469,
    "start_time": "2023-02-19T20:30:54.595Z"
   },
   {
    "duration": 9,
    "start_time": "2023-02-19T20:32:32.487Z"
   },
   {
    "duration": 1529,
    "start_time": "2023-02-19T20:32:34.874Z"
   },
   {
    "duration": 640,
    "start_time": "2023-02-19T20:33:07.330Z"
   },
   {
    "duration": 767,
    "start_time": "2023-02-19T20:33:07.972Z"
   },
   {
    "duration": 375,
    "start_time": "2023-02-19T20:33:08.740Z"
   },
   {
    "duration": 16,
    "start_time": "2023-02-19T20:33:09.117Z"
   },
   {
    "duration": 19,
    "start_time": "2023-02-19T20:33:09.136Z"
   },
   {
    "duration": 13,
    "start_time": "2023-02-19T20:33:09.161Z"
   },
   {
    "duration": 26,
    "start_time": "2023-02-19T20:33:09.175Z"
   },
   {
    "duration": 19,
    "start_time": "2023-02-19T20:33:09.203Z"
   },
   {
    "duration": 14,
    "start_time": "2023-02-19T20:33:09.223Z"
   },
   {
    "duration": 35,
    "start_time": "2023-02-19T20:33:09.238Z"
   },
   {
    "duration": 132,
    "start_time": "2023-02-19T20:33:09.275Z"
   },
   {
    "duration": 279,
    "start_time": "2023-02-19T20:33:09.408Z"
   },
   {
    "duration": 13,
    "start_time": "2023-02-19T20:33:09.689Z"
   },
   {
    "duration": 39,
    "start_time": "2023-02-19T20:33:09.705Z"
   },
   {
    "duration": 22,
    "start_time": "2023-02-19T20:33:09.746Z"
   },
   {
    "duration": 96,
    "start_time": "2023-02-19T20:33:09.770Z"
   },
   {
    "duration": 105,
    "start_time": "2023-02-19T20:33:09.868Z"
   },
   {
    "duration": 22,
    "start_time": "2023-02-19T20:33:09.974Z"
   },
   {
    "duration": 104,
    "start_time": "2023-02-19T20:33:10.063Z"
   },
   {
    "duration": 17,
    "start_time": "2023-02-19T20:33:10.169Z"
   },
   {
    "duration": 103,
    "start_time": "2023-02-19T20:33:10.263Z"
   },
   {
    "duration": 23,
    "start_time": "2023-02-19T20:33:10.368Z"
   },
   {
    "duration": 8,
    "start_time": "2023-02-19T20:33:10.393Z"
   },
   {
    "duration": 10,
    "start_time": "2023-02-19T20:33:10.403Z"
   },
   {
    "duration": 6,
    "start_time": "2023-02-19T20:33:10.414Z"
   },
   {
    "duration": 7,
    "start_time": "2023-02-19T20:33:10.422Z"
   },
   {
    "duration": 17,
    "start_time": "2023-02-19T20:33:10.430Z"
   },
   {
    "duration": 10,
    "start_time": "2023-02-19T20:33:10.449Z"
   },
   {
    "duration": 7,
    "start_time": "2023-02-19T20:33:10.460Z"
   },
   {
    "duration": 11,
    "start_time": "2023-02-19T20:33:10.469Z"
   },
   {
    "duration": 4,
    "start_time": "2023-02-19T20:33:10.482Z"
   },
   {
    "duration": 9,
    "start_time": "2023-02-19T20:33:10.488Z"
   },
   {
    "duration": 11,
    "start_time": "2023-02-19T20:33:10.498Z"
   },
   {
    "duration": 11,
    "start_time": "2023-02-19T20:33:10.511Z"
   },
   {
    "duration": 9,
    "start_time": "2023-02-19T20:33:10.523Z"
   },
   {
    "duration": 8,
    "start_time": "2023-02-19T20:33:10.533Z"
   },
   {
    "duration": 20,
    "start_time": "2023-02-19T20:33:10.542Z"
   },
   {
    "duration": 8,
    "start_time": "2023-02-19T20:33:10.564Z"
   },
   {
    "duration": 10,
    "start_time": "2023-02-19T20:33:10.574Z"
   },
   {
    "duration": 3,
    "start_time": "2023-02-19T20:33:10.585Z"
   },
   {
    "duration": 6,
    "start_time": "2023-02-19T20:33:10.591Z"
   },
   {
    "duration": 3503,
    "start_time": "2023-02-19T20:33:10.599Z"
   },
   {
    "duration": 3582,
    "start_time": "2023-02-19T20:33:14.103Z"
   },
   {
    "duration": 3350,
    "start_time": "2023-02-19T20:33:17.687Z"
   },
   {
    "duration": 4,
    "start_time": "2023-02-19T20:35:49.568Z"
   },
   {
    "duration": 3,
    "start_time": "2023-02-19T20:35:51.144Z"
   },
   {
    "duration": 10,
    "start_time": "2023-02-19T20:35:52.057Z"
   },
   {
    "duration": 2,
    "start_time": "2023-02-19T20:35:57.564Z"
   },
   {
    "duration": 75,
    "start_time": "2023-02-19T20:35:58.312Z"
   },
   {
    "duration": 3436,
    "start_time": "2023-02-19T20:36:02.128Z"
   },
   {
    "duration": 6,
    "start_time": "2023-02-19T20:36:46.089Z"
   },
   {
    "duration": 3,
    "start_time": "2023-02-19T20:36:46.885Z"
   },
   {
    "duration": 3178,
    "start_time": "2023-02-19T20:36:48.761Z"
   },
   {
    "duration": 101,
    "start_time": "2023-02-19T20:41:38.664Z"
   },
   {
    "duration": 9,
    "start_time": "2023-02-19T20:42:59.264Z"
   },
   {
    "duration": 689,
    "start_time": "2023-02-19T20:43:44.929Z"
   },
   {
    "duration": 724,
    "start_time": "2023-02-19T20:43:45.620Z"
   },
   {
    "duration": 379,
    "start_time": "2023-02-19T20:43:46.346Z"
   },
   {
    "duration": 15,
    "start_time": "2023-02-19T20:43:46.727Z"
   },
   {
    "duration": 25,
    "start_time": "2023-02-19T20:43:46.745Z"
   },
   {
    "duration": 12,
    "start_time": "2023-02-19T20:43:46.771Z"
   },
   {
    "duration": 18,
    "start_time": "2023-02-19T20:43:46.784Z"
   },
   {
    "duration": 14,
    "start_time": "2023-02-19T20:43:46.803Z"
   },
   {
    "duration": 18,
    "start_time": "2023-02-19T20:43:46.818Z"
   },
   {
    "duration": 20,
    "start_time": "2023-02-19T20:43:46.861Z"
   },
   {
    "duration": 123,
    "start_time": "2023-02-19T20:43:46.882Z"
   },
   {
    "duration": 268,
    "start_time": "2023-02-19T20:43:47.006Z"
   },
   {
    "duration": 13,
    "start_time": "2023-02-19T20:43:47.275Z"
   },
   {
    "duration": 32,
    "start_time": "2023-02-19T20:43:47.290Z"
   },
   {
    "duration": 12,
    "start_time": "2023-02-19T20:43:47.324Z"
   },
   {
    "duration": 122,
    "start_time": "2023-02-19T20:43:47.338Z"
   },
   {
    "duration": 106,
    "start_time": "2023-02-19T20:43:47.463Z"
   },
   {
    "duration": 102,
    "start_time": "2023-02-19T20:43:47.571Z"
   },
   {
    "duration": 88,
    "start_time": "2023-02-19T20:43:47.685Z"
   },
   {
    "duration": 94,
    "start_time": "2023-02-19T20:43:47.774Z"
   },
   {
    "duration": 93,
    "start_time": "2023-02-19T20:43:47.872Z"
   },
   {
    "duration": 7,
    "start_time": "2023-02-19T20:43:47.967Z"
   },
   {
    "duration": 5,
    "start_time": "2023-02-19T20:43:47.975Z"
   },
   {
    "duration": 11,
    "start_time": "2023-02-19T20:43:47.982Z"
   },
   {
    "duration": 6,
    "start_time": "2023-02-19T20:43:47.994Z"
   },
   {
    "duration": 5,
    "start_time": "2023-02-19T20:43:48.002Z"
   },
   {
    "duration": 10,
    "start_time": "2023-02-19T20:43:48.009Z"
   },
   {
    "duration": 5,
    "start_time": "2023-02-19T20:43:48.020Z"
   },
   {
    "duration": 3,
    "start_time": "2023-02-19T20:43:48.062Z"
   },
   {
    "duration": 10,
    "start_time": "2023-02-19T20:43:48.067Z"
   },
   {
    "duration": 4,
    "start_time": "2023-02-19T20:43:48.079Z"
   },
   {
    "duration": 11,
    "start_time": "2023-02-19T20:43:48.084Z"
   },
   {
    "duration": 6,
    "start_time": "2023-02-19T20:43:48.097Z"
   },
   {
    "duration": 9,
    "start_time": "2023-02-19T20:43:48.106Z"
   },
   {
    "duration": 7,
    "start_time": "2023-02-19T20:43:48.116Z"
   },
   {
    "duration": 6,
    "start_time": "2023-02-19T20:43:48.124Z"
   },
   {
    "duration": 4,
    "start_time": "2023-02-19T20:43:48.162Z"
   },
   {
    "duration": 12,
    "start_time": "2023-02-19T20:43:48.167Z"
   },
   {
    "duration": 8,
    "start_time": "2023-02-19T20:43:48.180Z"
   },
   {
    "duration": 119,
    "start_time": "2023-02-19T20:43:48.190Z"
   },
   {
    "duration": 0,
    "start_time": "2023-02-19T20:43:48.311Z"
   },
   {
    "duration": 0,
    "start_time": "2023-02-19T20:43:48.312Z"
   },
   {
    "duration": 0,
    "start_time": "2023-02-19T20:43:48.314Z"
   },
   {
    "duration": 0,
    "start_time": "2023-02-19T20:43:48.315Z"
   },
   {
    "duration": 3,
    "start_time": "2023-02-19T20:52:08.859Z"
   },
   {
    "duration": 51,
    "start_time": "2023-02-19T20:52:10.738Z"
   },
   {
    "duration": 13,
    "start_time": "2023-02-19T20:56:15.038Z"
   },
   {
    "duration": 12,
    "start_time": "2023-02-19T20:59:04.748Z"
   },
   {
    "duration": 5,
    "start_time": "2023-02-19T21:04:00.327Z"
   },
   {
    "duration": 7,
    "start_time": "2023-02-19T21:04:02.927Z"
   },
   {
    "duration": 10,
    "start_time": "2023-02-19T21:04:03.748Z"
   },
   {
    "duration": 3,
    "start_time": "2023-02-19T21:06:00.987Z"
   },
   {
    "duration": 10,
    "start_time": "2023-02-19T21:06:01.797Z"
   },
   {
    "duration": 5,
    "start_time": "2023-02-19T21:06:22.074Z"
   },
   {
    "duration": 10,
    "start_time": "2023-02-19T21:06:22.886Z"
   },
   {
    "duration": 7,
    "start_time": "2023-02-19T21:06:27.386Z"
   },
   {
    "duration": 6,
    "start_time": "2023-02-19T21:06:30.378Z"
   },
   {
    "duration": 9,
    "start_time": "2023-02-19T21:06:51.347Z"
   },
   {
    "duration": 2,
    "start_time": "2023-02-19T21:06:52.056Z"
   },
   {
    "duration": 5,
    "start_time": "2023-02-19T21:06:52.539Z"
   },
   {
    "duration": 12,
    "start_time": "2023-02-19T21:06:52.987Z"
   },
   {
    "duration": 6,
    "start_time": "2023-02-19T21:06:55.328Z"
   },
   {
    "duration": 8,
    "start_time": "2023-02-19T21:10:14.252Z"
   },
   {
    "duration": 8,
    "start_time": "2023-02-19T21:10:18.541Z"
   },
   {
    "duration": 8,
    "start_time": "2023-02-19T21:10:19.535Z"
   },
   {
    "duration": 6,
    "start_time": "2023-02-19T21:10:20.379Z"
   },
   {
    "duration": 8,
    "start_time": "2023-02-19T21:11:16.237Z"
   },
   {
    "duration": 7,
    "start_time": "2023-02-19T21:11:17.399Z"
   },
   {
    "duration": 7,
    "start_time": "2023-02-19T21:11:21.932Z"
   },
   {
    "duration": 9,
    "start_time": "2023-02-19T21:12:53.431Z"
   },
   {
    "duration": 10,
    "start_time": "2023-02-19T21:13:56.758Z"
   },
   {
    "duration": 3,
    "start_time": "2023-02-19T21:20:40.061Z"
   },
   {
    "duration": 8,
    "start_time": "2023-02-19T21:20:44.699Z"
   },
   {
    "duration": 1084,
    "start_time": "2023-02-19T21:20:48.152Z"
   },
   {
    "duration": 3,
    "start_time": "2023-02-19T21:22:18.064Z"
   },
   {
    "duration": 6,
    "start_time": "2023-02-19T21:22:21.673Z"
   },
   {
    "duration": 903,
    "start_time": "2023-02-19T21:22:24.539Z"
   },
   {
    "duration": 3,
    "start_time": "2023-02-19T21:24:24.341Z"
   },
   {
    "duration": 5,
    "start_time": "2023-02-19T21:24:29.281Z"
   },
   {
    "duration": 35,
    "start_time": "2023-02-19T21:24:33.800Z"
   },
   {
    "duration": 35,
    "start_time": "2023-02-19T21:29:37.768Z"
   },
   {
    "duration": 606,
    "start_time": "2023-02-19T21:29:58.745Z"
   },
   {
    "duration": 689,
    "start_time": "2023-02-19T21:29:59.353Z"
   },
   {
    "duration": 383,
    "start_time": "2023-02-19T21:30:00.044Z"
   },
   {
    "duration": 15,
    "start_time": "2023-02-19T21:30:00.429Z"
   },
   {
    "duration": 28,
    "start_time": "2023-02-19T21:30:00.445Z"
   },
   {
    "duration": 44,
    "start_time": "2023-02-19T21:30:00.474Z"
   },
   {
    "duration": 38,
    "start_time": "2023-02-19T21:30:00.520Z"
   },
   {
    "duration": 18,
    "start_time": "2023-02-19T21:30:00.560Z"
   },
   {
    "duration": 25,
    "start_time": "2023-02-19T21:30:00.580Z"
   },
   {
    "duration": 33,
    "start_time": "2023-02-19T21:30:00.608Z"
   },
   {
    "duration": 145,
    "start_time": "2023-02-19T21:30:00.642Z"
   },
   {
    "duration": 276,
    "start_time": "2023-02-19T21:30:00.788Z"
   },
   {
    "duration": 14,
    "start_time": "2023-02-19T21:30:01.066Z"
   },
   {
    "duration": 77,
    "start_time": "2023-02-19T21:30:01.082Z"
   },
   {
    "duration": 13,
    "start_time": "2023-02-19T21:30:01.161Z"
   },
   {
    "duration": 49,
    "start_time": "2023-02-19T21:30:01.176Z"
   },
   {
    "duration": 118,
    "start_time": "2023-02-19T21:30:01.268Z"
   },
   {
    "duration": 73,
    "start_time": "2023-02-19T21:30:01.388Z"
   },
   {
    "duration": 112,
    "start_time": "2023-02-19T21:30:01.464Z"
   },
   {
    "duration": 25,
    "start_time": "2023-02-19T21:30:01.579Z"
   },
   {
    "duration": 157,
    "start_time": "2023-02-19T21:30:01.606Z"
   },
   {
    "duration": 22,
    "start_time": "2023-02-19T21:30:01.764Z"
   },
   {
    "duration": 42,
    "start_time": "2023-02-19T21:30:01.787Z"
   },
   {
    "duration": 38,
    "start_time": "2023-02-19T21:30:01.830Z"
   },
   {
    "duration": 25,
    "start_time": "2023-02-19T21:30:01.869Z"
   },
   {
    "duration": 31,
    "start_time": "2023-02-19T21:30:01.896Z"
   },
   {
    "duration": 29,
    "start_time": "2023-02-19T21:30:01.929Z"
   },
   {
    "duration": 7,
    "start_time": "2023-02-19T21:30:01.961Z"
   },
   {
    "duration": 23,
    "start_time": "2023-02-19T21:30:01.969Z"
   },
   {
    "duration": 32,
    "start_time": "2023-02-19T21:30:01.993Z"
   },
   {
    "duration": 24,
    "start_time": "2023-02-19T21:30:02.026Z"
   },
   {
    "duration": 19,
    "start_time": "2023-02-19T21:30:02.052Z"
   },
   {
    "duration": 14,
    "start_time": "2023-02-19T21:30:02.072Z"
   },
   {
    "duration": 27,
    "start_time": "2023-02-19T21:30:02.087Z"
   },
   {
    "duration": 29,
    "start_time": "2023-02-19T21:30:02.116Z"
   },
   {
    "duration": 22,
    "start_time": "2023-02-19T21:30:02.147Z"
   },
   {
    "duration": 13,
    "start_time": "2023-02-19T21:30:02.170Z"
   },
   {
    "duration": 20,
    "start_time": "2023-02-19T21:30:02.185Z"
   },
   {
    "duration": 54,
    "start_time": "2023-02-19T21:30:02.206Z"
   },
   {
    "duration": 17,
    "start_time": "2023-02-19T21:30:02.262Z"
   },
   {
    "duration": 3239,
    "start_time": "2023-02-19T21:30:02.281Z"
   },
   {
    "duration": 3179,
    "start_time": "2023-02-19T21:30:05.523Z"
   },
   {
    "duration": 3287,
    "start_time": "2023-02-19T21:30:08.704Z"
   },
   {
    "duration": 118,
    "start_time": "2023-02-19T21:31:16.649Z"
   },
   {
    "duration": 3123,
    "start_time": "2023-02-19T21:31:20.126Z"
   },
   {
    "duration": 4,
    "start_time": "2023-02-19T21:32:52.007Z"
   },
   {
    "duration": 3054,
    "start_time": "2023-02-19T21:32:55.324Z"
   },
   {
    "duration": 3,
    "start_time": "2023-02-19T21:34:14.817Z"
   },
   {
    "duration": 7,
    "start_time": "2023-02-19T21:34:24.645Z"
   },
   {
    "duration": 7,
    "start_time": "2023-02-19T21:34:28.930Z"
   },
   {
    "duration": 2,
    "start_time": "2023-02-19T21:34:29.622Z"
   },
   {
    "duration": 6,
    "start_time": "2023-02-19T21:34:30.287Z"
   },
   {
    "duration": 4,
    "start_time": "2023-02-19T21:34:52.727Z"
   },
   {
    "duration": 6,
    "start_time": "2023-02-19T21:34:54.567Z"
   },
   {
    "duration": 8,
    "start_time": "2023-02-19T21:34:57.414Z"
   },
   {
    "duration": 3,
    "start_time": "2023-02-19T21:34:58.095Z"
   },
   {
    "duration": 5,
    "start_time": "2023-02-19T21:34:58.714Z"
   },
   {
    "duration": 3,
    "start_time": "2023-02-19T21:36:01.711Z"
   },
   {
    "duration": 5,
    "start_time": "2023-02-19T21:36:02.511Z"
   },
   {
    "duration": 7,
    "start_time": "2023-02-19T21:36:05.485Z"
   },
   {
    "duration": 3,
    "start_time": "2023-02-19T21:36:06.231Z"
   },
   {
    "duration": 5,
    "start_time": "2023-02-19T21:36:06.798Z"
   },
   {
    "duration": 8,
    "start_time": "2023-02-19T21:37:11.550Z"
   },
   {
    "duration": 5,
    "start_time": "2023-02-19T21:37:15.862Z"
   },
   {
    "duration": 9,
    "start_time": "2023-02-19T21:37:16.542Z"
   },
   {
    "duration": 11,
    "start_time": "2023-02-19T21:37:45.183Z"
   },
   {
    "duration": 9,
    "start_time": "2023-02-19T21:37:51.401Z"
   },
   {
    "duration": 10,
    "start_time": "2023-02-19T21:38:24.775Z"
   },
   {
    "duration": 5,
    "start_time": "2023-02-19T21:39:35.149Z"
   },
   {
    "duration": 3022,
    "start_time": "2023-02-19T21:39:45.184Z"
   },
   {
    "duration": 557,
    "start_time": "2023-02-19T21:43:30.715Z"
   },
   {
    "duration": 698,
    "start_time": "2023-02-19T21:43:31.274Z"
   },
   {
    "duration": 356,
    "start_time": "2023-02-19T21:43:31.974Z"
   },
   {
    "duration": 14,
    "start_time": "2023-02-19T21:43:32.332Z"
   },
   {
    "duration": 22,
    "start_time": "2023-02-19T21:43:32.348Z"
   },
   {
    "duration": 21,
    "start_time": "2023-02-19T21:43:32.371Z"
   },
   {
    "duration": 28,
    "start_time": "2023-02-19T21:43:32.394Z"
   },
   {
    "duration": 14,
    "start_time": "2023-02-19T21:43:32.423Z"
   },
   {
    "duration": 19,
    "start_time": "2023-02-19T21:43:32.438Z"
   },
   {
    "duration": 34,
    "start_time": "2023-02-19T21:43:32.459Z"
   },
   {
    "duration": 125,
    "start_time": "2023-02-19T21:43:32.495Z"
   },
   {
    "duration": 287,
    "start_time": "2023-02-19T21:43:32.622Z"
   },
   {
    "duration": 12,
    "start_time": "2023-02-19T21:43:32.911Z"
   },
   {
    "duration": 49,
    "start_time": "2023-02-19T21:43:32.925Z"
   },
   {
    "duration": 13,
    "start_time": "2023-02-19T21:43:32.976Z"
   },
   {
    "duration": 73,
    "start_time": "2023-02-19T21:43:32.990Z"
   },
   {
    "duration": 109,
    "start_time": "2023-02-19T21:43:33.065Z"
   },
   {
    "duration": 41,
    "start_time": "2023-02-19T21:43:33.175Z"
   },
   {
    "duration": 107,
    "start_time": "2023-02-19T21:43:33.263Z"
   },
   {
    "duration": 16,
    "start_time": "2023-02-19T21:43:33.371Z"
   },
   {
    "duration": 81,
    "start_time": "2023-02-19T21:43:33.389Z"
   },
   {
    "duration": 103,
    "start_time": "2023-02-19T21:43:33.474Z"
   },
   {
    "duration": 24,
    "start_time": "2023-02-19T21:43:33.578Z"
   },
   {
    "duration": 14,
    "start_time": "2023-02-19T21:43:33.603Z"
   },
   {
    "duration": 25,
    "start_time": "2023-02-19T21:43:33.619Z"
   },
   {
    "duration": 22,
    "start_time": "2023-02-19T21:43:33.645Z"
   },
   {
    "duration": 16,
    "start_time": "2023-02-19T21:43:33.668Z"
   },
   {
    "duration": 13,
    "start_time": "2023-02-19T21:43:33.685Z"
   },
   {
    "duration": 18,
    "start_time": "2023-02-19T21:43:33.700Z"
   },
   {
    "duration": 19,
    "start_time": "2023-02-19T21:43:33.719Z"
   },
   {
    "duration": 17,
    "start_time": "2023-02-19T21:43:33.740Z"
   },
   {
    "duration": 18,
    "start_time": "2023-02-19T21:43:33.759Z"
   },
   {
    "duration": 24,
    "start_time": "2023-02-19T21:43:33.778Z"
   },
   {
    "duration": 14,
    "start_time": "2023-02-19T21:43:33.803Z"
   },
   {
    "duration": 13,
    "start_time": "2023-02-19T21:43:33.819Z"
   },
   {
    "duration": 9,
    "start_time": "2023-02-19T21:43:33.833Z"
   },
   {
    "duration": 13,
    "start_time": "2023-02-19T21:43:33.844Z"
   },
   {
    "duration": 31,
    "start_time": "2023-02-19T21:43:33.858Z"
   },
   {
    "duration": 9,
    "start_time": "2023-02-19T21:43:33.890Z"
   },
   {
    "duration": 21,
    "start_time": "2023-02-19T21:43:33.900Z"
   },
   {
    "duration": 10,
    "start_time": "2023-02-19T21:43:33.924Z"
   },
   {
    "duration": 28,
    "start_time": "2023-02-19T21:43:33.935Z"
   },
   {
    "duration": 2258,
    "start_time": "2023-02-19T21:43:33.964Z"
   },
   {
    "duration": 162,
    "start_time": "2023-02-19T21:43:36.224Z"
   },
   {
    "duration": 0,
    "start_time": "2023-02-19T21:43:36.387Z"
   },
   {
    "duration": 40,
    "start_time": "2023-02-19T21:44:32.082Z"
   },
   {
    "duration": 2444,
    "start_time": "2023-02-19T21:44:35.739Z"
   },
   {
    "duration": 39,
    "start_time": "2023-02-19T21:45:03.838Z"
   },
   {
    "duration": 583,
    "start_time": "2023-02-19T21:46:35.478Z"
   },
   {
    "duration": 695,
    "start_time": "2023-02-19T21:46:36.063Z"
   },
   {
    "duration": 355,
    "start_time": "2023-02-19T21:46:36.759Z"
   },
   {
    "duration": 18,
    "start_time": "2023-02-19T21:46:37.116Z"
   },
   {
    "duration": 29,
    "start_time": "2023-02-19T21:46:37.135Z"
   },
   {
    "duration": 12,
    "start_time": "2023-02-19T21:46:37.166Z"
   },
   {
    "duration": 15,
    "start_time": "2023-02-19T21:46:37.179Z"
   },
   {
    "duration": 12,
    "start_time": "2023-02-19T21:46:37.196Z"
   },
   {
    "duration": 13,
    "start_time": "2023-02-19T21:46:37.210Z"
   },
   {
    "duration": 48,
    "start_time": "2023-02-19T21:46:37.225Z"
   },
   {
    "duration": 124,
    "start_time": "2023-02-19T21:46:37.274Z"
   },
   {
    "duration": 270,
    "start_time": "2023-02-19T21:46:37.399Z"
   },
   {
    "duration": 12,
    "start_time": "2023-02-19T21:46:37.671Z"
   },
   {
    "duration": 32,
    "start_time": "2023-02-19T21:46:37.684Z"
   },
   {
    "duration": 14,
    "start_time": "2023-02-19T21:46:37.718Z"
   },
   {
    "duration": 38,
    "start_time": "2023-02-19T21:46:37.734Z"
   },
   {
    "duration": 188,
    "start_time": "2023-02-19T21:46:37.774Z"
   },
   {
    "duration": 23,
    "start_time": "2023-02-19T21:46:37.963Z"
   },
   {
    "duration": 104,
    "start_time": "2023-02-19T21:46:38.067Z"
   },
   {
    "duration": 28,
    "start_time": "2023-02-19T21:46:38.173Z"
   },
   {
    "duration": 160,
    "start_time": "2023-02-19T21:46:38.203Z"
   },
   {
    "duration": 8,
    "start_time": "2023-02-19T21:46:38.365Z"
   },
   {
    "duration": 4,
    "start_time": "2023-02-19T21:46:38.374Z"
   },
   {
    "duration": 10,
    "start_time": "2023-02-19T21:46:38.379Z"
   },
   {
    "duration": 4,
    "start_time": "2023-02-19T21:46:38.391Z"
   },
   {
    "duration": 5,
    "start_time": "2023-02-19T21:46:38.396Z"
   },
   {
    "duration": 13,
    "start_time": "2023-02-19T21:46:38.403Z"
   },
   {
    "duration": 4,
    "start_time": "2023-02-19T21:46:38.419Z"
   },
   {
    "duration": 39,
    "start_time": "2023-02-19T21:46:38.424Z"
   },
   {
    "duration": 10,
    "start_time": "2023-02-19T21:46:38.465Z"
   },
   {
    "duration": 8,
    "start_time": "2023-02-19T21:46:38.476Z"
   },
   {
    "duration": 6,
    "start_time": "2023-02-19T21:46:38.485Z"
   },
   {
    "duration": 9,
    "start_time": "2023-02-19T21:46:38.492Z"
   },
   {
    "duration": 17,
    "start_time": "2023-02-19T21:46:38.503Z"
   },
   {
    "duration": 8,
    "start_time": "2023-02-19T21:46:38.522Z"
   },
   {
    "duration": 9,
    "start_time": "2023-02-19T21:46:38.531Z"
   },
   {
    "duration": 7,
    "start_time": "2023-02-19T21:46:38.542Z"
   },
   {
    "duration": 12,
    "start_time": "2023-02-19T21:46:38.561Z"
   },
   {
    "duration": 3,
    "start_time": "2023-02-19T21:46:38.574Z"
   },
   {
    "duration": 11,
    "start_time": "2023-02-19T21:46:38.578Z"
   },
   {
    "duration": 6,
    "start_time": "2023-02-19T21:46:38.590Z"
   },
   {
    "duration": 2140,
    "start_time": "2023-02-19T21:46:38.597Z"
   },
   {
    "duration": 155,
    "start_time": "2023-02-19T21:46:40.738Z"
   },
   {
    "duration": 0,
    "start_time": "2023-02-19T21:46:40.894Z"
   },
   {
    "duration": 4,
    "start_time": "2023-02-19T21:47:24.434Z"
   },
   {
    "duration": 7,
    "start_time": "2023-02-19T21:47:25.563Z"
   },
   {
    "duration": 3,
    "start_time": "2023-02-19T21:47:26.116Z"
   },
   {
    "duration": 5,
    "start_time": "2023-02-19T21:47:28.351Z"
   },
   {
    "duration": 7,
    "start_time": "2023-02-19T21:47:30.174Z"
   },
   {
    "duration": 3152,
    "start_time": "2023-02-19T21:47:31.795Z"
   },
   {
    "duration": 3100,
    "start_time": "2023-02-19T21:47:34.949Z"
   },
   {
    "duration": 3225,
    "start_time": "2023-02-19T21:47:48.779Z"
   },
   {
    "duration": 4,
    "start_time": "2023-02-19T21:51:41.148Z"
   },
   {
    "duration": 2114,
    "start_time": "2023-02-19T21:52:06.215Z"
   },
   {
    "duration": 47,
    "start_time": "2023-02-19T21:52:15.244Z"
   },
   {
    "duration": 2158,
    "start_time": "2023-02-19T21:52:19.788Z"
   },
   {
    "duration": 50,
    "start_time": "2023-02-19T21:54:07.341Z"
   },
   {
    "duration": 3,
    "start_time": "2023-02-19T21:54:33.577Z"
   },
   {
    "duration": 5,
    "start_time": "2023-02-19T21:54:39.557Z"
   },
   {
    "duration": 40,
    "start_time": "2023-02-19T21:54:42.635Z"
   },
   {
    "duration": 4,
    "start_time": "2023-02-19T21:56:43.845Z"
   },
   {
    "duration": 6,
    "start_time": "2023-02-19T21:56:48.372Z"
   },
   {
    "duration": 40,
    "start_time": "2023-02-19T21:56:52.301Z"
   },
   {
    "duration": 36,
    "start_time": "2023-02-19T21:56:54.332Z"
   },
   {
    "duration": 34,
    "start_time": "2023-02-19T21:56:55.639Z"
   },
   {
    "duration": 3,
    "start_time": "2023-02-19T21:57:58.904Z"
   },
   {
    "duration": 6,
    "start_time": "2023-02-19T21:58:02.565Z"
   },
   {
    "duration": 39,
    "start_time": "2023-02-19T21:58:04.919Z"
   },
   {
    "duration": 46,
    "start_time": "2023-02-19T21:58:11.006Z"
   },
   {
    "duration": 3,
    "start_time": "2023-02-19T21:58:37.861Z"
   },
   {
    "duration": 6,
    "start_time": "2023-02-19T21:59:11.509Z"
   },
   {
    "duration": 2293,
    "start_time": "2023-02-19T21:59:13.597Z"
   },
   {
    "duration": 83,
    "start_time": "2023-02-19T21:59:15.892Z"
   },
   {
    "duration": 0,
    "start_time": "2023-02-19T21:59:15.976Z"
   },
   {
    "duration": 2226,
    "start_time": "2023-02-19T21:59:25.692Z"
   },
   {
    "duration": 53,
    "start_time": "2023-02-19T21:59:30.121Z"
   },
   {
    "duration": 24,
    "start_time": "2023-02-19T22:09:32.539Z"
   },
   {
    "duration": 5,
    "start_time": "2023-02-19T22:09:33.139Z"
   },
   {
    "duration": 8,
    "start_time": "2023-02-19T22:09:34.392Z"
   },
   {
    "duration": 6,
    "start_time": "2023-02-19T22:09:35.435Z"
   },
   {
    "duration": 2224,
    "start_time": "2023-02-19T22:09:37.051Z"
   },
   {
    "duration": 41,
    "start_time": "2023-02-19T22:09:39.277Z"
   },
   {
    "duration": 2276,
    "start_time": "2023-02-19T22:09:43.041Z"
   },
   {
    "duration": 948,
    "start_time": "2023-02-19T22:12:54.044Z"
   },
   {
    "duration": 565,
    "start_time": "2023-02-19T22:13:21.115Z"
   },
   {
    "duration": 692,
    "start_time": "2023-02-19T22:13:21.682Z"
   },
   {
    "duration": 397,
    "start_time": "2023-02-19T22:13:22.376Z"
   },
   {
    "duration": 15,
    "start_time": "2023-02-19T22:13:22.775Z"
   },
   {
    "duration": 11,
    "start_time": "2023-02-19T22:13:22.793Z"
   },
   {
    "duration": 16,
    "start_time": "2023-02-19T22:13:22.806Z"
   },
   {
    "duration": 19,
    "start_time": "2023-02-19T22:13:22.824Z"
   },
   {
    "duration": 33,
    "start_time": "2023-02-19T22:13:22.845Z"
   },
   {
    "duration": 30,
    "start_time": "2023-02-19T22:13:22.879Z"
   },
   {
    "duration": 28,
    "start_time": "2023-02-19T22:13:22.911Z"
   },
   {
    "duration": 118,
    "start_time": "2023-02-19T22:13:22.940Z"
   },
   {
    "duration": 274,
    "start_time": "2023-02-19T22:13:23.060Z"
   },
   {
    "duration": 13,
    "start_time": "2023-02-19T22:13:23.335Z"
   },
   {
    "duration": 47,
    "start_time": "2023-02-19T22:13:23.351Z"
   },
   {
    "duration": 888,
    "start_time": "2023-02-19T22:13:23.400Z"
   },
   {
    "duration": 0,
    "start_time": "2023-02-19T22:13:24.290Z"
   },
   {
    "duration": 0,
    "start_time": "2023-02-19T22:13:24.291Z"
   },
   {
    "duration": 0,
    "start_time": "2023-02-19T22:13:24.292Z"
   },
   {
    "duration": 0,
    "start_time": "2023-02-19T22:13:24.293Z"
   },
   {
    "duration": 0,
    "start_time": "2023-02-19T22:13:24.294Z"
   },
   {
    "duration": 0,
    "start_time": "2023-02-19T22:13:24.295Z"
   },
   {
    "duration": 0,
    "start_time": "2023-02-19T22:13:24.297Z"
   },
   {
    "duration": 0,
    "start_time": "2023-02-19T22:13:24.298Z"
   },
   {
    "duration": 0,
    "start_time": "2023-02-19T22:13:24.299Z"
   },
   {
    "duration": 0,
    "start_time": "2023-02-19T22:13:24.300Z"
   },
   {
    "duration": 0,
    "start_time": "2023-02-19T22:13:24.301Z"
   },
   {
    "duration": 0,
    "start_time": "2023-02-19T22:13:24.301Z"
   },
   {
    "duration": 0,
    "start_time": "2023-02-19T22:13:24.303Z"
   },
   {
    "duration": 0,
    "start_time": "2023-02-19T22:13:24.304Z"
   },
   {
    "duration": 0,
    "start_time": "2023-02-19T22:13:24.305Z"
   },
   {
    "duration": 0,
    "start_time": "2023-02-19T22:13:24.306Z"
   },
   {
    "duration": 0,
    "start_time": "2023-02-19T22:13:24.307Z"
   },
   {
    "duration": 0,
    "start_time": "2023-02-19T22:13:24.308Z"
   },
   {
    "duration": 0,
    "start_time": "2023-02-19T22:13:24.309Z"
   },
   {
    "duration": 0,
    "start_time": "2023-02-19T22:13:24.310Z"
   },
   {
    "duration": 0,
    "start_time": "2023-02-19T22:13:24.310Z"
   },
   {
    "duration": 0,
    "start_time": "2023-02-19T22:13:24.311Z"
   },
   {
    "duration": 0,
    "start_time": "2023-02-19T22:13:24.313Z"
   },
   {
    "duration": 0,
    "start_time": "2023-02-19T22:13:24.314Z"
   },
   {
    "duration": 0,
    "start_time": "2023-02-19T22:13:24.315Z"
   },
   {
    "duration": 0,
    "start_time": "2023-02-19T22:13:24.315Z"
   },
   {
    "duration": 0,
    "start_time": "2023-02-19T22:13:24.317Z"
   },
   {
    "duration": 0,
    "start_time": "2023-02-19T22:13:24.318Z"
   },
   {
    "duration": 663,
    "start_time": "2023-02-19T22:14:12.255Z"
   },
   {
    "duration": 734,
    "start_time": "2023-02-19T22:14:12.919Z"
   },
   {
    "duration": 382,
    "start_time": "2023-02-19T22:14:13.655Z"
   },
   {
    "duration": 26,
    "start_time": "2023-02-19T22:14:14.039Z"
   },
   {
    "duration": 13,
    "start_time": "2023-02-19T22:14:14.066Z"
   },
   {
    "duration": 19,
    "start_time": "2023-02-19T22:14:14.080Z"
   },
   {
    "duration": 24,
    "start_time": "2023-02-19T22:14:14.101Z"
   },
   {
    "duration": 13,
    "start_time": "2023-02-19T22:14:14.127Z"
   },
   {
    "duration": 24,
    "start_time": "2023-02-19T22:14:14.141Z"
   },
   {
    "duration": 25,
    "start_time": "2023-02-19T22:14:14.167Z"
   },
   {
    "duration": 124,
    "start_time": "2023-02-19T22:14:14.193Z"
   },
   {
    "duration": 276,
    "start_time": "2023-02-19T22:14:14.318Z"
   },
   {
    "duration": 48,
    "start_time": "2023-02-19T22:14:14.596Z"
   },
   {
    "duration": 36,
    "start_time": "2023-02-19T22:14:14.645Z"
   },
   {
    "duration": 48,
    "start_time": "2023-02-19T22:14:14.683Z"
   },
   {
    "duration": 17,
    "start_time": "2023-02-19T22:14:14.733Z"
   },
   {
    "duration": 111,
    "start_time": "2023-02-19T22:14:14.752Z"
   },
   {
    "duration": 121,
    "start_time": "2023-02-19T22:14:14.865Z"
   },
   {
    "duration": 22,
    "start_time": "2023-02-19T22:14:14.987Z"
   },
   {
    "duration": 158,
    "start_time": "2023-02-19T22:14:15.011Z"
   },
   {
    "duration": 98,
    "start_time": "2023-02-19T22:14:15.173Z"
   },
   {
    "duration": 96,
    "start_time": "2023-02-19T22:14:15.273Z"
   },
   {
    "duration": 19,
    "start_time": "2023-02-19T22:14:15.371Z"
   },
   {
    "duration": 11,
    "start_time": "2023-02-19T22:14:15.392Z"
   },
   {
    "duration": 24,
    "start_time": "2023-02-19T22:14:15.405Z"
   },
   {
    "duration": 20,
    "start_time": "2023-02-19T22:14:15.431Z"
   },
   {
    "duration": 29,
    "start_time": "2023-02-19T22:14:15.453Z"
   },
   {
    "duration": 25,
    "start_time": "2023-02-19T22:14:15.486Z"
   },
   {
    "duration": 9,
    "start_time": "2023-02-19T22:14:15.513Z"
   },
   {
    "duration": 11,
    "start_time": "2023-02-19T22:14:15.524Z"
   },
   {
    "duration": 18,
    "start_time": "2023-02-19T22:14:15.537Z"
   },
   {
    "duration": 4,
    "start_time": "2023-02-19T22:14:15.556Z"
   },
   {
    "duration": 13,
    "start_time": "2023-02-19T22:14:15.568Z"
   },
   {
    "duration": 9,
    "start_time": "2023-02-19T22:14:15.583Z"
   },
   {
    "duration": 14,
    "start_time": "2023-02-19T22:14:15.593Z"
   },
   {
    "duration": 11,
    "start_time": "2023-02-19T22:14:15.608Z"
   },
   {
    "duration": 7,
    "start_time": "2023-02-19T22:14:15.621Z"
   },
   {
    "duration": 5,
    "start_time": "2023-02-19T22:14:15.630Z"
   },
   {
    "duration": 12,
    "start_time": "2023-02-19T22:14:15.637Z"
   },
   {
    "duration": 20,
    "start_time": "2023-02-19T22:14:15.651Z"
   },
   {
    "duration": 3418,
    "start_time": "2023-02-19T22:14:15.673Z"
   },
   {
    "duration": 3112,
    "start_time": "2023-02-19T22:14:19.093Z"
   },
   {
    "duration": 3166,
    "start_time": "2023-02-19T22:14:22.207Z"
   },
   {
    "duration": 4,
    "start_time": "2023-02-19T22:14:49.766Z"
   },
   {
    "duration": 2397,
    "start_time": "2023-02-19T22:14:59.581Z"
   },
   {
    "duration": 157,
    "start_time": "2023-02-19T22:15:03.452Z"
   },
   {
    "duration": 10,
    "start_time": "2023-02-19T22:15:09.755Z"
   },
   {
    "duration": 2279,
    "start_time": "2023-02-19T22:15:12.648Z"
   },
   {
    "duration": 58,
    "start_time": "2023-02-19T22:15:14.929Z"
   },
   {
    "duration": 4,
    "start_time": "2023-02-19T22:21:40.995Z"
   },
   {
    "duration": 8,
    "start_time": "2023-02-19T22:21:43.331Z"
   },
   {
    "duration": 5,
    "start_time": "2023-02-19T22:21:44.740Z"
   },
   {
    "duration": 2410,
    "start_time": "2023-02-19T22:21:46.770Z"
   },
   {
    "duration": 38,
    "start_time": "2023-02-19T22:21:51.157Z"
   },
   {
    "duration": 42,
    "start_time": "2023-02-19T22:21:56.456Z"
   },
   {
    "duration": 2586,
    "start_time": "2023-02-19T22:21:57.757Z"
   },
   {
    "duration": 50,
    "start_time": "2023-02-19T22:22:35.227Z"
   },
   {
    "duration": 4,
    "start_time": "2023-02-19T22:22:44.482Z"
   },
   {
    "duration": 9,
    "start_time": "2023-02-19T22:22:52.036Z"
   },
   {
    "duration": 9,
    "start_time": "2023-02-19T22:24:02.835Z"
   },
   {
    "duration": 4,
    "start_time": "2023-02-19T22:24:06.603Z"
   },
   {
    "duration": 9,
    "start_time": "2023-02-19T22:24:07.578Z"
   },
   {
    "duration": 8,
    "start_time": "2023-02-19T22:24:14.101Z"
   },
   {
    "duration": 8,
    "start_time": "2023-02-19T22:24:32.282Z"
   },
   {
    "duration": 10,
    "start_time": "2023-02-19T22:24:42.057Z"
   },
   {
    "duration": 4,
    "start_time": "2023-02-19T22:25:00.483Z"
   },
   {
    "duration": 8,
    "start_time": "2023-02-19T22:25:01.563Z"
   },
   {
    "duration": 3,
    "start_time": "2023-02-19T22:25:07.026Z"
   },
   {
    "duration": 10,
    "start_time": "2023-02-19T22:25:26.321Z"
   },
   {
    "duration": 9,
    "start_time": "2023-02-19T22:26:32.188Z"
   },
   {
    "duration": 9,
    "start_time": "2023-02-19T22:27:45.613Z"
   },
   {
    "duration": 575,
    "start_time": "2023-02-19T22:27:50.667Z"
   },
   {
    "duration": 685,
    "start_time": "2023-02-19T22:27:51.243Z"
   },
   {
    "duration": 354,
    "start_time": "2023-02-19T22:27:51.929Z"
   },
   {
    "duration": 14,
    "start_time": "2023-02-19T22:27:52.285Z"
   },
   {
    "duration": 13,
    "start_time": "2023-02-19T22:27:52.301Z"
   },
   {
    "duration": 23,
    "start_time": "2023-02-19T22:27:52.316Z"
   },
   {
    "duration": 23,
    "start_time": "2023-02-19T22:27:52.341Z"
   },
   {
    "duration": 12,
    "start_time": "2023-02-19T22:27:52.365Z"
   },
   {
    "duration": 18,
    "start_time": "2023-02-19T22:27:52.378Z"
   },
   {
    "duration": 19,
    "start_time": "2023-02-19T22:27:52.398Z"
   },
   {
    "duration": 123,
    "start_time": "2023-02-19T22:27:52.418Z"
   },
   {
    "duration": 259,
    "start_time": "2023-02-19T22:27:52.543Z"
   },
   {
    "duration": 12,
    "start_time": "2023-02-19T22:27:52.803Z"
   },
   {
    "duration": 43,
    "start_time": "2023-02-19T22:27:52.817Z"
   },
   {
    "duration": 12,
    "start_time": "2023-02-19T22:27:52.862Z"
   },
   {
    "duration": 89,
    "start_time": "2023-02-19T22:27:52.875Z"
   },
   {
    "duration": 101,
    "start_time": "2023-02-19T22:27:52.966Z"
   },
   {
    "duration": 40,
    "start_time": "2023-02-19T22:27:53.069Z"
   },
   {
    "duration": 155,
    "start_time": "2023-02-19T22:27:53.111Z"
   },
   {
    "duration": 27,
    "start_time": "2023-02-19T22:27:53.267Z"
   },
   {
    "duration": 5,
    "start_time": "2023-02-19T22:27:53.361Z"
   },
   {
    "duration": 101,
    "start_time": "2023-02-19T22:27:53.368Z"
   },
   {
    "duration": 4,
    "start_time": "2023-02-19T22:27:53.471Z"
   },
   {
    "duration": 9,
    "start_time": "2023-02-19T22:27:53.476Z"
   },
   {
    "duration": 5,
    "start_time": "2023-02-19T22:27:53.486Z"
   },
   {
    "duration": 5,
    "start_time": "2023-02-19T22:27:53.492Z"
   },
   {
    "duration": 9,
    "start_time": "2023-02-19T22:27:53.498Z"
   },
   {
    "duration": 3,
    "start_time": "2023-02-19T22:27:53.510Z"
   },
   {
    "duration": 5,
    "start_time": "2023-02-19T22:27:53.514Z"
   },
   {
    "duration": 9,
    "start_time": "2023-02-19T22:27:53.520Z"
   },
   {
    "duration": 32,
    "start_time": "2023-02-19T22:27:53.530Z"
   },
   {
    "duration": 3,
    "start_time": "2023-02-19T22:27:53.563Z"
   },
   {
    "duration": 6,
    "start_time": "2023-02-19T22:27:53.567Z"
   },
   {
    "duration": 8,
    "start_time": "2023-02-19T22:27:53.574Z"
   },
   {
    "duration": 6,
    "start_time": "2023-02-19T22:27:53.583Z"
   },
   {
    "duration": 7,
    "start_time": "2023-02-19T22:27:53.590Z"
   },
   {
    "duration": 122,
    "start_time": "2023-02-19T22:27:53.598Z"
   },
   {
    "duration": 0,
    "start_time": "2023-02-19T22:27:53.722Z"
   },
   {
    "duration": 0,
    "start_time": "2023-02-19T22:27:53.723Z"
   },
   {
    "duration": 0,
    "start_time": "2023-02-19T22:27:53.724Z"
   },
   {
    "duration": 0,
    "start_time": "2023-02-19T22:27:53.725Z"
   },
   {
    "duration": 0,
    "start_time": "2023-02-19T22:27:53.726Z"
   },
   {
    "duration": 0,
    "start_time": "2023-02-19T22:27:53.727Z"
   },
   {
    "duration": 4,
    "start_time": "2023-02-19T22:28:16.602Z"
   },
   {
    "duration": 8,
    "start_time": "2023-02-19T22:28:54.722Z"
   },
   {
    "duration": 4,
    "start_time": "2023-02-19T22:31:20.227Z"
   },
   {
    "duration": 46,
    "start_time": "2023-02-19T22:36:47.755Z"
   },
   {
    "duration": 46,
    "start_time": "2023-02-19T22:37:08.152Z"
   },
   {
    "duration": 4,
    "start_time": "2023-02-19T22:37:47.466Z"
   },
   {
    "duration": 56,
    "start_time": "2023-02-19T22:38:10.078Z"
   },
   {
    "duration": 4,
    "start_time": "2023-02-19T22:38:14.754Z"
   },
   {
    "duration": 6,
    "start_time": "2023-02-19T22:38:22.413Z"
   },
   {
    "duration": 42,
    "start_time": "2023-02-19T22:38:26.416Z"
   },
   {
    "duration": 35,
    "start_time": "2023-02-19T22:38:29.582Z"
   },
   {
    "duration": 4,
    "start_time": "2023-02-19T22:38:44.546Z"
   },
   {
    "duration": 2129,
    "start_time": "2023-02-19T22:38:48.896Z"
   },
   {
    "duration": 52,
    "start_time": "2023-02-19T22:38:51.027Z"
   },
   {
    "duration": 595,
    "start_time": "2023-02-19T22:39:24.854Z"
   },
   {
    "duration": 684,
    "start_time": "2023-02-19T22:39:25.451Z"
   },
   {
    "duration": 360,
    "start_time": "2023-02-19T22:39:26.137Z"
   },
   {
    "duration": 15,
    "start_time": "2023-02-19T22:39:26.501Z"
   },
   {
    "duration": 12,
    "start_time": "2023-02-19T22:39:26.518Z"
   },
   {
    "duration": 26,
    "start_time": "2023-02-19T22:39:26.532Z"
   },
   {
    "duration": 20,
    "start_time": "2023-02-19T22:39:26.560Z"
   },
   {
    "duration": 12,
    "start_time": "2023-02-19T22:39:26.582Z"
   },
   {
    "duration": 12,
    "start_time": "2023-02-19T22:39:26.595Z"
   },
   {
    "duration": 20,
    "start_time": "2023-02-19T22:39:26.609Z"
   },
   {
    "duration": 138,
    "start_time": "2023-02-19T22:39:26.630Z"
   },
   {
    "duration": 265,
    "start_time": "2023-02-19T22:39:26.770Z"
   },
   {
    "duration": 12,
    "start_time": "2023-02-19T22:39:27.036Z"
   },
   {
    "duration": 28,
    "start_time": "2023-02-19T22:39:27.061Z"
   },
   {
    "duration": 12,
    "start_time": "2023-02-19T22:39:27.091Z"
   },
   {
    "duration": 58,
    "start_time": "2023-02-19T22:39:27.105Z"
   },
   {
    "duration": 105,
    "start_time": "2023-02-19T22:39:27.165Z"
   },
   {
    "duration": 16,
    "start_time": "2023-02-19T22:39:27.271Z"
   },
   {
    "duration": 177,
    "start_time": "2023-02-19T22:39:27.289Z"
   },
   {
    "duration": 17,
    "start_time": "2023-02-19T22:39:27.468Z"
   },
   {
    "duration": 103,
    "start_time": "2023-02-19T22:39:27.561Z"
   },
   {
    "duration": 11,
    "start_time": "2023-02-19T22:39:27.665Z"
   },
   {
    "duration": 8,
    "start_time": "2023-02-19T22:39:27.677Z"
   },
   {
    "duration": 9,
    "start_time": "2023-02-19T22:39:27.687Z"
   },
   {
    "duration": 4,
    "start_time": "2023-02-19T22:39:27.698Z"
   },
   {
    "duration": 14,
    "start_time": "2023-02-19T22:39:27.703Z"
   },
   {
    "duration": 15,
    "start_time": "2023-02-19T22:39:27.718Z"
   },
   {
    "duration": 3,
    "start_time": "2023-02-19T22:39:27.737Z"
   },
   {
    "duration": 3,
    "start_time": "2023-02-19T22:39:27.762Z"
   },
   {
    "duration": 10,
    "start_time": "2023-02-19T22:39:27.767Z"
   },
   {
    "duration": 4,
    "start_time": "2023-02-19T22:39:27.778Z"
   },
   {
    "duration": 5,
    "start_time": "2023-02-19T22:39:27.783Z"
   },
   {
    "duration": 6,
    "start_time": "2023-02-19T22:39:27.789Z"
   },
   {
    "duration": 9,
    "start_time": "2023-02-19T22:39:27.796Z"
   },
   {
    "duration": 6,
    "start_time": "2023-02-19T22:39:27.806Z"
   },
   {
    "duration": 5,
    "start_time": "2023-02-19T22:39:27.814Z"
   },
   {
    "duration": 3,
    "start_time": "2023-02-19T22:39:27.821Z"
   },
   {
    "duration": 7,
    "start_time": "2023-02-19T22:39:27.862Z"
   },
   {
    "duration": 20,
    "start_time": "2023-02-19T22:39:27.870Z"
   },
   {
    "duration": 19,
    "start_time": "2023-02-19T22:39:27.891Z"
   },
   {
    "duration": 2171,
    "start_time": "2023-02-19T22:39:27.912Z"
   },
   {
    "duration": 148,
    "start_time": "2023-02-19T22:39:30.085Z"
   },
   {
    "duration": 0,
    "start_time": "2023-02-19T22:39:30.234Z"
   },
   {
    "duration": 2131,
    "start_time": "2023-02-19T22:39:46.561Z"
   },
   {
    "duration": 3902,
    "start_time": "2023-02-20T22:57:57.734Z"
   },
   {
    "duration": 3706,
    "start_time": "2023-02-20T22:58:06.684Z"
   },
   {
    "duration": 686,
    "start_time": "2023-02-20T22:58:15.553Z"
   },
   {
    "duration": 892,
    "start_time": "2023-02-20T22:58:16.241Z"
   },
   {
    "duration": 409,
    "start_time": "2023-02-20T22:58:17.135Z"
   },
   {
    "duration": 18,
    "start_time": "2023-02-20T22:58:17.546Z"
   },
   {
    "duration": 76,
    "start_time": "2023-02-20T22:58:17.566Z"
   },
   {
    "duration": 48,
    "start_time": "2023-02-20T22:58:17.644Z"
   },
   {
    "duration": 37,
    "start_time": "2023-02-20T22:58:17.696Z"
   },
   {
    "duration": 14,
    "start_time": "2023-02-20T22:58:17.735Z"
   },
   {
    "duration": 19,
    "start_time": "2023-02-20T22:58:17.750Z"
   },
   {
    "duration": 26,
    "start_time": "2023-02-20T22:58:17.771Z"
   },
   {
    "duration": 141,
    "start_time": "2023-02-20T22:58:17.806Z"
   },
   {
    "duration": 318,
    "start_time": "2023-02-20T22:58:17.948Z"
   },
   {
    "duration": 19,
    "start_time": "2023-02-20T22:58:18.268Z"
   },
   {
    "duration": 63,
    "start_time": "2023-02-20T22:58:18.296Z"
   },
   {
    "duration": 16,
    "start_time": "2023-02-20T22:58:18.361Z"
   },
   {
    "duration": 52,
    "start_time": "2023-02-20T22:58:18.379Z"
   },
   {
    "duration": 168,
    "start_time": "2023-02-20T22:58:18.432Z"
   },
   {
    "duration": 65,
    "start_time": "2023-02-20T22:58:18.604Z"
   },
   {
    "duration": 154,
    "start_time": "2023-02-20T22:58:18.671Z"
   },
   {
    "duration": 74,
    "start_time": "2023-02-20T22:58:18.827Z"
   },
   {
    "duration": 82,
    "start_time": "2023-02-20T22:58:18.913Z"
   },
   {
    "duration": 8,
    "start_time": "2023-02-20T22:58:19.002Z"
   },
   {
    "duration": 15,
    "start_time": "2023-02-20T22:58:19.013Z"
   },
   {
    "duration": 16,
    "start_time": "2023-02-20T22:58:19.030Z"
   },
   {
    "duration": 9,
    "start_time": "2023-02-20T22:58:19.048Z"
   },
   {
    "duration": 5,
    "start_time": "2023-02-20T22:58:19.059Z"
   },
   {
    "duration": 74,
    "start_time": "2023-02-20T22:58:19.066Z"
   },
   {
    "duration": 4,
    "start_time": "2023-02-20T22:58:19.143Z"
   },
   {
    "duration": 31,
    "start_time": "2023-02-20T22:58:19.149Z"
   },
   {
    "duration": 66,
    "start_time": "2023-02-20T22:58:19.182Z"
   },
   {
    "duration": 6,
    "start_time": "2023-02-20T22:58:19.249Z"
   },
   {
    "duration": 10,
    "start_time": "2023-02-20T22:58:19.256Z"
   },
   {
    "duration": 13,
    "start_time": "2023-02-20T22:58:19.267Z"
   },
   {
    "duration": 47,
    "start_time": "2023-02-20T22:58:19.282Z"
   },
   {
    "duration": 64,
    "start_time": "2023-02-20T22:58:19.331Z"
   },
   {
    "duration": 24,
    "start_time": "2023-02-20T22:58:19.401Z"
   },
   {
    "duration": 4,
    "start_time": "2023-02-20T22:58:19.427Z"
   },
   {
    "duration": 30,
    "start_time": "2023-02-20T22:58:19.433Z"
   },
   {
    "duration": 70,
    "start_time": "2023-02-20T22:58:19.465Z"
   },
   {
    "duration": 36,
    "start_time": "2023-02-20T22:58:19.537Z"
   },
   {
    "duration": 2846,
    "start_time": "2023-02-20T22:58:19.575Z"
   },
   {
    "duration": 195,
    "start_time": "2023-02-20T22:58:22.422Z"
   },
   {
    "duration": 0,
    "start_time": "2023-02-20T22:58:22.619Z"
   },
   {
    "duration": 2888,
    "start_time": "2023-02-20T22:58:31.583Z"
   },
   {
    "duration": 53,
    "start_time": "2023-02-20T22:58:37.958Z"
   },
   {
    "duration": 6,
    "start_time": "2023-02-20T22:59:41.565Z"
   },
   {
    "duration": 67,
    "start_time": "2023-02-20T22:59:45.478Z"
   },
   {
    "duration": 5,
    "start_time": "2023-02-20T23:00:52.213Z"
   },
   {
    "duration": 64,
    "start_time": "2023-02-20T23:00:57.355Z"
   },
   {
    "duration": 11,
    "start_time": "2023-02-20T23:03:17.224Z"
   },
   {
    "duration": 7,
    "start_time": "2023-02-20T23:04:08.841Z"
   },
   {
    "duration": 10,
    "start_time": "2023-02-20T23:04:13.811Z"
   },
   {
    "duration": 4,
    "start_time": "2023-02-20T23:04:56.155Z"
   },
   {
    "duration": 6,
    "start_time": "2023-02-20T23:05:01.285Z"
   },
   {
    "duration": 731,
    "start_time": "2023-02-21T05:14:23.043Z"
   },
   {
    "duration": 710,
    "start_time": "2023-02-21T05:14:23.776Z"
   },
   {
    "duration": 1446,
    "start_time": "2023-02-21T05:14:24.488Z"
   },
   {
    "duration": 15,
    "start_time": "2023-02-21T05:14:25.936Z"
   },
   {
    "duration": 10,
    "start_time": "2023-02-21T05:14:25.953Z"
   },
   {
    "duration": 12,
    "start_time": "2023-02-21T05:14:25.965Z"
   },
   {
    "duration": 29,
    "start_time": "2023-02-21T05:14:25.978Z"
   },
   {
    "duration": 14,
    "start_time": "2023-02-21T05:14:26.009Z"
   },
   {
    "duration": 13,
    "start_time": "2023-02-21T05:14:26.025Z"
   },
   {
    "duration": 24,
    "start_time": "2023-02-21T05:14:26.042Z"
   },
   {
    "duration": 116,
    "start_time": "2023-02-21T05:14:26.092Z"
   },
   {
    "duration": 378,
    "start_time": "2023-02-21T05:14:26.209Z"
   },
   {
    "duration": 11,
    "start_time": "2023-02-21T05:14:26.588Z"
   },
   {
    "duration": 45,
    "start_time": "2023-02-21T05:14:26.600Z"
   },
   {
    "duration": 16,
    "start_time": "2023-02-21T05:14:26.647Z"
   },
   {
    "duration": 128,
    "start_time": "2023-02-21T05:14:26.665Z"
   },
   {
    "duration": 103,
    "start_time": "2023-02-21T05:14:26.798Z"
   },
   {
    "duration": 20,
    "start_time": "2023-02-21T05:14:26.902Z"
   },
   {
    "duration": 107,
    "start_time": "2023-02-21T05:14:26.992Z"
   },
   {
    "duration": 14,
    "start_time": "2023-02-21T05:14:27.101Z"
   },
   {
    "duration": 176,
    "start_time": "2023-02-21T05:14:27.117Z"
   },
   {
    "duration": 7,
    "start_time": "2023-02-21T05:14:27.295Z"
   },
   {
    "duration": 4,
    "start_time": "2023-02-21T05:14:27.304Z"
   },
   {
    "duration": 9,
    "start_time": "2023-02-21T05:14:27.309Z"
   },
   {
    "duration": 4,
    "start_time": "2023-02-21T05:14:27.320Z"
   },
   {
    "duration": 5,
    "start_time": "2023-02-21T05:14:27.325Z"
   },
   {
    "duration": 11,
    "start_time": "2023-02-21T05:14:27.331Z"
   },
   {
    "duration": 4,
    "start_time": "2023-02-21T05:14:27.345Z"
   },
   {
    "duration": 42,
    "start_time": "2023-02-21T05:14:27.350Z"
   },
   {
    "duration": 10,
    "start_time": "2023-02-21T05:14:27.394Z"
   },
   {
    "duration": 5,
    "start_time": "2023-02-21T05:14:27.407Z"
   },
   {
    "duration": 12,
    "start_time": "2023-02-21T05:14:27.414Z"
   },
   {
    "duration": 8,
    "start_time": "2023-02-21T05:14:27.427Z"
   },
   {
    "duration": 7,
    "start_time": "2023-02-21T05:14:27.437Z"
   },
   {
    "duration": 5,
    "start_time": "2023-02-21T05:14:27.446Z"
   },
   {
    "duration": 8,
    "start_time": "2023-02-21T05:14:27.453Z"
   },
   {
    "duration": 4,
    "start_time": "2023-02-21T05:14:27.462Z"
   },
   {
    "duration": 6,
    "start_time": "2023-02-21T05:14:27.492Z"
   },
   {
    "duration": 4,
    "start_time": "2023-02-21T05:14:27.500Z"
   },
   {
    "duration": 6,
    "start_time": "2023-02-21T05:14:27.505Z"
   },
   {
    "duration": 6,
    "start_time": "2023-02-21T05:14:27.512Z"
   },
   {
    "duration": 5,
    "start_time": "2023-02-21T05:14:27.520Z"
   },
   {
    "duration": 2298,
    "start_time": "2023-02-21T05:14:27.526Z"
   },
   {
    "duration": 166,
    "start_time": "2023-02-21T05:14:29.826Z"
   },
   {
    "duration": 0,
    "start_time": "2023-02-21T05:14:29.994Z"
   },
   {
    "duration": 4,
    "start_time": "2023-02-21T05:16:23.011Z"
   },
   {
    "duration": 6,
    "start_time": "2023-02-21T05:16:29.720Z"
   },
   {
    "duration": 2180,
    "start_time": "2023-02-21T05:16:32.527Z"
   },
   {
    "duration": 6,
    "start_time": "2023-02-21T05:19:51.637Z"
   },
   {
    "duration": 5,
    "start_time": "2023-02-21T05:19:57.587Z"
   },
   {
    "duration": 38,
    "start_time": "2023-02-21T05:20:01.082Z"
   },
   {
    "duration": 4,
    "start_time": "2023-02-21T05:32:20.093Z"
   },
   {
    "duration": 6,
    "start_time": "2023-02-21T05:32:25.268Z"
   },
   {
    "duration": 43,
    "start_time": "2023-02-21T05:32:29.031Z"
   },
   {
    "duration": 5,
    "start_time": "2023-02-21T05:37:49.395Z"
   },
   {
    "duration": 8,
    "start_time": "2023-02-21T05:37:54.691Z"
   },
   {
    "duration": 3447,
    "start_time": "2023-02-21T05:37:58.350Z"
   },
   {
    "duration": 4,
    "start_time": "2023-02-21T05:38:34.608Z"
   },
   {
    "duration": 5,
    "start_time": "2023-02-21T05:38:38.386Z"
   },
   {
    "duration": 4249,
    "start_time": "2023-02-21T05:38:44.323Z"
   },
   {
    "duration": 5,
    "start_time": "2023-02-21T05:43:25.794Z"
   },
   {
    "duration": 7,
    "start_time": "2023-02-21T05:43:30.352Z"
   },
   {
    "duration": 2216,
    "start_time": "2023-02-21T05:43:32.774Z"
   },
   {
    "duration": 2184,
    "start_time": "2023-02-21T05:43:38.944Z"
   },
   {
    "duration": 2215,
    "start_time": "2023-02-21T05:43:47.854Z"
   },
   {
    "duration": 4,
    "start_time": "2023-02-21T05:44:14.105Z"
   },
   {
    "duration": 4,
    "start_time": "2023-02-21T05:51:30.808Z"
   },
   {
    "duration": 6,
    "start_time": "2023-02-21T05:51:35.413Z"
   },
   {
    "duration": 41,
    "start_time": "2023-02-21T05:51:38.638Z"
   },
   {
    "duration": 6,
    "start_time": "2023-02-21T05:55:21.201Z"
   },
   {
    "duration": 6,
    "start_time": "2023-02-21T05:55:24.053Z"
   },
   {
    "duration": 5,
    "start_time": "2023-02-21T05:55:28.097Z"
   },
   {
    "duration": 3222,
    "start_time": "2023-02-21T05:55:30.473Z"
   },
   {
    "duration": 3,
    "start_time": "2023-02-21T05:58:35.494Z"
   },
   {
    "duration": 6,
    "start_time": "2023-02-21T05:58:42.796Z"
   },
   {
    "duration": 41,
    "start_time": "2023-02-21T05:58:48.051Z"
   },
   {
    "duration": 3,
    "start_time": "2023-02-21T05:58:56.953Z"
   },
   {
    "duration": 6,
    "start_time": "2023-02-21T05:59:04.560Z"
   },
   {
    "duration": 2508,
    "start_time": "2023-02-21T05:59:08.897Z"
   },
   {
    "duration": 4,
    "start_time": "2023-02-21T06:05:14.372Z"
   },
   {
    "duration": 7,
    "start_time": "2023-02-21T06:05:18.433Z"
   },
   {
    "duration": 50,
    "start_time": "2023-02-21T06:05:20.878Z"
   },
   {
    "duration": 576,
    "start_time": "2023-02-21T06:05:27.733Z"
   },
   {
    "duration": 773,
    "start_time": "2023-02-21T06:05:28.311Z"
   },
   {
    "duration": 370,
    "start_time": "2023-02-21T06:05:29.085Z"
   },
   {
    "duration": 17,
    "start_time": "2023-02-21T06:05:29.457Z"
   },
   {
    "duration": 21,
    "start_time": "2023-02-21T06:05:29.475Z"
   },
   {
    "duration": 10,
    "start_time": "2023-02-21T06:05:29.498Z"
   },
   {
    "duration": 16,
    "start_time": "2023-02-21T06:05:29.510Z"
   },
   {
    "duration": 13,
    "start_time": "2023-02-21T06:05:29.527Z"
   },
   {
    "duration": 13,
    "start_time": "2023-02-21T06:05:29.542Z"
   },
   {
    "duration": 48,
    "start_time": "2023-02-21T06:05:29.557Z"
   },
   {
    "duration": 120,
    "start_time": "2023-02-21T06:05:29.606Z"
   },
   {
    "duration": 278,
    "start_time": "2023-02-21T06:05:29.727Z"
   },
   {
    "duration": 13,
    "start_time": "2023-02-21T06:05:30.007Z"
   },
   {
    "duration": 41,
    "start_time": "2023-02-21T06:05:30.022Z"
   },
   {
    "duration": 31,
    "start_time": "2023-02-21T06:05:30.065Z"
   },
   {
    "duration": 96,
    "start_time": "2023-02-21T06:05:30.098Z"
   },
   {
    "duration": 102,
    "start_time": "2023-02-21T06:05:30.195Z"
   },
   {
    "duration": 92,
    "start_time": "2023-02-21T06:05:30.300Z"
   },
   {
    "duration": 119,
    "start_time": "2023-02-21T06:05:30.394Z"
   },
   {
    "duration": 81,
    "start_time": "2023-02-21T06:05:30.515Z"
   },
   {
    "duration": 95,
    "start_time": "2023-02-21T06:05:30.598Z"
   },
   {
    "duration": 24,
    "start_time": "2023-02-21T06:05:30.695Z"
   },
   {
    "duration": 16,
    "start_time": "2023-02-21T06:05:30.721Z"
   },
   {
    "duration": 30,
    "start_time": "2023-02-21T06:05:30.739Z"
   },
   {
    "duration": 29,
    "start_time": "2023-02-21T06:05:30.771Z"
   },
   {
    "duration": 12,
    "start_time": "2023-02-21T06:05:30.802Z"
   },
   {
    "duration": 13,
    "start_time": "2023-02-21T06:05:30.816Z"
   },
   {
    "duration": 16,
    "start_time": "2023-02-21T06:05:30.832Z"
   },
   {
    "duration": 15,
    "start_time": "2023-02-21T06:05:30.849Z"
   },
   {
    "duration": 14,
    "start_time": "2023-02-21T06:05:30.865Z"
   },
   {
    "duration": 3,
    "start_time": "2023-02-21T06:05:30.880Z"
   },
   {
    "duration": 6,
    "start_time": "2023-02-21T06:05:30.885Z"
   },
   {
    "duration": 7,
    "start_time": "2023-02-21T06:05:30.893Z"
   },
   {
    "duration": 9,
    "start_time": "2023-02-21T06:05:30.902Z"
   },
   {
    "duration": 7,
    "start_time": "2023-02-21T06:05:30.912Z"
   },
   {
    "duration": 8,
    "start_time": "2023-02-21T06:05:30.921Z"
   },
   {
    "duration": 6,
    "start_time": "2023-02-21T06:05:30.930Z"
   },
   {
    "duration": 11,
    "start_time": "2023-02-21T06:05:30.938Z"
   },
   {
    "duration": 5,
    "start_time": "2023-02-21T06:05:30.950Z"
   },
   {
    "duration": 10,
    "start_time": "2023-02-21T06:05:30.956Z"
   },
   {
    "duration": 26,
    "start_time": "2023-02-21T06:05:30.968Z"
   },
   {
    "duration": 8,
    "start_time": "2023-02-21T06:05:30.996Z"
   },
   {
    "duration": 180,
    "start_time": "2023-02-21T06:05:31.006Z"
   },
   {
    "duration": 0,
    "start_time": "2023-02-21T06:05:31.191Z"
   },
   {
    "duration": 0,
    "start_time": "2023-02-21T06:05:31.193Z"
   },
   {
    "duration": 5,
    "start_time": "2023-02-21T06:06:16.280Z"
   },
   {
    "duration": 6,
    "start_time": "2023-02-21T06:06:20.680Z"
   },
   {
    "duration": 40,
    "start_time": "2023-02-21T06:06:22.870Z"
   },
   {
    "duration": 11,
    "start_time": "2023-02-21T06:08:47.213Z"
   },
   {
    "duration": 4,
    "start_time": "2023-02-21T06:09:15.503Z"
   },
   {
    "duration": 9,
    "start_time": "2023-02-21T06:09:17.717Z"
   },
   {
    "duration": 4,
    "start_time": "2023-02-21T06:15:19.717Z"
   },
   {
    "duration": 13,
    "start_time": "2023-02-21T06:15:25.021Z"
   },
   {
    "duration": 45,
    "start_time": "2023-02-21T06:15:27.729Z"
   },
   {
    "duration": 603,
    "start_time": "2023-02-21T06:15:36.121Z"
   },
   {
    "duration": 682,
    "start_time": "2023-02-21T06:15:36.726Z"
   },
   {
    "duration": 364,
    "start_time": "2023-02-21T06:15:37.409Z"
   },
   {
    "duration": 16,
    "start_time": "2023-02-21T06:15:37.776Z"
   },
   {
    "duration": 11,
    "start_time": "2023-02-21T06:15:37.793Z"
   },
   {
    "duration": 12,
    "start_time": "2023-02-21T06:15:37.805Z"
   },
   {
    "duration": 15,
    "start_time": "2023-02-21T06:15:37.818Z"
   },
   {
    "duration": 13,
    "start_time": "2023-02-21T06:15:37.834Z"
   },
   {
    "duration": 49,
    "start_time": "2023-02-21T06:15:37.848Z"
   },
   {
    "duration": 19,
    "start_time": "2023-02-21T06:15:37.900Z"
   },
   {
    "duration": 125,
    "start_time": "2023-02-21T06:15:37.920Z"
   },
   {
    "duration": 271,
    "start_time": "2023-02-21T06:15:38.046Z"
   },
   {
    "duration": 12,
    "start_time": "2023-02-21T06:15:38.319Z"
   },
   {
    "duration": 33,
    "start_time": "2023-02-21T06:15:38.333Z"
   },
   {
    "duration": 28,
    "start_time": "2023-02-21T06:15:38.368Z"
   },
   {
    "duration": 93,
    "start_time": "2023-02-21T06:15:38.397Z"
   },
   {
    "duration": 104,
    "start_time": "2023-02-21T06:15:38.493Z"
   },
   {
    "duration": 23,
    "start_time": "2023-02-21T06:15:38.599Z"
   },
   {
    "duration": 106,
    "start_time": "2023-02-21T06:15:38.693Z"
   },
   {
    "duration": 18,
    "start_time": "2023-02-21T06:15:38.801Z"
   },
   {
    "duration": 6,
    "start_time": "2023-02-21T06:15:38.893Z"
   },
   {
    "duration": 93,
    "start_time": "2023-02-21T06:15:38.901Z"
   },
   {
    "duration": 5,
    "start_time": "2023-02-21T06:15:38.996Z"
   },
   {
    "duration": 11,
    "start_time": "2023-02-21T06:15:39.003Z"
   },
   {
    "duration": 5,
    "start_time": "2023-02-21T06:15:39.015Z"
   },
   {
    "duration": 6,
    "start_time": "2023-02-21T06:15:39.022Z"
   },
   {
    "duration": 10,
    "start_time": "2023-02-21T06:15:39.029Z"
   },
   {
    "duration": 4,
    "start_time": "2023-02-21T06:15:39.042Z"
   },
   {
    "duration": 16,
    "start_time": "2023-02-21T06:15:39.048Z"
   },
   {
    "duration": 30,
    "start_time": "2023-02-21T06:15:39.066Z"
   },
   {
    "duration": 4,
    "start_time": "2023-02-21T06:15:39.098Z"
   },
   {
    "duration": 4,
    "start_time": "2023-02-21T06:15:39.104Z"
   },
   {
    "duration": 4,
    "start_time": "2023-02-21T06:15:39.110Z"
   },
   {
    "duration": 7,
    "start_time": "2023-02-21T06:15:39.116Z"
   },
   {
    "duration": 5,
    "start_time": "2023-02-21T06:15:39.125Z"
   },
   {
    "duration": 9,
    "start_time": "2023-02-21T06:15:39.131Z"
   },
   {
    "duration": 6,
    "start_time": "2023-02-21T06:15:39.141Z"
   },
   {
    "duration": 8,
    "start_time": "2023-02-21T06:15:39.148Z"
   },
   {
    "duration": 6,
    "start_time": "2023-02-21T06:15:39.192Z"
   },
   {
    "duration": 5,
    "start_time": "2023-02-21T06:15:39.200Z"
   },
   {
    "duration": 5,
    "start_time": "2023-02-21T06:15:39.206Z"
   },
   {
    "duration": 5,
    "start_time": "2023-02-21T06:15:39.213Z"
   },
   {
    "duration": 6,
    "start_time": "2023-02-21T06:15:39.219Z"
   },
   {
    "duration": 189,
    "start_time": "2023-02-21T06:15:39.227Z"
   },
   {
    "duration": 0,
    "start_time": "2023-02-21T06:15:39.418Z"
   },
   {
    "duration": 0,
    "start_time": "2023-02-21T06:15:39.419Z"
   },
   {
    "duration": 4,
    "start_time": "2023-02-21T06:23:30.172Z"
   },
   {
    "duration": 49,
    "start_time": "2023-02-21T06:23:34.974Z"
   },
   {
    "duration": 5,
    "start_time": "2023-02-21T06:24:29.500Z"
   },
   {
    "duration": 7,
    "start_time": "2023-02-21T06:24:33.411Z"
   },
   {
    "duration": 46,
    "start_time": "2023-02-21T06:24:36.772Z"
   },
   {
    "duration": 3,
    "start_time": "2023-02-21T06:29:08.694Z"
   },
   {
    "duration": 7,
    "start_time": "2023-02-21T06:29:16.348Z"
   },
   {
    "duration": 2417,
    "start_time": "2023-02-21T06:29:20.380Z"
   },
   {
    "duration": 4,
    "start_time": "2023-02-21T06:30:12.726Z"
   },
   {
    "duration": 6,
    "start_time": "2023-02-21T06:30:18.610Z"
   },
   {
    "duration": 4320,
    "start_time": "2023-02-21T06:30:22.643Z"
   },
   {
    "duration": 607,
    "start_time": "2023-02-21T06:38:09.595Z"
   },
   {
    "duration": 731,
    "start_time": "2023-02-21T06:38:10.204Z"
   },
   {
    "duration": 363,
    "start_time": "2023-02-21T06:38:10.936Z"
   },
   {
    "duration": 19,
    "start_time": "2023-02-21T06:38:11.302Z"
   },
   {
    "duration": 12,
    "start_time": "2023-02-21T06:38:11.322Z"
   },
   {
    "duration": 13,
    "start_time": "2023-02-21T06:38:11.336Z"
   },
   {
    "duration": 14,
    "start_time": "2023-02-21T06:38:11.350Z"
   },
   {
    "duration": 13,
    "start_time": "2023-02-21T06:38:11.391Z"
   },
   {
    "duration": 14,
    "start_time": "2023-02-21T06:38:11.406Z"
   },
   {
    "duration": 19,
    "start_time": "2023-02-21T06:38:11.423Z"
   },
   {
    "duration": 136,
    "start_time": "2023-02-21T06:38:11.444Z"
   },
   {
    "duration": 275,
    "start_time": "2023-02-21T06:38:11.581Z"
   },
   {
    "duration": 14,
    "start_time": "2023-02-21T06:38:11.858Z"
   },
   {
    "duration": 47,
    "start_time": "2023-02-21T06:38:11.874Z"
   },
   {
    "duration": 16,
    "start_time": "2023-02-21T06:38:11.923Z"
   },
   {
    "duration": 62,
    "start_time": "2023-02-21T06:38:11.940Z"
   },
   {
    "duration": 95,
    "start_time": "2023-02-21T06:38:12.005Z"
   },
   {
    "duration": 91,
    "start_time": "2023-02-21T06:38:12.102Z"
   },
   {
    "duration": 105,
    "start_time": "2023-02-21T06:38:12.195Z"
   },
   {
    "duration": 16,
    "start_time": "2023-02-21T06:38:12.301Z"
   },
   {
    "duration": 74,
    "start_time": "2023-02-21T06:38:12.320Z"
   },
   {
    "duration": 0,
    "start_time": "2023-02-21T06:38:12.397Z"
   },
   {
    "duration": 0,
    "start_time": "2023-02-21T06:38:12.398Z"
   },
   {
    "duration": 0,
    "start_time": "2023-02-21T06:38:12.399Z"
   },
   {
    "duration": 0,
    "start_time": "2023-02-21T06:38:12.400Z"
   },
   {
    "duration": 0,
    "start_time": "2023-02-21T06:38:12.401Z"
   },
   {
    "duration": 0,
    "start_time": "2023-02-21T06:38:12.402Z"
   },
   {
    "duration": 0,
    "start_time": "2023-02-21T06:38:12.403Z"
   },
   {
    "duration": 0,
    "start_time": "2023-02-21T06:38:12.403Z"
   },
   {
    "duration": 0,
    "start_time": "2023-02-21T06:38:12.404Z"
   },
   {
    "duration": 0,
    "start_time": "2023-02-21T06:38:12.405Z"
   },
   {
    "duration": 0,
    "start_time": "2023-02-21T06:38:12.406Z"
   },
   {
    "duration": 0,
    "start_time": "2023-02-21T06:38:12.492Z"
   },
   {
    "duration": 0,
    "start_time": "2023-02-21T06:38:12.494Z"
   },
   {
    "duration": 0,
    "start_time": "2023-02-21T06:38:12.496Z"
   },
   {
    "duration": 0,
    "start_time": "2023-02-21T06:38:12.497Z"
   },
   {
    "duration": 0,
    "start_time": "2023-02-21T06:38:12.499Z"
   },
   {
    "duration": 0,
    "start_time": "2023-02-21T06:38:12.503Z"
   },
   {
    "duration": 0,
    "start_time": "2023-02-21T06:38:12.504Z"
   },
   {
    "duration": 0,
    "start_time": "2023-02-21T06:38:12.505Z"
   },
   {
    "duration": 0,
    "start_time": "2023-02-21T06:38:12.506Z"
   },
   {
    "duration": 0,
    "start_time": "2023-02-21T06:38:12.508Z"
   },
   {
    "duration": 0,
    "start_time": "2023-02-21T06:38:12.509Z"
   },
   {
    "duration": 0,
    "start_time": "2023-02-21T06:38:12.510Z"
   },
   {
    "duration": 0,
    "start_time": "2023-02-21T06:38:12.511Z"
   },
   {
    "duration": 0,
    "start_time": "2023-02-21T06:38:12.513Z"
   },
   {
    "duration": 669,
    "start_time": "2023-02-21T06:38:26.183Z"
   },
   {
    "duration": 739,
    "start_time": "2023-02-21T06:38:26.854Z"
   },
   {
    "duration": 362,
    "start_time": "2023-02-21T06:38:27.594Z"
   },
   {
    "duration": 15,
    "start_time": "2023-02-21T06:38:27.959Z"
   },
   {
    "duration": 20,
    "start_time": "2023-02-21T06:38:27.976Z"
   },
   {
    "duration": 12,
    "start_time": "2023-02-21T06:38:27.998Z"
   },
   {
    "duration": 16,
    "start_time": "2023-02-21T06:38:28.011Z"
   },
   {
    "duration": 13,
    "start_time": "2023-02-21T06:38:28.029Z"
   },
   {
    "duration": 13,
    "start_time": "2023-02-21T06:38:28.043Z"
   },
   {
    "duration": 47,
    "start_time": "2023-02-21T06:38:28.058Z"
   },
   {
    "duration": 125,
    "start_time": "2023-02-21T06:38:28.106Z"
   },
   {
    "duration": 261,
    "start_time": "2023-02-21T06:38:28.233Z"
   },
   {
    "duration": 12,
    "start_time": "2023-02-21T06:38:28.496Z"
   },
   {
    "duration": 47,
    "start_time": "2023-02-21T06:38:28.510Z"
   },
   {
    "duration": 12,
    "start_time": "2023-02-21T06:38:28.559Z"
   },
   {
    "duration": 40,
    "start_time": "2023-02-21T06:38:28.573Z"
   },
   {
    "duration": 177,
    "start_time": "2023-02-21T06:38:28.614Z"
   },
   {
    "duration": 19,
    "start_time": "2023-02-21T06:38:28.794Z"
   },
   {
    "duration": 85,
    "start_time": "2023-02-21T06:38:28.815Z"
   },
   {
    "duration": 117,
    "start_time": "2023-02-21T06:38:28.902Z"
   },
   {
    "duration": 79,
    "start_time": "2023-02-21T06:38:29.022Z"
   },
   {
    "duration": 7,
    "start_time": "2023-02-21T06:38:29.191Z"
   },
   {
    "duration": 7,
    "start_time": "2023-02-21T06:38:29.200Z"
   },
   {
    "duration": 7,
    "start_time": "2023-02-21T06:38:29.209Z"
   },
   {
    "duration": 14,
    "start_time": "2023-02-21T06:38:29.217Z"
   },
   {
    "duration": 4,
    "start_time": "2023-02-21T06:38:29.232Z"
   },
   {
    "duration": 4,
    "start_time": "2023-02-21T06:38:29.238Z"
   },
   {
    "duration": 9,
    "start_time": "2023-02-21T06:38:29.245Z"
   },
   {
    "duration": 5,
    "start_time": "2023-02-21T06:38:29.256Z"
   },
   {
    "duration": 6,
    "start_time": "2023-02-21T06:38:29.291Z"
   },
   {
    "duration": 10,
    "start_time": "2023-02-21T06:38:29.298Z"
   },
   {
    "duration": 4,
    "start_time": "2023-02-21T06:38:29.310Z"
   },
   {
    "duration": 5,
    "start_time": "2023-02-21T06:38:29.315Z"
   },
   {
    "duration": 6,
    "start_time": "2023-02-21T06:38:29.321Z"
   },
   {
    "duration": 10,
    "start_time": "2023-02-21T06:38:29.328Z"
   },
   {
    "duration": 6,
    "start_time": "2023-02-21T06:38:29.340Z"
   },
   {
    "duration": 6,
    "start_time": "2023-02-21T06:38:29.348Z"
   },
   {
    "duration": 38,
    "start_time": "2023-02-21T06:38:29.356Z"
   },
   {
    "duration": 13,
    "start_time": "2023-02-21T06:38:29.395Z"
   },
   {
    "duration": 8,
    "start_time": "2023-02-21T06:38:29.410Z"
   },
   {
    "duration": 7,
    "start_time": "2023-02-21T06:38:29.420Z"
   },
   {
    "duration": 6,
    "start_time": "2023-02-21T06:38:29.428Z"
   },
   {
    "duration": 10,
    "start_time": "2023-02-21T06:38:29.435Z"
   },
   {
    "duration": 3704,
    "start_time": "2023-02-21T06:38:29.446Z"
   },
   {
    "duration": 3625,
    "start_time": "2023-02-21T06:38:33.152Z"
   },
   {
    "duration": 3536,
    "start_time": "2023-02-21T06:38:36.779Z"
   },
   {
    "duration": 6,
    "start_time": "2023-02-21T06:40:45.715Z"
   },
   {
    "duration": 6,
    "start_time": "2023-02-21T06:40:46.482Z"
   },
   {
    "duration": 71,
    "start_time": "2023-02-21T06:40:55.579Z"
   },
   {
    "duration": 3395,
    "start_time": "2023-02-21T06:40:59.113Z"
   },
   {
    "duration": 100,
    "start_time": "2023-02-21T06:49:14.382Z"
   },
   {
    "duration": 4,
    "start_time": "2023-02-21T06:55:30.605Z"
   },
   {
    "duration": 4,
    "start_time": "2023-02-21T06:55:31.477Z"
   },
   {
    "duration": 5,
    "start_time": "2023-02-21T06:55:37.112Z"
   },
   {
    "duration": 3217,
    "start_time": "2023-02-21T06:55:39.775Z"
   },
   {
    "duration": 3,
    "start_time": "2023-02-21T06:57:22.797Z"
   },
   {
    "duration": 8,
    "start_time": "2023-02-21T06:57:28.740Z"
   },
   {
    "duration": 4,
    "start_time": "2023-02-21T06:58:27.881Z"
   },
   {
    "duration": 6,
    "start_time": "2023-02-21T06:58:32.345Z"
   },
   {
    "duration": 46,
    "start_time": "2023-02-21T06:58:34.381Z"
   },
   {
    "duration": 4,
    "start_time": "2023-02-21T06:58:57.389Z"
   },
   {
    "duration": 6,
    "start_time": "2023-02-21T06:59:01.069Z"
   },
   {
    "duration": 43,
    "start_time": "2023-02-21T06:59:03.940Z"
   },
   {
    "duration": 5,
    "start_time": "2023-02-21T07:00:39.214Z"
   },
   {
    "duration": 7,
    "start_time": "2023-02-21T07:00:57.475Z"
   },
   {
    "duration": 4,
    "start_time": "2023-02-21T07:03:23.408Z"
   },
   {
    "duration": 8,
    "start_time": "2023-02-21T07:03:24.046Z"
   },
   {
    "duration": 4,
    "start_time": "2023-02-21T07:04:08.955Z"
   },
   {
    "duration": 6,
    "start_time": "2023-02-21T07:04:10.706Z"
   },
   {
    "duration": 7,
    "start_time": "2023-02-21T07:05:57.118Z"
   },
   {
    "duration": 4,
    "start_time": "2023-02-21T07:06:03.461Z"
   },
   {
    "duration": 6,
    "start_time": "2023-02-21T07:06:03.947Z"
   },
   {
    "duration": 4,
    "start_time": "2023-02-21T07:12:28.914Z"
   },
   {
    "duration": 8,
    "start_time": "2023-02-21T07:12:29.675Z"
   },
   {
    "duration": 20,
    "start_time": "2023-02-21T07:13:09.288Z"
   },
   {
    "duration": 5,
    "start_time": "2023-02-21T07:13:46.341Z"
   },
   {
    "duration": 11,
    "start_time": "2023-02-21T07:13:49.644Z"
   },
   {
    "duration": 8,
    "start_time": "2023-02-21T07:15:25.218Z"
   },
   {
    "duration": 11,
    "start_time": "2023-02-21T07:15:30.225Z"
   },
   {
    "duration": 4,
    "start_time": "2023-02-21T07:21:41.171Z"
   },
   {
    "duration": 9,
    "start_time": "2023-02-21T07:21:43.248Z"
   },
   {
    "duration": 11,
    "start_time": "2023-02-21T07:22:10.587Z"
   },
   {
    "duration": 3,
    "start_time": "2023-02-21T07:22:13.359Z"
   },
   {
    "duration": 7,
    "start_time": "2023-02-21T07:22:14.272Z"
   },
   {
    "duration": 16,
    "start_time": "2023-02-21T07:23:02.769Z"
   },
   {
    "duration": 12,
    "start_time": "2023-02-21T07:23:14.032Z"
   },
   {
    "duration": 7,
    "start_time": "2023-02-21T07:23:30.682Z"
   },
   {
    "duration": 5,
    "start_time": "2023-02-21T07:24:45.696Z"
   },
   {
    "duration": 8,
    "start_time": "2023-02-21T07:24:50.216Z"
   },
   {
    "duration": 9,
    "start_time": "2023-02-21T07:24:56.307Z"
   },
   {
    "duration": 4,
    "start_time": "2023-02-21T07:25:51.339Z"
   },
   {
    "duration": 9,
    "start_time": "2023-02-21T07:25:54.063Z"
   },
   {
    "duration": 3,
    "start_time": "2023-02-21T07:26:21.585Z"
   },
   {
    "duration": 10,
    "start_time": "2023-02-21T07:26:22.257Z"
   },
   {
    "duration": 15,
    "start_time": "2023-02-21T07:27:01.005Z"
   },
   {
    "duration": 4,
    "start_time": "2023-02-21T07:27:04.585Z"
   },
   {
    "duration": 8,
    "start_time": "2023-02-21T07:27:07.738Z"
   },
   {
    "duration": 9,
    "start_time": "2023-02-21T07:27:12.024Z"
   },
   {
    "duration": 4,
    "start_time": "2023-02-21T07:27:41.905Z"
   },
   {
    "duration": 15,
    "start_time": "2023-02-21T07:27:45.087Z"
   },
   {
    "duration": 4,
    "start_time": "2023-02-21T07:28:05.024Z"
   },
   {
    "duration": 8,
    "start_time": "2023-02-21T07:28:13.687Z"
   },
   {
    "duration": 3,
    "start_time": "2023-02-21T07:28:57.376Z"
   },
   {
    "duration": 8,
    "start_time": "2023-02-21T07:29:05.060Z"
   },
   {
    "duration": 9,
    "start_time": "2023-02-21T07:29:59.013Z"
   },
   {
    "duration": 16,
    "start_time": "2023-02-21T07:30:02.447Z"
   },
   {
    "duration": 4,
    "start_time": "2023-02-21T07:32:00.129Z"
   },
   {
    "duration": 21,
    "start_time": "2023-02-21T07:32:02.832Z"
   },
   {
    "duration": 3,
    "start_time": "2023-02-21T07:33:52.727Z"
   },
   {
    "duration": 22,
    "start_time": "2023-02-21T07:33:57.105Z"
   },
   {
    "duration": 4,
    "start_time": "2023-02-21T07:34:49.961Z"
   },
   {
    "duration": 32,
    "start_time": "2023-02-21T07:34:54.288Z"
   },
   {
    "duration": 21,
    "start_time": "2023-02-21T07:35:52.926Z"
   },
   {
    "duration": 3,
    "start_time": "2023-02-21T07:36:28.246Z"
   },
   {
    "duration": 6,
    "start_time": "2023-02-21T07:36:28.966Z"
   },
   {
    "duration": 4,
    "start_time": "2023-02-21T07:37:10.561Z"
   },
   {
    "duration": 6,
    "start_time": "2023-02-21T07:37:18.118Z"
   },
   {
    "duration": 4,
    "start_time": "2023-02-21T07:37:52.374Z"
   },
   {
    "duration": 7,
    "start_time": "2023-02-21T07:37:53.409Z"
   },
   {
    "duration": 4,
    "start_time": "2023-02-21T07:38:25.945Z"
   },
   {
    "duration": 5,
    "start_time": "2023-02-21T07:38:30.256Z"
   },
   {
    "duration": 3290,
    "start_time": "2023-02-21T07:38:35.992Z"
   },
   {
    "duration": 20,
    "start_time": "2023-02-21T07:41:09.605Z"
   },
   {
    "duration": 21,
    "start_time": "2023-02-21T07:41:23.740Z"
   },
   {
    "duration": 22,
    "start_time": "2023-02-21T07:41:28.972Z"
   },
   {
    "duration": 4,
    "start_time": "2023-02-21T07:41:32.781Z"
   },
   {
    "duration": 7,
    "start_time": "2023-02-21T07:41:34.789Z"
   },
   {
    "duration": 6,
    "start_time": "2023-02-21T07:41:35.542Z"
   },
   {
    "duration": 7,
    "start_time": "2023-02-21T07:41:36.174Z"
   },
   {
    "duration": 4,
    "start_time": "2023-02-21T08:21:20.192Z"
   },
   {
    "duration": 10,
    "start_time": "2023-02-21T08:21:24.812Z"
   },
   {
    "duration": 37,
    "start_time": "2023-02-21T08:21:27.595Z"
   },
   {
    "duration": 9,
    "start_time": "2023-02-21T08:21:36.264Z"
   },
   {
    "duration": 4,
    "start_time": "2023-02-21T08:23:13.927Z"
   },
   {
    "duration": 5,
    "start_time": "2023-02-21T08:23:37.168Z"
   },
   {
    "duration": 7,
    "start_time": "2023-02-21T08:23:44.128Z"
   },
   {
    "duration": 2546,
    "start_time": "2023-02-21T08:23:46.091Z"
   },
   {
    "duration": 4,
    "start_time": "2023-02-21T08:24:17.376Z"
   },
   {
    "duration": 8,
    "start_time": "2023-02-21T08:24:21.441Z"
   },
   {
    "duration": 2911,
    "start_time": "2023-02-21T08:24:24.145Z"
   },
   {
    "duration": 9,
    "start_time": "2023-02-21T08:24:36.097Z"
   },
   {
    "duration": 2733,
    "start_time": "2023-02-21T08:24:38.985Z"
   },
   {
    "duration": 4,
    "start_time": "2023-02-21T08:36:33.236Z"
   },
   {
    "duration": 6,
    "start_time": "2023-02-21T08:36:42.653Z"
   },
   {
    "duration": 45,
    "start_time": "2023-02-21T08:36:45.232Z"
   },
   {
    "duration": 107,
    "start_time": "2023-02-21T08:39:08.628Z"
   },
   {
    "duration": 148,
    "start_time": "2023-02-21T08:39:37.839Z"
   },
   {
    "duration": 98,
    "start_time": "2023-02-21T08:39:59.024Z"
   },
   {
    "duration": 6,
    "start_time": "2023-02-21T08:40:32.341Z"
   },
   {
    "duration": 6,
    "start_time": "2023-02-21T08:40:49.092Z"
   },
   {
    "duration": 44,
    "start_time": "2023-02-21T08:40:54.997Z"
   },
   {
    "duration": 51,
    "start_time": "2023-02-21T08:41:01.142Z"
   },
   {
    "duration": 5,
    "start_time": "2023-02-21T08:41:11.324Z"
   },
   {
    "duration": 6,
    "start_time": "2023-02-21T08:41:14.391Z"
   },
   {
    "duration": 36,
    "start_time": "2023-02-21T08:41:18.126Z"
   },
   {
    "duration": 11,
    "start_time": "2023-02-21T08:41:29.551Z"
   },
   {
    "duration": 4,
    "start_time": "2023-02-21T08:56:18.939Z"
   },
   {
    "duration": 11,
    "start_time": "2023-02-21T08:58:01.787Z"
   },
   {
    "duration": 9,
    "start_time": "2023-02-21T08:58:16.730Z"
   },
   {
    "duration": 9,
    "start_time": "2023-02-21T08:58:34.479Z"
   },
   {
    "duration": 11,
    "start_time": "2023-02-21T08:59:17.497Z"
   },
   {
    "duration": 12,
    "start_time": "2023-02-21T09:00:05.793Z"
   },
   {
    "duration": 3,
    "start_time": "2023-02-21T09:00:33.799Z"
   },
   {
    "duration": 16,
    "start_time": "2023-02-21T09:00:34.371Z"
   },
   {
    "duration": 2,
    "start_time": "2023-02-21T09:04:28.135Z"
   },
   {
    "duration": 11,
    "start_time": "2023-02-21T09:04:28.760Z"
   },
   {
    "duration": 16,
    "start_time": "2023-02-21T09:04:29.327Z"
   },
   {
    "duration": 4,
    "start_time": "2023-02-21T09:07:41.405Z"
   },
   {
    "duration": 4,
    "start_time": "2023-02-21T09:07:55.679Z"
   },
   {
    "duration": 17,
    "start_time": "2023-02-21T09:07:56.368Z"
   },
   {
    "duration": 2,
    "start_time": "2023-02-21T09:13:07.013Z"
   },
   {
    "duration": 4,
    "start_time": "2023-02-21T09:13:07.589Z"
   },
   {
    "duration": 17,
    "start_time": "2023-02-21T09:13:08.212Z"
   },
   {
    "duration": 4,
    "start_time": "2023-02-21T09:15:50.645Z"
   },
   {
    "duration": 6,
    "start_time": "2023-02-21T09:15:51.269Z"
   },
   {
    "duration": 6,
    "start_time": "2023-02-21T09:15:52.884Z"
   },
   {
    "duration": 7,
    "start_time": "2023-02-21T09:15:53.452Z"
   },
   {
    "duration": 4,
    "start_time": "2023-02-21T09:16:01.429Z"
   },
   {
    "duration": 8,
    "start_time": "2023-02-21T09:16:02.086Z"
   },
   {
    "duration": 5,
    "start_time": "2023-02-21T09:16:03.180Z"
   },
   {
    "duration": 6,
    "start_time": "2023-02-21T09:16:03.701Z"
   },
   {
    "duration": 3,
    "start_time": "2023-02-21T09:16:11.566Z"
   },
   {
    "duration": 6,
    "start_time": "2023-02-21T09:16:12.561Z"
   },
   {
    "duration": 5,
    "start_time": "2023-02-21T09:16:14.428Z"
   },
   {
    "duration": 6,
    "start_time": "2023-02-21T09:16:15.180Z"
   },
   {
    "duration": 3,
    "start_time": "2023-02-21T09:16:22.204Z"
   },
   {
    "duration": 7,
    "start_time": "2023-02-21T09:16:22.933Z"
   },
   {
    "duration": 7,
    "start_time": "2023-02-21T09:16:25.014Z"
   },
   {
    "duration": 7,
    "start_time": "2023-02-21T09:16:25.738Z"
   },
   {
    "duration": 4,
    "start_time": "2023-02-21T09:16:39.290Z"
   },
   {
    "duration": 6,
    "start_time": "2023-02-21T09:16:39.830Z"
   },
   {
    "duration": 5,
    "start_time": "2023-02-21T09:16:43.244Z"
   },
   {
    "duration": 7,
    "start_time": "2023-02-21T09:16:46.341Z"
   },
   {
    "duration": 3,
    "start_time": "2023-02-21T09:17:49.292Z"
   },
   {
    "duration": 11,
    "start_time": "2023-02-21T09:17:49.957Z"
   },
   {
    "duration": 4,
    "start_time": "2023-02-21T09:18:09.709Z"
   },
   {
    "duration": 6,
    "start_time": "2023-02-21T09:18:10.815Z"
   },
   {
    "duration": 7,
    "start_time": "2023-02-21T09:18:14.284Z"
   },
   {
    "duration": 10,
    "start_time": "2023-02-21T09:19:46.204Z"
   },
   {
    "duration": 12,
    "start_time": "2023-02-21T09:19:59.145Z"
   },
   {
    "duration": 9,
    "start_time": "2023-02-21T09:19:59.988Z"
   },
   {
    "duration": 4,
    "start_time": "2023-02-21T09:22:00.572Z"
   },
   {
    "duration": 3542,
    "start_time": "2023-02-21T09:22:08.952Z"
   },
   {
    "duration": 4,
    "start_time": "2023-02-21T09:22:42.582Z"
   },
   {
    "duration": 4,
    "start_time": "2023-02-21T09:22:58.871Z"
   },
   {
    "duration": 8,
    "start_time": "2023-02-21T09:23:02.231Z"
   },
   {
    "duration": 49,
    "start_time": "2023-02-21T09:23:05.631Z"
   },
   {
    "duration": 4,
    "start_time": "2023-02-21T09:23:29.899Z"
   },
   {
    "duration": 8,
    "start_time": "2023-02-21T09:23:42.011Z"
   },
   {
    "duration": 3909,
    "start_time": "2023-02-21T09:23:44.787Z"
   },
   {
    "duration": 5,
    "start_time": "2023-02-21T09:24:13.103Z"
   },
   {
    "duration": 5,
    "start_time": "2023-02-21T09:24:19.125Z"
   },
   {
    "duration": 44,
    "start_time": "2023-02-21T09:24:25.280Z"
   },
   {
    "duration": 5,
    "start_time": "2023-02-21T09:25:23.492Z"
   },
   {
    "duration": 10,
    "start_time": "2023-02-21T09:25:27.516Z"
   },
   {
    "duration": 3624,
    "start_time": "2023-02-21T09:25:30.653Z"
   },
   {
    "duration": 3772,
    "start_time": "2023-02-21T09:25:45.419Z"
   },
   {
    "duration": 3730,
    "start_time": "2023-02-21T09:25:49.193Z"
   },
   {
    "duration": 4,
    "start_time": "2023-02-21T09:27:46.068Z"
   },
   {
    "duration": 8,
    "start_time": "2023-02-21T09:27:51.426Z"
   },
   {
    "duration": 682,
    "start_time": "2023-02-21T09:27:54.149Z"
   },
   {
    "duration": 5,
    "start_time": "2023-02-21T09:31:42.146Z"
   },
   {
    "duration": 8,
    "start_time": "2023-02-21T09:31:47.341Z"
   },
   {
    "duration": 47,
    "start_time": "2023-02-21T09:31:50.293Z"
   },
   {
    "duration": 4,
    "start_time": "2023-02-21T09:32:02.617Z"
   },
   {
    "duration": 8,
    "start_time": "2023-02-21T09:32:05.834Z"
   },
   {
    "duration": 42,
    "start_time": "2023-02-21T09:32:08.703Z"
   },
   {
    "duration": 4,
    "start_time": "2023-02-21T09:34:22.363Z"
   },
   {
    "duration": 7,
    "start_time": "2023-02-21T09:34:27.377Z"
   },
   {
    "duration": 1768,
    "start_time": "2023-02-21T09:34:30.554Z"
   },
   {
    "duration": 1815,
    "start_time": "2023-02-21T09:34:35.616Z"
   },
   {
    "duration": 1706,
    "start_time": "2023-02-21T09:34:39.460Z"
   },
   {
    "duration": 4,
    "start_time": "2023-02-21T09:45:28.572Z"
   },
   {
    "duration": 16,
    "start_time": "2023-02-21T09:45:29.204Z"
   },
   {
    "duration": 4,
    "start_time": "2023-02-21T09:49:03.593Z"
   },
   {
    "duration": 18,
    "start_time": "2023-02-21T09:49:04.269Z"
   },
   {
    "duration": 3,
    "start_time": "2023-02-21T09:50:21.620Z"
   },
   {
    "duration": 16,
    "start_time": "2023-02-21T09:50:22.403Z"
   },
   {
    "duration": 4,
    "start_time": "2023-02-21T09:51:19.855Z"
   },
   {
    "duration": 13,
    "start_time": "2023-02-21T09:51:20.820Z"
   },
   {
    "duration": 3,
    "start_time": "2023-02-21T10:03:31.275Z"
   },
   {
    "duration": 7,
    "start_time": "2023-02-21T10:03:32.426Z"
   },
   {
    "duration": 4,
    "start_time": "2023-02-21T10:03:52.796Z"
   },
   {
    "duration": 7,
    "start_time": "2023-02-21T10:03:53.435Z"
   },
   {
    "duration": 3,
    "start_time": "2023-02-21T10:10:14.963Z"
   },
   {
    "duration": 6,
    "start_time": "2023-02-21T10:10:16.009Z"
   },
   {
    "duration": 4,
    "start_time": "2023-02-21T10:10:20.847Z"
   },
   {
    "duration": 7,
    "start_time": "2023-02-21T10:10:21.363Z"
   },
   {
    "duration": 657,
    "start_time": "2023-02-21T10:11:09.793Z"
   },
   {
    "duration": 951,
    "start_time": "2023-02-21T10:11:10.452Z"
   },
   {
    "duration": 550,
    "start_time": "2023-02-21T10:11:11.405Z"
   },
   {
    "duration": 28,
    "start_time": "2023-02-21T10:11:11.957Z"
   },
   {
    "duration": 12,
    "start_time": "2023-02-21T10:11:11.988Z"
   },
   {
    "duration": 14,
    "start_time": "2023-02-21T10:11:12.002Z"
   },
   {
    "duration": 17,
    "start_time": "2023-02-21T10:11:12.017Z"
   },
   {
    "duration": 13,
    "start_time": "2023-02-21T10:11:12.035Z"
   },
   {
    "duration": 13,
    "start_time": "2023-02-21T10:11:12.049Z"
   },
   {
    "duration": 29,
    "start_time": "2023-02-21T10:11:12.091Z"
   },
   {
    "duration": 161,
    "start_time": "2023-02-21T10:11:12.122Z"
   },
   {
    "duration": 263,
    "start_time": "2023-02-21T10:11:12.285Z"
   },
   {
    "duration": 12,
    "start_time": "2023-02-21T10:11:12.550Z"
   },
   {
    "duration": 46,
    "start_time": "2023-02-21T10:11:12.564Z"
   },
   {
    "duration": 13,
    "start_time": "2023-02-21T10:11:12.612Z"
   },
   {
    "duration": 17,
    "start_time": "2023-02-21T10:11:12.626Z"
   },
   {
    "duration": 111,
    "start_time": "2023-02-21T10:11:12.691Z"
   },
   {
    "duration": 24,
    "start_time": "2023-02-21T10:11:12.804Z"
   },
   {
    "duration": 109,
    "start_time": "2023-02-21T10:11:12.891Z"
   },
   {
    "duration": 91,
    "start_time": "2023-02-21T10:11:13.001Z"
   },
   {
    "duration": 106,
    "start_time": "2023-02-21T10:11:13.094Z"
   },
   {
    "duration": 8,
    "start_time": "2023-02-21T10:11:13.202Z"
   },
   {
    "duration": 8,
    "start_time": "2023-02-21T10:11:13.212Z"
   },
   {
    "duration": 10,
    "start_time": "2023-02-21T10:11:13.222Z"
   },
   {
    "duration": 5,
    "start_time": "2023-02-21T10:11:13.233Z"
   },
   {
    "duration": 6,
    "start_time": "2023-02-21T10:11:13.239Z"
   },
   {
    "duration": 10,
    "start_time": "2023-02-21T10:11:13.247Z"
   },
   {
    "duration": 4,
    "start_time": "2023-02-21T10:11:13.261Z"
   },
   {
    "duration": 4,
    "start_time": "2023-02-21T10:11:13.292Z"
   },
   {
    "duration": 12,
    "start_time": "2023-02-21T10:11:13.297Z"
   },
   {
    "duration": 5,
    "start_time": "2023-02-21T10:11:13.311Z"
   },
   {
    "duration": 7,
    "start_time": "2023-02-21T10:11:13.317Z"
   },
   {
    "duration": 6,
    "start_time": "2023-02-21T10:11:13.326Z"
   },
   {
    "duration": 13,
    "start_time": "2023-02-21T10:11:13.333Z"
   },
   {
    "duration": 5,
    "start_time": "2023-02-21T10:11:13.348Z"
   },
   {
    "duration": 36,
    "start_time": "2023-02-21T10:11:13.355Z"
   },
   {
    "duration": 3,
    "start_time": "2023-02-21T10:11:13.393Z"
   },
   {
    "duration": 7,
    "start_time": "2023-02-21T10:11:13.398Z"
   },
   {
    "duration": 16,
    "start_time": "2023-02-21T10:11:13.407Z"
   },
   {
    "duration": 6,
    "start_time": "2023-02-21T10:11:13.425Z"
   },
   {
    "duration": 8,
    "start_time": "2023-02-21T10:11:13.432Z"
   },
   {
    "duration": 5,
    "start_time": "2023-02-21T10:11:13.442Z"
   },
   {
    "duration": 9,
    "start_time": "2023-02-21T10:11:13.449Z"
   },
   {
    "duration": 6,
    "start_time": "2023-02-21T10:11:13.491Z"
   },
   {
    "duration": 15,
    "start_time": "2023-02-21T10:11:13.498Z"
   },
   {
    "duration": 10,
    "start_time": "2023-02-21T10:11:13.515Z"
   },
   {
    "duration": 7,
    "start_time": "2023-02-21T10:11:13.527Z"
   },
   {
    "duration": 1661,
    "start_time": "2023-02-21T10:11:13.536Z"
   },
   {
    "duration": 1771,
    "start_time": "2023-02-21T10:11:15.199Z"
   },
   {
    "duration": 1677,
    "start_time": "2023-02-21T10:11:16.972Z"
   },
   {
    "duration": 48,
    "start_time": "2023-02-21T10:30:11.968Z"
   },
   {
    "duration": 589,
    "start_time": "2023-02-21T10:33:14.656Z"
   },
   {
    "duration": 755,
    "start_time": "2023-02-21T10:33:15.247Z"
   },
   {
    "duration": 389,
    "start_time": "2023-02-21T10:33:16.004Z"
   },
   {
    "duration": 17,
    "start_time": "2023-02-21T10:33:16.395Z"
   },
   {
    "duration": 20,
    "start_time": "2023-02-21T10:33:16.416Z"
   },
   {
    "duration": 22,
    "start_time": "2023-02-21T10:33:16.438Z"
   },
   {
    "duration": 34,
    "start_time": "2023-02-21T10:33:16.463Z"
   },
   {
    "duration": 18,
    "start_time": "2023-02-21T10:33:16.499Z"
   },
   {
    "duration": 29,
    "start_time": "2023-02-21T10:33:16.519Z"
   },
   {
    "duration": 31,
    "start_time": "2023-02-21T10:33:16.549Z"
   },
   {
    "duration": 170,
    "start_time": "2023-02-21T10:33:16.582Z"
   },
   {
    "duration": 278,
    "start_time": "2023-02-21T10:33:16.754Z"
   },
   {
    "duration": 14,
    "start_time": "2023-02-21T10:33:17.033Z"
   },
   {
    "duration": 42,
    "start_time": "2023-02-21T10:33:17.050Z"
   },
   {
    "duration": 13,
    "start_time": "2023-02-21T10:33:17.094Z"
   },
   {
    "duration": 18,
    "start_time": "2023-02-21T10:33:17.109Z"
   },
   {
    "duration": 171,
    "start_time": "2023-02-21T10:33:17.129Z"
   },
   {
    "duration": 192,
    "start_time": "2023-02-21T10:33:17.301Z"
   },
   {
    "duration": 14,
    "start_time": "2023-02-21T10:33:17.494Z"
   },
   {
    "duration": 85,
    "start_time": "2023-02-21T10:33:17.510Z"
   },
   {
    "duration": 94,
    "start_time": "2023-02-21T10:33:17.600Z"
   },
   {
    "duration": 8,
    "start_time": "2023-02-21T10:33:17.695Z"
   },
   {
    "duration": 5,
    "start_time": "2023-02-21T10:33:17.704Z"
   },
   {
    "duration": 13,
    "start_time": "2023-02-21T10:33:17.710Z"
   },
   {
    "duration": 10,
    "start_time": "2023-02-21T10:33:17.724Z"
   },
   {
    "duration": 10,
    "start_time": "2023-02-21T10:33:17.736Z"
   },
   {
    "duration": 10,
    "start_time": "2023-02-21T10:33:17.748Z"
   },
   {
    "duration": 4,
    "start_time": "2023-02-21T10:33:17.760Z"
   },
   {
    "duration": 27,
    "start_time": "2023-02-21T10:33:17.765Z"
   },
   {
    "duration": 9,
    "start_time": "2023-02-21T10:33:17.794Z"
   },
   {
    "duration": 4,
    "start_time": "2023-02-21T10:33:17.805Z"
   },
   {
    "duration": 5,
    "start_time": "2023-02-21T10:33:17.811Z"
   },
   {
    "duration": 7,
    "start_time": "2023-02-21T10:33:17.818Z"
   },
   {
    "duration": 14,
    "start_time": "2023-02-21T10:33:17.828Z"
   },
   {
    "duration": 19,
    "start_time": "2023-02-21T10:33:17.844Z"
   },
   {
    "duration": 26,
    "start_time": "2023-02-21T10:33:17.865Z"
   },
   {
    "duration": 4,
    "start_time": "2023-02-21T10:33:17.893Z"
   },
   {
    "duration": 7,
    "start_time": "2023-02-21T10:33:17.898Z"
   },
   {
    "duration": 10,
    "start_time": "2023-02-21T10:33:17.907Z"
   },
   {
    "duration": 7,
    "start_time": "2023-02-21T10:33:17.918Z"
   },
   {
    "duration": 8,
    "start_time": "2023-02-21T10:33:17.930Z"
   },
   {
    "duration": 5,
    "start_time": "2023-02-21T10:33:17.940Z"
   },
   {
    "duration": 9,
    "start_time": "2023-02-21T10:33:17.946Z"
   },
   {
    "duration": 35,
    "start_time": "2023-02-21T10:33:17.957Z"
   },
   {
    "duration": 4,
    "start_time": "2023-02-21T10:33:17.994Z"
   },
   {
    "duration": 6,
    "start_time": "2023-02-21T10:33:18.000Z"
   },
   {
    "duration": 6,
    "start_time": "2023-02-21T10:33:18.007Z"
   },
   {
    "duration": 1698,
    "start_time": "2023-02-21T10:33:18.015Z"
   },
   {
    "duration": 1791,
    "start_time": "2023-02-21T10:33:19.715Z"
   },
   {
    "duration": 1801,
    "start_time": "2023-02-21T10:33:21.508Z"
   }
  ],
  "kernelspec": {
   "display_name": "Python 3 (ipykernel)",
   "language": "python",
   "name": "python3"
  },
  "language_info": {
   "codemirror_mode": {
    "name": "ipython",
    "version": 3
   },
   "file_extension": ".py",
   "mimetype": "text/x-python",
   "name": "python",
   "nbconvert_exporter": "python",
   "pygments_lexer": "ipython3",
   "version": "3.9.5"
  },
  "toc": {
   "base_numbering": 1,
   "nav_menu": {},
   "number_sections": true,
   "sideBar": true,
   "skip_h1_title": true,
   "title_cell": "Table of Contents",
   "title_sidebar": "Contents",
   "toc_cell": false,
   "toc_position": {},
   "toc_section_display": true,
   "toc_window_display": false
  }
 },
 "nbformat": 4,
 "nbformat_minor": 2
}
